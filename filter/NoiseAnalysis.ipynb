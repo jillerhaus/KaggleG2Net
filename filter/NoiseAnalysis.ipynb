{
 "cells": [
  {
   "cell_type": "markdown",
   "id": "18fa2ea3",
   "metadata": {},
   "source": [
    "# Kaggle G2NET Noise Analysis/Feature Extraction\n",
    "\n",
    "References:\n",
    "\n",
    "[whitening](https://www.gw-openscience.org/GW150914data/LOSC_Event_tutorial_GW150914.html#Whitening)\n",
    "\n",
    "[signal processing](https://github.com/zerafachris/g2net_2nd_training_school_malta_mar_2020/blob/master/lectures/SP_Signal_Processing_Introduction-Eftim_Zdravevski/signal_processing_2_preparing_GW_data.ipynb)"
   ]
  },
  {
   "cell_type": "markdown",
   "id": "43964aa7",
   "metadata": {},
   "source": [
    "Starter EDA. There are two bandpass filters, BPF_alias and BPF_strin[2,12].\n",
    "\n",
    "BPF_alias passband is between low_cut_alias = 18Hz and high_cut_alias=1020Hz. The raw signal is scaled up and BPF_alias[42] then it is either with or without removing the average background[17]. The signal is then whitened[41], then BPF_strain is applied. The BPF_strain passband is low_cut_strain=low_cut_alias+5 between high_cut_strain=high_cut_alias-5.\n",
    "\n",
    "The BPF_alias serves three purposes:\n",
    "\n",
    "* Low_cut_alias removes the unwanted signal below 18Hz. This increases the dynamic range of the signal, especially down cast to lower precision.\n",
    "* Scaling up the signal gives the maximum float64 precision.\n",
    "* High_gut_alias prevents signal freq that is very close to Nyquist from folding back to low frequency. When the freq is too close to Nyquist, ist is difficult to prevent it from aliasing. The only way is to attenuate it. This setting"
   ]
  }
 ],
 "metadata": {
  "kernelspec": {
   "display_name": "Python 3 (ipykernel)",
   "language": "python",
   "name": "python3"
  },
  "language_info": {
   "codemirror_mode": {
    "name": "ipython",
    "version": 3
   },
   "file_extension": ".py",
   "mimetype": "text/x-python",
   "name": "python",
   "nbconvert_exporter": "python",
   "pygments_lexer": "ipython3",
   "version": "3.7.10"
  }
 },
 "nbformat": 4,
 "nbformat_minor": 5
}
