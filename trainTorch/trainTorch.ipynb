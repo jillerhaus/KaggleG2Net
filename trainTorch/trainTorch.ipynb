{
 "cells": [
  {
   "cell_type": "markdown",
   "id": "8cb2eb06",
   "metadata": {},
   "source": [
    "![](https://storage.googleapis.com/kaggle-competitions/kaggle/23249/logos/header.png)"
   ]
  },
  {
   "cell_type": "markdown",
   "id": "c7928647",
   "metadata": {},
   "source": [
    "<a id=\"top\"></a>\n",
    "\n",
    "<div class=\"list-group\" id=\"list-tab\" role=\"tablist\">\n",
    "<h3 class=\"list-group-item list-group-item-action active\" data-toggle=\"list\" style=\"color:white; background:#1777C4; border:0\" role=\"tab\" aria-controls=\"home\">\n",
    "    <center>Quick Navigation</center></h3>\n",
    "\n",
    "  * [Overview](#1)"
   ]
  },
  {
   "cell_type": "markdown",
   "id": "71aa5b22",
   "metadata": {},
   "source": [
    "<a id=\"1\"></a>\n",
    "<h2 style=\"background:#1777C4; border:0; color:white\"><center>Overview<center></h2>"
   ]
  },
  {
   "cell_type": "markdown",
   "id": "34567e35",
   "metadata": {},
   "source": [
    "The work uses some ideas from these works:\n",
    "- [Original](https://www.kaggle.com/ihelon/g2net-eda-and-modeling)\n",
    "- [PyCBC: Making Images](https://www.kaggle.com/alexnitz/pycbc-making-images)\n",
    "- [nnAudio Constan Q-trsnform Demonstration](https://www.kaggle.com/atamazian/nnaudio-constant-q-transform-demonstration)\n",
    "- [G2Net melspectrogram starter code [LB: 0.830]](https://www.kaggle.com/c/g2net-gravitational-wave-detection/discussion/250278)\n"
   ]
  },
  {
   "cell_type": "markdown",
   "id": "09a700d2",
   "metadata": {},
   "source": [
    "In this competition you are provided with atraining set of time series data containing simulated gravitational wave measurements from a network of 3 gravitational wave interferometers (LIGO Hanford, LIGO Livingston, and Virgo). Each time series contains either detector noise or detector noise plus a simulated gravitational wvae signal. The task is to identify when a signal is present in the data (target = 1)."
   ]
  },
  {
   "cell_type": "markdown",
   "id": "0a070662",
   "metadata": {},
   "source": [
    "### Files\n",
    "**train/** - the training set files, one npy file per obervation; labels are provided in training_labels.csv\n",
    "\n",
    "**test/** - the test set of files; you must predict the probability that the observation contains a gravitational wave"
   ]
  },
  {
   "cell_type": "code",
   "execution_count": null,
   "id": "9f3df526",
   "metadata": {},
   "outputs": [],
   "source": []
  }
 ],
 "metadata": {
  "kernelspec": {
   "display_name": "Python 3 (ipykernel)",
   "language": "python",
   "name": "python3"
  },
  "language_info": {
   "codemirror_mode": {
    "name": "ipython",
    "version": 3
   },
   "file_extension": ".py",
   "mimetype": "text/x-python",
   "name": "python",
   "nbconvert_exporter": "python",
   "pygments_lexer": "ipython3",
   "version": "3.9.6"
  }
 },
 "nbformat": 4,
 "nbformat_minor": 5
}
