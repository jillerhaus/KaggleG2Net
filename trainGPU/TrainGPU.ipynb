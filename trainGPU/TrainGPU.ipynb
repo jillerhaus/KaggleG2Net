{
 "cells": [
  {
   "cell_type": "markdown",
   "id": "3fd771de",
   "metadata": {},
   "source": [
    "Choose GPU"
   ]
  },
  {
   "cell_type": "code",
   "execution_count": 1,
   "id": "6394bf7c",
   "metadata": {},
   "outputs": [
    {
     "name": "stdout",
     "output_type": "stream",
     "text": [
      "KAGGLE: False\n"
     ]
    }
   ],
   "source": [
    "import os\n",
    "KAGGLE = True\n",
    "if os.name == \"nt\":\n",
    "    KAGGLE = False\n",
    "print(f\"KAGGLE: {KAGGLE}\")\n",
    "if not KAGGLE:\n",
    "    os.environ[\"CUDA_VISIBLE_DEVICES\"] = \"0\""
   ]
  },
  {
   "cell_type": "code",
   "execution_count": 2,
   "id": "de954822",
   "metadata": {},
   "outputs": [],
   "source": [
    "import tensorflow as tf\n",
    "import numpy as np\n",
    "import pandas as pd\n",
    "import matplotlib.pyplot as plt\n",
    "import seaborn as sns\n",
    "from glob import glob\n",
    "tf.compat.v1.disable_eager_execution()"
   ]
  },
  {
   "cell_type": "code",
   "execution_count": 3,
   "id": "a570d282",
   "metadata": {},
   "outputs": [
    {
     "name": "stdout",
     "output_type": "stream",
     "text": [
      "INFO:tensorflow:Mixed precision compatibility check (mixed_float16): OK\n",
      "Your GPU will likely run quickly with dtype policy mixed_float16 as it has compute capability of at least 7.0. Your GPU: NVIDIA GeForce RTX 3090, compute capability 8.6\n"
     ]
    }
   ],
   "source": [
    "INPUT_DIR = \"../input/g2net-gravitational-wave-detection\"\n",
    "tf.keras.mixed_precision.set_global_policy(\"mixed_float16\")\n",
    "BATCH_SIZE = 256"
   ]
  },
  {
   "cell_type": "code",
   "execution_count": null,
   "id": "3f043e8c",
   "metadata": {},
   "outputs": [],
   "source": []
  },
  {
   "cell_type": "code",
   "execution_count": null,
   "id": "96a5830b",
   "metadata": {},
   "outputs": [],
   "source": []
  },
  {
   "cell_type": "raw",
   "id": "533d45f2",
   "metadata": {},
   "source": [
    "train_df = pd.read_csv(f\"{INPUT_DIR}/training_labels.csv\")\n",
    "train_df.head()"
   ]
  },
  {
   "cell_type": "raw",
   "id": "17af4d7e",
   "metadata": {},
   "source": [
    "file_id = train_df.id[12345]\n",
    "file_id[0]\n",
    "file = np.load(f\"{INPUT_DIR}/train/{file_id[0]}/{file_id[1]}/{file_id[2]}/{file_id}.npy\")\n",
    "plt.plot(file[0])\n",
    "trace = file[0]\n",
    "trace.shape"
   ]
  },
  {
   "cell_type": "raw",
   "id": "669a9ad1",
   "metadata": {},
   "source": [
    "def addPaths(row):\n",
    "    file_id = row[\"id\"]\n",
    "    path = f\"../input/g2net-gravitational-wave-detection/test/{file_id[0]}/{file_id[1]}/{file_id[2]}/{file_id}.npy\"\n",
    "    row[\"path\"] = path\n",
    "    return row"
   ]
  },
  {
   "cell_type": "raw",
   "id": "a10d9851",
   "metadata": {},
   "source": [
    "test_df = pd.read_csv(\"../input/g2net-gravitational-wave-detection/sample_submission.csv\")\n",
    "test_df = test_df.apply(addPaths, axis=1)\n",
    "test_df.to_csv(\"../input/g2net-gravitational-wave-detection/test_paths.csv\", index=False)"
   ]
  },
  {
   "cell_type": "raw",
   "id": "6150ed2a",
   "metadata": {
    "scrolled": true
   },
   "source": [
    "train_df = train_df.apply(addPaths, axis=1)"
   ]
  },
  {
   "cell_type": "raw",
   "id": "10467de7",
   "metadata": {},
   "source": [
    "train_df = pd.read_csv(\"../input/g2net-gravitational-wave-detection/training_labels.csv\")\n",
    "test_df = pd."
   ]
  },
  {
   "cell_type": "raw",
   "id": "78b40773",
   "metadata": {},
   "source": [
    "# index = 213789\n",
    "import gwpy\n",
    "from gwpy.timeseries import TimeSeries\n",
    "from scipy.cluster.vq import whiten\n",
    "from gwpy.signal import filter_design\n",
    "import time\n",
    "from tqdm.notebook import tqdm\n",
    "\n",
    "filts = []\n",
    "for j in range(3):\n",
    "    bp = filter_design.bandpass(50,250, 2048)\n",
    "    if j == 2:\n",
    "        notch_freqs = (50, 100, 150)\n",
    "    else:\n",
    "        notch_freqs = (60, 120, 180)\n",
    "    notches = [filter_design.notch(line, 2048) for line in notch_freqs]\n",
    "    zpk = filter_design.concatenate_zpks(bp, *notches)\n",
    "    filts.append(zpk)\n",
    "\n",
    "\n",
    "train_x=[]\n",
    "train_y=[]\n",
    "for index in tqdm(range(40000)):\n",
    "    ts_data = np.load(train_df.iloc[index].path).astype(np.float32)\n",
    "    \n",
    "    for i in range(3):\n",
    "        measurement = ts_data[i]\n",
    "        ts = TimeSeries(measurement)\n",
    "        ts.sample_rate=2048\n",
    "\n",
    "        zpk = filts[i]\n",
    "        hfilt = ts.filter(zpk, filtfilt=True)\n",
    "        hfilt = whiten(hfilt)\n",
    "        ts_data[i] = np.array(hfilt)\n",
    "    \n",
    "    \n",
    "    ts_data = np.transpose(ts_data, [1,0])\n",
    "#     ts_data = tf.expand_dims(ts_data, axis=0)\n",
    "    ts_data = tf.cast(ts_data, dtype=tf.float32).numpy()\n",
    "    train_x.append(ts_data / (abs(ts_data).max()))\n",
    "    train_y.append([tf.cast(train_df.iloc[index].target,dtype=tf.int64).numpy()])\n",
    "\n",
    "\n",
    "\n",
    "\n",
    "train_x = np.array(train_x)\n",
    "train_y = np.array(train_y)\n"
   ]
  },
  {
   "cell_type": "raw",
   "id": "20288c42",
   "metadata": {},
   "source": [
    "train_x = np.load(f\"{INPUT_DIR}/train_x.npy\")\n",
    "train_y = np.load(f\"{INPUT_DIR}/train_y.npy\")"
   ]
  },
  {
   "cell_type": "raw",
   "id": "1b421d86",
   "metadata": {},
   "source": [
    "train_x = train_x[300000:]\n",
    "train_y = train_y[300000:]"
   ]
  },
  {
   "cell_type": "code",
   "execution_count": null,
   "id": "4f166c80",
   "metadata": {},
   "outputs": [],
   "source": []
  },
  {
   "cell_type": "code",
   "execution_count": 4,
   "id": "0b1e2d07",
   "metadata": {},
   "outputs": [],
   "source": [
    "def load_dataset(files):\n",
    "    dataset = tf.data.TFRecordDataset(files)\n",
    "\n",
    "    def _parse_function(example_proto):\n",
    "        keys_to_feature = {\"X\":tf.io.FixedLenFeature(([4096,3]),tf.float32),\n",
    "                           \"y\":tf.io.FixedLenFeature((), tf.int64, default_value=0)}\n",
    "        parsed_features = tf.io.parse_single_example(example_proto, keys_to_feature)\n",
    "        return parsed_features[\"X\"], parsed_features[\"y\"]\n",
    "\n",
    "    # parse the record into tensors.\n",
    "    dataset = dataset.map(_parse_function)\n",
    "\n",
    "    # shuffle the dataset\n",
    "    dataset = dataset.shuffle(buffer_size=10000)\n",
    "\n",
    "    # Repeat the input infinitely\n",
    "    dataset = dataset.repeat()\n",
    "\n",
    "\n",
    "    # Generate batches\n",
    "    dataset = dataset.batch(BATCH_SIZE)\n",
    "    dataset = dataset.prefetch(-1)\n",
    "    return dataset"
   ]
  },
  {
   "cell_type": "code",
   "execution_count": 5,
   "id": "db72a93e",
   "metadata": {},
   "outputs": [],
   "source": [
    "train_files = []\n",
    "for i in range(3):\n",
    "    train_files.append(f\"train_{i}.tfrec\")\n",
    "\n",
    "train_ds = load_dataset(train_files)\n",
    "val_files = [\"train_3.tfrec\"]\n",
    "val_ds = load_dataset(val_files)"
   ]
  },
  {
   "cell_type": "code",
   "execution_count": null,
   "id": "0679c430",
   "metadata": {},
   "outputs": [],
   "source": []
  },
  {
   "cell_type": "code",
   "execution_count": 6,
   "id": "b09f4b1a",
   "metadata": {},
   "outputs": [
    {
     "data": {
      "text/plain": [
       "21"
      ]
     },
     "execution_count": 6,
     "metadata": {},
     "output_type": "execute_result"
    }
   ],
   "source": [
    "import gc\n",
    "gc.collect()"
   ]
  },
  {
   "cell_type": "raw",
   "id": "54b94a40",
   "metadata": {},
   "source": [
    "train_x = []\n",
    "train_y = []\n",
    "for i in range(10000):\n",
    "    target = np.random.randint(0,2)\n",
    "    ones = np.zeros([3,4096],dtype=\"float32\")\n",
    "\n",
    "    if target == 1:\n",
    "        ones[:, 0::4] = 1\n",
    "        ones[:, 2::4] = -1\n",
    "    ones = np.transpose(ones,[1,0])\n",
    "    ones = tf.cast(ones, dtype=tf.float32).numpy()\n",
    "    train_x.append(ones)\n",
    "    train_y.append(tf.cast(target,dtype=tf.int64).numpy())\n",
    "train_x = tf.cast(np.array(train_x),dtype=tf.float32)\n",
    "train_y = tf.cast(np.array(train_y, dtype=\"int\"),dtype=tf.int64)"
   ]
  },
  {
   "cell_type": "raw",
   "id": "87324820",
   "metadata": {},
   "source": [
    "train_x.shape"
   ]
  },
  {
   "cell_type": "code",
   "execution_count": null,
   "id": "7219bfe2",
   "metadata": {},
   "outputs": [],
   "source": []
  },
  {
   "cell_type": "code",
   "execution_count": 21,
   "id": "797d5b8b",
   "metadata": {
    "scrolled": true
   },
   "outputs": [
    {
     "name": "stdout",
     "output_type": "stream",
     "text": [
      "Model: \"sequential_2\"\n",
      "_________________________________________________________________\n",
      "Layer (type)                 Output Shape              Param #   \n",
      "=================================================================\n",
      "conv1d_13 (Conv1D)           (None, 4096, 32)          12320     \n",
      "_________________________________________________________________\n",
      "dropout_4 (Dropout)          (None, 4096, 32)          0         \n",
      "_________________________________________________________________\n",
      "conv1d_14 (Conv1D)           (None, 4096, 32)          16416     \n",
      "_________________________________________________________________\n",
      "max_pooling1d_8 (MaxPooling1 (None, 1024, 32)          0         \n",
      "_________________________________________________________________\n",
      "activation_10 (Activation)   (None, 1024, 32)          0         \n",
      "_________________________________________________________________\n",
      "conv1d_15 (Conv1D)           (None, 1024, 64)          16448     \n",
      "_________________________________________________________________\n",
      "conv1d_16 (Conv1D)           (None, 1024, 128)         65664     \n",
      "_________________________________________________________________\n",
      "conv1d_17 (Conv1D)           (None, 1024, 128)         131200    \n",
      "_________________________________________________________________\n",
      "max_pooling1d_9 (MaxPooling1 (None, 256, 128)          0         \n",
      "_________________________________________________________________\n",
      "dropout_5 (Dropout)          (None, 256, 128)          0         \n",
      "_________________________________________________________________\n",
      "activation_11 (Activation)   (None, 256, 128)          0         \n",
      "_________________________________________________________________\n",
      "conv1d_18 (Conv1D)           (None, 256, 128)          131200    \n",
      "_________________________________________________________________\n",
      "max_pooling1d_10 (MaxPooling (None, 64, 128)           0         \n",
      "_________________________________________________________________\n",
      "activation_12 (Activation)   (None, 64, 128)           0         \n",
      "_________________________________________________________________\n",
      "conv1d_19 (Conv1D)           (None, 64, 256)           262400    \n",
      "_________________________________________________________________\n",
      "max_pooling1d_11 (MaxPooling (None, 16, 256)           0         \n",
      "_________________________________________________________________\n",
      "activation_13 (Activation)   (None, 16, 256)           0         \n",
      "_________________________________________________________________\n",
      "flatten_2 (Flatten)          (None, 4096)              0         \n",
      "_________________________________________________________________\n",
      "dense_6 (Dense)              (None, 128)               524416    \n",
      "_________________________________________________________________\n",
      "dense_7 (Dense)              (None, 64)                8256      \n",
      "_________________________________________________________________\n",
      "dropout_6 (Dropout)          (None, 64)                0         \n",
      "_________________________________________________________________\n",
      "dense_8 (Dense)              (None, 1)                 65        \n",
      "_________________________________________________________________\n",
      "activation_14 (Activation)   (None, 1)                 0         \n",
      "=================================================================\n",
      "Total params: 1,168,385\n",
      "Trainable params: 1,168,385\n",
      "Non-trainable params: 0\n",
      "_________________________________________________________________\n"
     ]
    }
   ],
   "source": [
    "\n",
    "from tensorflow.keras import Sequential, layers\n",
    "model = Sequential([\n",
    "    layers.Conv1D(filters=32, kernel_size=128, padding=\"causal\",input_shape=[4096,3]),\n",
    "    layers.Dropout(0.5),\n",
    "    layers.Conv1D(filters=32, kernel_size=16, padding=\"causal\"),\n",
    "    layers.MaxPool1D(pool_size=4),\n",
    "    layers.Activation(\"relu\"),\n",
    "    \n",
    "    layers.Conv1D(filters=64, kernel_size=8, padding=\"causal\"),\n",
    "    layers.Conv1D(filters=128, kernel_size=8, padding=\"causal\"),\n",
    "    layers.Conv1D(filters=128, kernel_size=8, padding=\"causal\"),\n",
    "    layers.MaxPool1D(pool_size=4),\n",
    "    layers.Dropout(0.4),\n",
    "    layers.Activation(\"relu\"),\n",
    "    \n",
    "    layers.Conv1D(filters=128, kernel_size=8, padding=\"causal\"),\n",
    "    layers.MaxPool1D(pool_size=4),\n",
    "    layers.Activation(\"relu\"),\n",
    "    \n",
    "    layers.Conv1D(filters=256, kernel_size=8, padding=\"causal\"),\n",
    "    layers.MaxPool1D(pool_size=4),\n",
    "    layers.Activation(\"relu\"),\n",
    "    \n",
    "    layers.Flatten(),\n",
    "    layers.Dense(128, activation=\"relu\"),\n",
    "    layers.Dense(64, activation=\"relu\"),\n",
    "    layers.Dropout(0.5),\n",
    "    layers.Dense(1),\n",
    "    layers.Activation(\"sigmoid\", dtype=\"float32\")\n",
    "])\n",
    "model.compile(\n",
    "    tf.keras.optimizers.Adam(),\n",
    "    loss=\"binary_crossentropy\",\n",
    "    metrics=[\"AUC\"]\n",
    ")\n",
    "model.summary()"
   ]
  },
  {
   "cell_type": "code",
   "execution_count": 22,
   "id": "4b496e1f",
   "metadata": {},
   "outputs": [],
   "source": [
    "steps_per_epoch = 560000 // 16 * len(train_files) // BATCH_SIZE\n",
    "validation_steps = 560000 // 16 * len(val_files) // BATCH_SIZE"
   ]
  },
  {
   "cell_type": "code",
   "execution_count": 23,
   "id": "b4fb4c11",
   "metadata": {},
   "outputs": [],
   "source": [
    "reduce_lr = tf.keras.callbacks.ReduceLROnPlateau(\n",
    "    monitor=\"val_loss\", factor=0.2,\n",
    "    patience=5, min_lr = 0.00001,\n",
    "    verbose=1\n",
    ")\n",
    "early_stop = tf.keras.callbacks.EarlyStopping(\n",
    "    monitor=\"val_loss\",\n",
    "    mode=\"min\",\n",
    "    patience=10\n",
    ")\n",
    "callbacks=[reduce_lr, early_stop]"
   ]
  },
  {
   "cell_type": "code",
   "execution_count": null,
   "id": "da16554e",
   "metadata": {
    "scrolled": false
   },
   "outputs": [
    {
     "name": "stdout",
     "output_type": "stream",
     "text": [
      "Train on 410 steps, validate on 136 steps\n",
      "Epoch 1/40\n",
      "410/410 [==============================] - 31s 71ms/step - batch: 204.5000 - size: 1.0000 - loss: 0.5606 - AUC: 0.7537 - val_loss: 0.5202 - val_AUC: 0.7911 - lr: 0.0010\n",
      "Epoch 2/40\n",
      "410/410 [==============================] - 29s 72ms/step - batch: 204.5000 - size: 1.0000 - loss: 0.5076 - AUC: 0.8008 - val_loss: 0.5010 - val_AUC: 0.8109 - lr: 0.0010\n",
      "Epoch 3/40\n",
      "410/410 [==============================] - 29s 72ms/step - batch: 204.5000 - size: 1.0000 - loss: 0.4971 - AUC: 0.8079 - val_loss: 0.4873 - val_AUC: 0.8167 - lr: 0.0010\n",
      "Epoch 4/40\n",
      "410/410 [==============================] - 30s 73ms/step - batch: 204.5000 - size: 1.0000 - loss: 0.4934 - AUC: 0.8105 - val_loss: 0.4892 - val_AUC: 0.8155 - lr: 0.0010\n",
      "Epoch 5/40\n",
      "410/410 [==============================] - 30s 73ms/step - batch: 204.5000 - size: 1.0000 - loss: 0.4911 - AUC: 0.8131 - val_loss: 0.4886 - val_AUC: 0.8182 - lr: 0.0010\n",
      "Epoch 6/40\n",
      "410/410 [==============================] - 30s 74ms/step - batch: 204.5000 - size: 1.0000 - loss: 0.4874 - AUC: 0.8157 - val_loss: 0.4828 - val_AUC: 0.8197 - lr: 0.0010\n",
      "Epoch 7/40\n",
      "410/410 [==============================] - 30s 73ms/step - batch: 204.5000 - size: 1.0000 - loss: 0.4869 - AUC: 0.8165 - val_loss: 0.4824 - val_AUC: 0.8212 - lr: 0.0010\n",
      "Epoch 8/40\n",
      "410/410 [==============================] - 30s 73ms/step - batch: 204.5000 - size: 1.0000 - loss: 0.4845 - AUC: 0.8179 - val_loss: 0.4878 - val_AUC: 0.8230 - lr: 0.0010\n",
      "Epoch 9/40\n",
      "410/410 [==============================] - 30s 74ms/step - batch: 204.5000 - size: 1.0000 - loss: 0.4827 - AUC: 0.8205 - val_loss: 0.4793 - val_AUC: 0.8243 - lr: 0.0010\n",
      "Epoch 10/40\n",
      "410/410 [==============================] - 30s 73ms/step - batch: 204.5000 - size: 1.0000 - loss: 0.4826 - AUC: 0.8201 - val_loss: 0.4769 - val_AUC: 0.8246 - lr: 0.0010\n",
      "Epoch 11/40\n",
      "410/410 [==============================] - 30s 74ms/step - batch: 204.5000 - size: 1.0000 - loss: 0.4807 - AUC: 0.8225 - val_loss: 0.4831 - val_AUC: 0.8247 - lr: 0.0010\n",
      "Epoch 12/40\n",
      "410/410 [==============================] - 31s 75ms/step - batch: 204.5000 - size: 1.0000 - loss: 0.4800 - AUC: 0.8220 - val_loss: 0.4785 - val_AUC: 0.8241 - lr: 0.0010\n",
      "Epoch 13/40\n",
      "410/410 [==============================] - 30s 74ms/step - batch: 204.5000 - size: 1.0000 - loss: 0.4779 - AUC: 0.8237 - val_loss: 0.4700 - val_AUC: 0.8278 - lr: 0.0010\n",
      "Epoch 14/40\n",
      "410/410 [==============================] - 30s 74ms/step - batch: 204.5000 - size: 1.0000 - loss: 0.4766 - AUC: 0.8242 - val_loss: 0.4692 - val_AUC: 0.8292 - lr: 0.0010\n",
      "Epoch 15/40\n",
      "410/410 [==============================] - 31s 75ms/step - batch: 204.5000 - size: 1.0000 - loss: 0.4773 - AUC: 0.8249 - val_loss: 0.4769 - val_AUC: 0.8253 - lr: 0.0010\n",
      "Epoch 16/40\n",
      "410/410 [==============================] - 31s 75ms/step - batch: 204.5000 - size: 1.0000 - loss: 0.4757 - AUC: 0.8256 - val_loss: 0.4678 - val_AUC: 0.8296 - lr: 0.0010\n",
      "Epoch 17/40\n",
      "410/410 [==============================] - 31s 75ms/step - batch: 204.5000 - size: 1.0000 - loss: 0.4750 - AUC: 0.8250 - val_loss: 0.4717 - val_AUC: 0.8311 - lr: 0.0010\n",
      "Epoch 18/40\n",
      "410/410 [==============================] - 31s 75ms/step - batch: 204.5000 - size: 1.0000 - loss: 0.4740 - AUC: 0.8272 - val_loss: 0.4707 - val_AUC: 0.8267 - lr: 0.0010\n",
      "Epoch 19/40\n",
      "410/410 [==============================] - 31s 75ms/step - batch: 204.5000 - size: 1.0000 - loss: 0.4728 - AUC: 0.8277 - val_loss: 0.4709 - val_AUC: 0.8290 - lr: 0.0010\n",
      "Epoch 20/40\n",
      "410/410 [==============================] - 31s 75ms/step - batch: 204.5000 - size: 1.0000 - loss: 0.4718 - AUC: 0.8286 - val_loss: 0.4671 - val_AUC: 0.8302 - lr: 0.0010\n",
      "Epoch 21/40\n",
      "410/410 [==============================] - 31s 76ms/step - batch: 204.5000 - size: 1.0000 - loss: 0.4731 - AUC: 0.8277 - val_loss: 0.4693 - val_AUC: 0.8294 - lr: 0.0010\n",
      "Epoch 22/40\n",
      "410/410 [==============================] - 31s 76ms/step - batch: 204.5000 - size: 1.0000 - loss: 0.4696 - AUC: 0.8306 - val_loss: 0.4740 - val_AUC: 0.8291 - lr: 0.0010\n",
      "Epoch 23/40\n",
      "410/410 [==============================] - 31s 76ms/step - batch: 204.5000 - size: 1.0000 - loss: 0.4699 - AUC: 0.8301 - val_loss: 0.4679 - val_AUC: 0.8303 - lr: 0.0010\n",
      "Epoch 24/40\n",
      "410/410 [==============================] - 31s 76ms/step - batch: 204.5000 - size: 1.0000 - loss: 0.4697 - AUC: 0.8308 - val_loss: 0.4752 - val_AUC: 0.8305 - lr: 0.0010\n",
      "Epoch 25/40\n",
      "410/410 [==============================] - 32s 77ms/step - batch: 204.5000 - size: 1.0000 - loss: 0.4699 - AUC: 0.8302 - val_loss: 0.4698 - val_AUC: 0.8287 - lr: 0.0010\n",
      "Epoch 26/40\n",
      "410/410 [==============================] - 32s 78ms/step - batch: 204.5000 - size: 1.0000 - loss: 0.4605 - AUC: 0.8372 - val_loss: 0.4630 - val_AUC: 0.8325 - lr: 2.0000e-04\n",
      "Epoch 27/40\n",
      "410/410 [==============================] - 32s 78ms/step - batch: 204.5000 - size: 1.0000 - loss: 0.4574 - AUC: 0.8392 - val_loss: 0.4731 - val_AUC: 0.8321 - lr: 2.0000e-04\n",
      "Epoch 28/40\n",
      "410/410 [==============================] - 32s 78ms/step - batch: 204.5000 - size: 1.0000 - loss: 0.4553 - AUC: 0.8408 - val_loss: 0.4648 - val_AUC: 0.8330 - lr: 2.0000e-04\n",
      "Epoch 29/40\n",
      "410/410 [==============================] - 32s 78ms/step - batch: 204.5000 - size: 1.0000 - loss: 0.4536 - AUC: 0.8421 - val_loss: 0.4624 - val_AUC: 0.8336 - lr: 2.0000e-04\n",
      "Epoch 30/40\n",
      "410/410 [==============================] - 32s 79ms/step - batch: 204.5000 - size: 1.0000 - loss: 0.4542 - AUC: 0.8421 - val_loss: 0.4712 - val_AUC: 0.8331 - lr: 2.0000e-04\n",
      "Epoch 31/40\n",
      "410/410 [==============================] - 32s 78ms/step - batch: 204.5000 - size: 1.0000 - loss: 0.4530 - AUC: 0.8429 - val_loss: 0.4663 - val_AUC: 0.8339 - lr: 2.0000e-04\n",
      "Epoch 32/40\n",
      "410/410 [==============================] - 32s 78ms/step - batch: 204.5000 - size: 1.0000 - loss: 0.4524 - AUC: 0.8427 - val_loss: 0.4662 - val_AUC: 0.8343 - lr: 2.0000e-04\n",
      "Epoch 33/40\n",
      " 89/410 [=====>........................] - ETA: 18s - batch: 44.0000 - size: 1.0000 - loss: 0.4513 - AUC: 0.8417"
     ]
    }
   ],
   "source": [
    "history = model.fit(train_ds, validation_data = val_ds, epochs = 40, shuffle=True,\n",
    "                    steps_per_epoch = steps_per_epoch, validation_steps=validation_steps,\n",
    "                    verbose=1, callbacks=[callbacks])"
   ]
  },
  {
   "cell_type": "raw",
   "id": "21754358",
   "metadata": {},
   "source": [
    "model.save(\"model1.h5\")"
   ]
  },
  {
   "cell_type": "code",
   "execution_count": 10,
   "id": "44481856",
   "metadata": {},
   "outputs": [],
   "source": [
    "model.optimizer.lr = 0.00002"
   ]
  },
  {
   "cell_type": "code",
   "execution_count": 11,
   "id": "c03910af",
   "metadata": {
    "scrolled": true
   },
   "outputs": [
    {
     "ename": "KeyError",
     "evalue": "\"None of [Index(['auc', 'val_auc'], dtype='object')] are in the [columns]\"",
     "output_type": "error",
     "traceback": [
      "\u001b[1;31m---------------------------------------------------------------------------\u001b[0m",
      "\u001b[1;31mKeyError\u001b[0m                                  Traceback (most recent call last)",
      "\u001b[1;32m~\\AppData\\Local\\Temp/ipykernel_19784/2556779382.py\u001b[0m in \u001b[0;36m<module>\u001b[1;34m\u001b[0m\n\u001b[0;32m      1\u001b[0m \u001b[1;32mimport\u001b[0m \u001b[0mpandas\u001b[0m \u001b[1;32mas\u001b[0m \u001b[0mpd\u001b[0m\u001b[1;33m\u001b[0m\u001b[1;33m\u001b[0m\u001b[0m\n\u001b[0;32m      2\u001b[0m \u001b[0mhistoryFrame\u001b[0m \u001b[1;33m=\u001b[0m \u001b[0mpd\u001b[0m\u001b[1;33m.\u001b[0m\u001b[0mDataFrame\u001b[0m\u001b[1;33m(\u001b[0m\u001b[0mhistory\u001b[0m\u001b[1;33m.\u001b[0m\u001b[0mhistory\u001b[0m\u001b[1;33m)\u001b[0m\u001b[1;33m\u001b[0m\u001b[1;33m\u001b[0m\u001b[0m\n\u001b[1;32m----> 3\u001b[1;33m \u001b[0mhistoryFrame\u001b[0m\u001b[1;33m[\u001b[0m\u001b[1;33m[\u001b[0m\u001b[1;34m\"auc\"\u001b[0m\u001b[1;33m,\u001b[0m \u001b[1;34m\"val_auc\"\u001b[0m\u001b[1;33m]\u001b[0m\u001b[1;33m]\u001b[0m\u001b[1;33m.\u001b[0m\u001b[0mplot\u001b[0m\u001b[1;33m(\u001b[0m\u001b[1;33m)\u001b[0m\u001b[1;33m\u001b[0m\u001b[1;33m\u001b[0m\u001b[0m\n\u001b[0m\u001b[0;32m      4\u001b[0m \u001b[0mhistoryFrame\u001b[0m\u001b[1;33m[\u001b[0m\u001b[1;33m[\u001b[0m\u001b[1;34m\"loss\"\u001b[0m\u001b[1;33m,\u001b[0m \u001b[1;34m\"val_loss\"\u001b[0m\u001b[1;33m]\u001b[0m\u001b[1;33m]\u001b[0m\u001b[1;33m.\u001b[0m\u001b[0mplot\u001b[0m\u001b[1;33m(\u001b[0m\u001b[1;33m)\u001b[0m\u001b[1;33m\u001b[0m\u001b[1;33m\u001b[0m\u001b[0m\n",
      "\u001b[1;32m~\\anaconda3\\envs\\g2net-tf\\lib\\site-packages\\pandas\\core\\frame.py\u001b[0m in \u001b[0;36m__getitem__\u001b[1;34m(self, key)\u001b[0m\n\u001b[0;32m   3459\u001b[0m             \u001b[1;32mif\u001b[0m \u001b[0mis_iterator\u001b[0m\u001b[1;33m(\u001b[0m\u001b[0mkey\u001b[0m\u001b[1;33m)\u001b[0m\u001b[1;33m:\u001b[0m\u001b[1;33m\u001b[0m\u001b[1;33m\u001b[0m\u001b[0m\n\u001b[0;32m   3460\u001b[0m                 \u001b[0mkey\u001b[0m \u001b[1;33m=\u001b[0m \u001b[0mlist\u001b[0m\u001b[1;33m(\u001b[0m\u001b[0mkey\u001b[0m\u001b[1;33m)\u001b[0m\u001b[1;33m\u001b[0m\u001b[1;33m\u001b[0m\u001b[0m\n\u001b[1;32m-> 3461\u001b[1;33m             \u001b[0mindexer\u001b[0m \u001b[1;33m=\u001b[0m \u001b[0mself\u001b[0m\u001b[1;33m.\u001b[0m\u001b[0mloc\u001b[0m\u001b[1;33m.\u001b[0m\u001b[0m_get_listlike_indexer\u001b[0m\u001b[1;33m(\u001b[0m\u001b[0mkey\u001b[0m\u001b[1;33m,\u001b[0m \u001b[0maxis\u001b[0m\u001b[1;33m=\u001b[0m\u001b[1;36m1\u001b[0m\u001b[1;33m)\u001b[0m\u001b[1;33m[\u001b[0m\u001b[1;36m1\u001b[0m\u001b[1;33m]\u001b[0m\u001b[1;33m\u001b[0m\u001b[1;33m\u001b[0m\u001b[0m\n\u001b[0m\u001b[0;32m   3462\u001b[0m \u001b[1;33m\u001b[0m\u001b[0m\n\u001b[0;32m   3463\u001b[0m         \u001b[1;31m# take() does not accept boolean indexers\u001b[0m\u001b[1;33m\u001b[0m\u001b[1;33m\u001b[0m\u001b[1;33m\u001b[0m\u001b[0m\n",
      "\u001b[1;32m~\\anaconda3\\envs\\g2net-tf\\lib\\site-packages\\pandas\\core\\indexing.py\u001b[0m in \u001b[0;36m_get_listlike_indexer\u001b[1;34m(self, key, axis)\u001b[0m\n\u001b[0;32m   1312\u001b[0m             \u001b[0mkeyarr\u001b[0m\u001b[1;33m,\u001b[0m \u001b[0mindexer\u001b[0m\u001b[1;33m,\u001b[0m \u001b[0mnew_indexer\u001b[0m \u001b[1;33m=\u001b[0m \u001b[0max\u001b[0m\u001b[1;33m.\u001b[0m\u001b[0m_reindex_non_unique\u001b[0m\u001b[1;33m(\u001b[0m\u001b[0mkeyarr\u001b[0m\u001b[1;33m)\u001b[0m\u001b[1;33m\u001b[0m\u001b[1;33m\u001b[0m\u001b[0m\n\u001b[0;32m   1313\u001b[0m \u001b[1;33m\u001b[0m\u001b[0m\n\u001b[1;32m-> 1314\u001b[1;33m         \u001b[0mself\u001b[0m\u001b[1;33m.\u001b[0m\u001b[0m_validate_read_indexer\u001b[0m\u001b[1;33m(\u001b[0m\u001b[0mkeyarr\u001b[0m\u001b[1;33m,\u001b[0m \u001b[0mindexer\u001b[0m\u001b[1;33m,\u001b[0m \u001b[0maxis\u001b[0m\u001b[1;33m)\u001b[0m\u001b[1;33m\u001b[0m\u001b[1;33m\u001b[0m\u001b[0m\n\u001b[0m\u001b[0;32m   1315\u001b[0m \u001b[1;33m\u001b[0m\u001b[0m\n\u001b[0;32m   1316\u001b[0m         if needs_i8_conversion(ax.dtype) or isinstance(\n",
      "\u001b[1;32m~\\anaconda3\\envs\\g2net-tf\\lib\\site-packages\\pandas\\core\\indexing.py\u001b[0m in \u001b[0;36m_validate_read_indexer\u001b[1;34m(self, key, indexer, axis)\u001b[0m\n\u001b[0;32m   1372\u001b[0m                 \u001b[1;32mif\u001b[0m \u001b[0muse_interval_msg\u001b[0m\u001b[1;33m:\u001b[0m\u001b[1;33m\u001b[0m\u001b[1;33m\u001b[0m\u001b[0m\n\u001b[0;32m   1373\u001b[0m                     \u001b[0mkey\u001b[0m \u001b[1;33m=\u001b[0m \u001b[0mlist\u001b[0m\u001b[1;33m(\u001b[0m\u001b[0mkey\u001b[0m\u001b[1;33m)\u001b[0m\u001b[1;33m\u001b[0m\u001b[1;33m\u001b[0m\u001b[0m\n\u001b[1;32m-> 1374\u001b[1;33m                 \u001b[1;32mraise\u001b[0m \u001b[0mKeyError\u001b[0m\u001b[1;33m(\u001b[0m\u001b[1;34mf\"None of [{key}] are in the [{axis_name}]\"\u001b[0m\u001b[1;33m)\u001b[0m\u001b[1;33m\u001b[0m\u001b[1;33m\u001b[0m\u001b[0m\n\u001b[0m\u001b[0;32m   1375\u001b[0m \u001b[1;33m\u001b[0m\u001b[0m\n\u001b[0;32m   1376\u001b[0m             \u001b[0mnot_found\u001b[0m \u001b[1;33m=\u001b[0m \u001b[0mlist\u001b[0m\u001b[1;33m(\u001b[0m\u001b[0mensure_index\u001b[0m\u001b[1;33m(\u001b[0m\u001b[0mkey\u001b[0m\u001b[1;33m)\u001b[0m\u001b[1;33m[\u001b[0m\u001b[0mmissing_mask\u001b[0m\u001b[1;33m.\u001b[0m\u001b[0mnonzero\u001b[0m\u001b[1;33m(\u001b[0m\u001b[1;33m)\u001b[0m\u001b[1;33m[\u001b[0m\u001b[1;36m0\u001b[0m\u001b[1;33m]\u001b[0m\u001b[1;33m]\u001b[0m\u001b[1;33m.\u001b[0m\u001b[0munique\u001b[0m\u001b[1;33m(\u001b[0m\u001b[1;33m)\u001b[0m\u001b[1;33m)\u001b[0m\u001b[1;33m\u001b[0m\u001b[1;33m\u001b[0m\u001b[0m\n",
      "\u001b[1;31mKeyError\u001b[0m: \"None of [Index(['auc', 'val_auc'], dtype='object')] are in the [columns]\""
     ]
    }
   ],
   "source": [
    "import pandas as pd\n",
    "historyFrame = pd.DataFrame(history.history)\n",
    "historyFrame[[\"auc\", \"val_auc\"]].plot()\n",
    "historyFrame[[\"loss\", \"val_loss\"]].plot()"
   ]
  },
  {
   "cell_type": "code",
   "execution_count": null,
   "id": "60931087",
   "metadata": {},
   "outputs": [],
   "source": []
  },
  {
   "cell_type": "code",
   "execution_count": null,
   "id": "930ce628",
   "metadata": {},
   "outputs": [],
   "source": []
  },
  {
   "cell_type": "code",
   "execution_count": null,
   "id": "fb4eae2f",
   "metadata": {},
   "outputs": [],
   "source": [
    "train_x.shape\n",
    "# train_y"
   ]
  },
  {
   "cell_type": "code",
   "execution_count": null,
   "id": "6264c99a",
   "metadata": {},
   "outputs": [],
   "source": []
  }
 ],
 "metadata": {
  "kernelspec": {
   "display_name": "Python 3 (ipykernel)",
   "language": "python",
   "name": "python3"
  },
  "language_info": {
   "codemirror_mode": {
    "name": "ipython",
    "version": 3
   },
   "file_extension": ".py",
   "mimetype": "text/x-python",
   "name": "python",
   "nbconvert_exporter": "python",
   "pygments_lexer": "ipython3",
   "version": "3.7.10"
  }
 },
 "nbformat": 4,
 "nbformat_minor": 5
}
