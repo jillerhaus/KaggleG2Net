{
 "cells": [
  {
   "cell_type": "markdown",
   "id": "da52bac7",
   "metadata": {},
   "source": [
    "## Setup"
   ]
  },
  {
   "cell_type": "code",
   "execution_count": 1,
   "id": "f35bda7e",
   "metadata": {},
   "outputs": [],
   "source": [
    "import os\n",
    "os.environ[\"CUDA_VISIBLE_DEVICES\"] = \"0\"\n",
    "\n",
    "# General\n",
    "from glob import glob\n",
    "import numpy as np\n",
    "import pandas as pd\n",
    "\n",
    "# Machine Learning\n",
    "from sklearn.metrics import roc_auc_score\n",
    "\n",
    "# Deep Learning\n",
    "import tensorflow as tf\n",
    "from tensorflow import keras\n",
    "import tensorflow.keras.backend as K\n",
    "\n",
    "# Plotting\n",
    "import matplotlib.pyplot as plt\n",
    "\n",
    "%matplotlib inline\n",
    "import seaborn as sns\n"
   ]
  },
  {
   "cell_type": "markdown",
   "id": "6ef7d83d",
   "metadata": {},
   "source": [
    "## PARAMS"
   ]
  },
  {
   "cell_type": "code",
   "execution_count": 2,
   "id": "3111c692",
   "metadata": {},
   "outputs": [],
   "source": [
    "INPUT_DIR = \"../input/g2net-gravitational-wave-detection\""
   ]
  },
  {
   "cell_type": "code",
   "execution_count": 3,
   "id": "b830e970",
   "metadata": {},
   "outputs": [
    {
     "name": "stdout",
     "output_type": "stream",
     "text": [
      "INFO:tensorflow:Mixed precision compatibility check (mixed_float16): OK\n",
      "Your GPU will likely run quickly with dtype policy mixed_float16 as it has compute capability of at least 7.0. Your GPU: NVIDIA GeForce RTX 3090, compute capability 8.6\n"
     ]
    }
   ],
   "source": [
    "# Load model\n",
    "model = keras.models.load_model(\"model1.h5\")\n",
    "# load training set\n",
    "train_x = np.load(f\"{INPUT_DIR}/train_x.npy\")\n",
    "train_y = np.load(f\"{INPUT_DIR}/train_y.npy\")\n"
   ]
  },
  {
   "cell_type": "code",
   "execution_count": 4,
   "id": "d20df4ab",
   "metadata": {},
   "outputs": [
    {
     "name": "stdout",
     "output_type": "stream",
     "text": [
      "0\n",
      "1\n",
      "2\n",
      "3\n",
      "4\n",
      "5\n",
      "6\n",
      "7\n"
     ]
    }
   ],
   "source": [
    "def batchwise_prediction(ds, batches = 8):\n",
    "    batch_size = ds.shape[0] // batches\n",
    "    results = np.zeros(ds.shape[0], dtype=np.float32)\n",
    "    for i in range (batches):\n",
    "        print(i)\n",
    "        rng = range(i * batch_size, (i+1)* batch_size)\n",
    "        results[rng] = model.predict(ds[rng])[:,0]\n",
    "        \n",
    "    return results\n",
    "results = batchwise_prediction(train_x)"
   ]
  },
  {
   "cell_type": "code",
   "execution_count": 14,
   "id": "352390fb",
   "metadata": {},
   "outputs": [],
   "source": [
    "results[np.isnan(results)] = 1"
   ]
  },
  {
   "cell_type": "code",
   "execution_count": 15,
   "id": "5a3461e3",
   "metadata": {},
   "outputs": [
    {
     "data": {
      "text/plain": [
       "0.8365209452863855"
      ]
     },
     "execution_count": 15,
     "metadata": {},
     "output_type": "execute_result"
    }
   ],
   "source": [
    "roc_auc_score(train_y, results)"
   ]
  },
  {
   "cell_type": "code",
   "execution_count": 16,
   "id": "2dfd2958",
   "metadata": {
    "scrolled": true
   },
   "outputs": [
    {
     "name": "stderr",
     "output_type": "stream",
     "text": [
      "C:\\Users\\apist\\anaconda3\\envs\\g2net-tf\\lib\\site-packages\\seaborn\\distributions.py:2619: FutureWarning: `distplot` is a deprecated function and will be removed in a future version. Please adapt your code to use either `displot` (a figure-level function with similar flexibility) or `histplot` (an axes-level function for histograms).\n",
      "  warnings.warn(msg, FutureWarning)\n"
     ]
    },
    {
     "data": {
      "text/plain": [
       "<AxesSubplot:ylabel='Density'>"
      ]
     },
     "execution_count": 16,
     "metadata": {},
     "output_type": "execute_result"
    },
    {
     "data": {
      "image/png": "[encoded data removed]",
      "text/plain": [
       "<Figure size 432x288 with 1 Axes>"
      ]
     },
     "metadata": {
      "needs_background": "light"
     },
     "output_type": "display_data"
    }
   ],
   "source": [
    "sns.distplot(results)"
   ]
  },
  {
   "cell_type": "code",
   "execution_count": 38,
   "id": "89c3272e",
   "metadata": {},
   "outputs": [
    {
     "ename": "NameError",
     "evalue": "name 'result' is not defined",
     "output_type": "error",
     "traceback": [
      "\u001b[1;31m---------------------------------------------------------------------------\u001b[0m",
      "\u001b[1;31mNameError\u001b[0m                                 Traceback (most recent call last)",
      "\u001b[1;32m~\\AppData\\Local\\Temp/ipykernel_21636/1049141082.py\u001b[0m in \u001b[0;36m<module>\u001b[1;34m\u001b[0m\n\u001b[1;32m----> 1\u001b[1;33m \u001b[0mresult\u001b[0m\u001b[1;33m\u001b[0m\u001b[1;33m\u001b[0m\u001b[0m\n\u001b[0m",
      "\u001b[1;31mNameError\u001b[0m: name 'result' is not defined"
     ]
    }
   ],
   "source": []
  },
  {
   "cell_type": "code",
   "execution_count": 37,
   "id": "24a5a6a0",
   "metadata": {},
   "outputs": [],
   "source": [
    "K.clear_session()"
   ]
  },
  {
   "cell_type": "code",
   "execution_count": 18,
   "id": "23478d28",
   "metadata": {},
   "outputs": [
    {
     "name": "stdout",
     "output_type": "stream",
     "text": [
      "0\n",
      "1\n",
      "2\n",
      "3\n"
     ]
    }
   ],
   "source": [
    "test_x = np.load(f\"{INPUT_DIR}/test_x.npy\")\n",
    "test_x.shape\n",
    "results_test = batchwise_prediction(test_x, 4)"
   ]
  },
  {
   "cell_type": "code",
   "execution_count": 19,
   "id": "4cc23511",
   "metadata": {},
   "outputs": [
    {
     "data": {
      "text/plain": [
       "0.8365209452863855"
      ]
     },
     "execution_count": 19,
     "metadata": {},
     "output_type": "execute_result"
    }
   ],
   "source": [
    "roc_auc_score(train_y, results)"
   ]
  },
  {
   "cell_type": "code",
   "execution_count": 33,
   "id": "f9d6c1bd",
   "metadata": {},
   "outputs": [],
   "source": [
    "sub = pd.read_csv(f\"{INPUT_DIR}/sample_submission.csv\")\n",
    "sub.target = results_test\n"
   ]
  },
  {
   "cell_type": "code",
   "execution_count": 32,
   "id": "37e36d1e",
   "metadata": {},
   "outputs": [
    {
     "data": {
      "text/plain": [
       "1.0"
      ]
     },
     "execution_count": 32,
     "metadata": {},
     "output_type": "execute_result"
    }
   ],
   "source": [
    "# results_test[np.isnan(results_test)] = 1\n",
    "results.max()"
   ]
  },
  {
   "cell_type": "code",
   "execution_count": 34,
   "id": "c2a17bb2",
   "metadata": {},
   "outputs": [],
   "source": [
    "sub.to_csv(\"submission1.csv\", index=False)"
   ]
  }
 ],
 "metadata": {
  "kernelspec": {
   "display_name": "Python 3 (ipykernel)",
   "language": "python",
   "name": "python3"
  },
  "language_info": {
   "codemirror_mode": {
    "name": "ipython",
    "version": 3
   },
   "file_extension": ".py",
   "mimetype": "text/x-python",
   "name": "python",
   "nbconvert_exporter": "python",
   "pygments_lexer": "ipython3",
   "version": "3.7.10"
  }
 },
 "nbformat": 4,
 "nbformat_minor": 5
}
