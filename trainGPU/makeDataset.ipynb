{
 "cells": [
  {
   "cell_type": "code",
   "execution_count": 1,
   "id": "c013bc9a",
   "metadata": {},
   "outputs": [],
   "source": [
    "import tensorflow as tf\n",
    "import pandas as pd\n",
    "import numpy as np\n",
    "from glob import glob"
   ]
  },
  {
   "cell_type": "code",
   "execution_count": 2,
   "id": "9e34830f",
   "metadata": {},
   "outputs": [],
   "source": [
    "INPUT_DIR = \"../input/g2net-gravitational-wave-detection\"\n",
    "train_df = pd.read_csv(f\"{INPUT_DIR}/training_labels_paths.csv\")\n",
    "test_df = pd.read_csv(f\"{INPUT_DIR}/test_paths.csv\")\n",
    "savedir = \"../input/filtered_whitened_tfrec\""
   ]
  },
  {
   "cell_type": "code",
   "execution_count": 3,
   "id": "570f7616",
   "metadata": {},
   "outputs": [],
   "source": [
    "import gwpy\n",
    "from gwpy.timeseries import TimeSeries\n",
    "from scipy.cluster.vq import whiten\n",
    "from gwpy.signal import filter_design\n",
    "from tqdm.notebook import tqdm\n",
    "import matplotlib.pyplot as plt\n",
    "%matplotlib inline\n",
    "\n",
    "def save_files(rg_n, df=train_df):\n",
    "    all_data_x = np.zeros([len(rg_n),4096,3], dtype=np.float32)\n",
    "    all_data_y = np.zeros(len(rg_n), dtype=np.uint8)\n",
    "    filts=[]\n",
    "    for j in range(3):\n",
    "        bp = filter_design.bandpass(50,550, 2048)\n",
    "        if j == 2:\n",
    "            notch_freqs = (50, 100, 150)\n",
    "        else:\n",
    "            notch_freqs = (60, 120, 180)\n",
    "        notches = [filter_design.notch(line, 2048) for line in notch_freqs]\n",
    "        zpk = filter_design.concatenate_zpks(bp, *notches)\n",
    "        filts.append(zpk)\n",
    "    print(rg_n)\n",
    "    slc = df.iloc[rg_n]\n",
    "    print(slc.head())\n",
    "    ids = []\n",
    "\n",
    "    for index in tqdm(range(slc.shape[0])):\n",
    "        pth, ident, target = slc.iloc[index][[\"path\", \"id\", \"target\"]]\n",
    "        ids.append(ident)\n",
    "        all_data_y[index] = target \n",
    "        ts_data = np.load(pth)\n",
    "\n",
    "        for i in range(3):\n",
    "            measurement = ts_data[i]\n",
    "            ts = TimeSeries(measurement, sample_rate=2048)\n",
    "            \n",
    "            \n",
    "            zpk = filts[i]\n",
    "            hfilt = ts.filter(zpk, filtfilt=True)\n",
    "            hfilt = hfilt.whiten(0.5, 0.25)\n",
    "            ts_data[i] = np.array(hfilt)\n",
    "\n",
    "        ts_data = np.transpose(ts_data, [1,0])\n",
    "        ts_data /= abs(ts_data).max()\n",
    "        ts_data = ts_data * -1\n",
    "        ts_data = ts_data.astype(np.float32)\n",
    "        all_data_x[index] = ts_data\n",
    "        \n",
    "        \n",
    "    return all_data_x, all_data_y, ids"
   ]
  },
  {
   "cell_type": "code",
   "execution_count": 10,
   "id": "2869b077",
   "metadata": {
    "scrolled": true
   },
   "outputs": [
    {
     "data": {
      "application/vnd.jupyter.widget-view+json": {
       "model_id": "df0358a23f074c5b853dc827c89e20a1",
       "version_major": 2,
       "version_minor": 0
      },
      "text/plain": [
       "  0%|          | 0/16 [00:00<?, ?it/s]"
      ]
     },
     "metadata": {},
     "output_type": "display_data"
    },
    {
     "name": "stdout",
     "output_type": "stream",
     "text": [
      "doing 0\n",
      "range(0, 35000)\n",
      "           id  target                                               path\n",
      "0  00000e74ad       1  ../input/g2net-gravitational-wave-detection/tr...\n",
      "1  00001f4945       0  ../input/g2net-gravitational-wave-detection/tr...\n",
      "2  0000661522       0  ../input/g2net-gravitational-wave-detection/tr...\n",
      "3  00007a006a       0  ../input/g2net-gravitational-wave-detection/tr...\n",
      "4  0000a38978       1  ../input/g2net-gravitational-wave-detection/tr...\n"
     ]
    },
    {
     "data": {
      "application/vnd.jupyter.widget-view+json": {
       "model_id": "5ee2855f25ab40e0b97b0d5e6c560534",
       "version_major": 2,
       "version_minor": 0
      },
      "text/plain": [
       "  0%|          | 0/35000 [00:00<?, ?it/s]"
      ]
     },
     "metadata": {},
     "output_type": "display_data"
    },
    {
     "data": {
      "application/vnd.jupyter.widget-view+json": {
       "model_id": "116f577db462455f9dc3cec6452b03d9",
       "version_major": 2,
       "version_minor": 0
      },
      "text/plain": [
       "  0%|          | 0/35000 [00:00<?, ?it/s]"
      ]
     },
     "metadata": {},
     "output_type": "display_data"
    },
    {
     "name": "stdout",
     "output_type": "stream",
     "text": [
      "doing 1\n",
      "range(35000, 70000)\n",
      "               id  target                                               path\n",
      "35000  0fed552b1a       1  ../input/g2net-gravitational-wave-detection/tr...\n",
      "35001  0fed8bdcc3       1  ../input/g2net-gravitational-wave-detection/tr...\n",
      "35002  0fedef9062       0  ../input/g2net-gravitational-wave-detection/tr...\n",
      "35003  0fedfb0de4       0  ../input/g2net-gravitational-wave-detection/tr...\n",
      "35004  0fee12e31d       0  ../input/g2net-gravitational-wave-detection/tr...\n"
     ]
    },
    {
     "data": {
      "application/vnd.jupyter.widget-view+json": {
       "model_id": "3f9ec67245404984b290020a72cca0ed",
       "version_major": 2,
       "version_minor": 0
      },
      "text/plain": [
       "  0%|          | 0/35000 [00:00<?, ?it/s]"
      ]
     },
     "metadata": {},
     "output_type": "display_data"
    },
    {
     "data": {
      "application/vnd.jupyter.widget-view+json": {
       "model_id": "e71cd21a7ccf4a0a976fd21261a6745d",
       "version_major": 2,
       "version_minor": 0
      },
      "text/plain": [
       "  0%|          | 0/35000 [00:00<?, ?it/s]"
      ]
     },
     "metadata": {},
     "output_type": "display_data"
    },
    {
     "name": "stdout",
     "output_type": "stream",
     "text": [
      "doing 2\n",
      "range(70000, 105000)\n",
      "               id  target                                               path\n",
      "70000  1fca0e9a1f       0  ../input/g2net-gravitational-wave-detection/tr...\n",
      "70001  1fca0fe3b6       0  ../input/g2net-gravitational-wave-detection/tr...\n",
      "70002  1fca129128       1  ../input/g2net-gravitational-wave-detection/tr...\n",
      "70003  1fca20e9d0       0  ../input/g2net-gravitational-wave-detection/tr...\n",
      "70004  1fca2327df       0  ../input/g2net-gravitational-wave-detection/tr...\n"
     ]
    },
    {
     "data": {
      "application/vnd.jupyter.widget-view+json": {
       "model_id": "d034ee0d9b0b401e90adfa286793beb6",
       "version_major": 2,
       "version_minor": 0
      },
      "text/plain": [
       "  0%|          | 0/35000 [00:00<?, ?it/s]"
      ]
     },
     "metadata": {},
     "output_type": "display_data"
    },
    {
     "data": {
      "application/vnd.jupyter.widget-view+json": {
       "model_id": "e641e3a5c571403cac697d611db8d0cf",
       "version_major": 2,
       "version_minor": 0
      },
      "text/plain": [
       "  0%|          | 0/35000 [00:00<?, ?it/s]"
      ]
     },
     "metadata": {},
     "output_type": "display_data"
    },
    {
     "name": "stdout",
     "output_type": "stream",
     "text": [
      "doing 3\n",
      "range(105000, 140000)\n",
      "                id  target                                               path\n",
      "105000  2fdf80f4f2       1  ../input/g2net-gravitational-wave-detection/tr...\n",
      "105001  2fdf8a2658       1  ../input/g2net-gravitational-wave-detection/tr...\n",
      "105002  2fdfbe0c25       1  ../input/g2net-gravitational-wave-detection/tr...\n",
      "105003  2fdff080da       1  ../input/g2net-gravitational-wave-detection/tr...\n",
      "105004  2fdff0eb90       0  ../input/g2net-gravitational-wave-detection/tr...\n"
     ]
    },
    {
     "data": {
      "application/vnd.jupyter.widget-view+json": {
       "model_id": "c641a36449214dc59eb1401e7c5ead14",
       "version_major": 2,
       "version_minor": 0
      },
      "text/plain": [
       "  0%|          | 0/35000 [00:00<?, ?it/s]"
      ]
     },
     "metadata": {},
     "output_type": "display_data"
    },
    {
     "data": {
      "application/vnd.jupyter.widget-view+json": {
       "model_id": "4c6d7221e6e743d68a944a39da34f34c",
       "version_major": 2,
       "version_minor": 0
      },
      "text/plain": [
       "  0%|          | 0/35000 [00:00<?, ?it/s]"
      ]
     },
     "metadata": {},
     "output_type": "display_data"
    },
    {
     "name": "stdout",
     "output_type": "stream",
     "text": [
      "doing 4\n",
      "range(140000, 175000)\n",
      "                id  target                                               path\n",
      "140000  3fc78d6cd6       0  ../input/g2net-gravitational-wave-detection/tr...\n",
      "140001  3fc7bd6f34       0  ../input/g2net-gravitational-wave-detection/tr...\n",
      "140002  3fc7cf1e7f       0  ../input/g2net-gravitational-wave-detection/tr...\n",
      "140003  3fc7dc81f2       1  ../input/g2net-gravitational-wave-detection/tr...\n",
      "140004  3fc7e553a6       1  ../input/g2net-gravitational-wave-detection/tr...\n"
     ]
    },
    {
     "data": {
      "application/vnd.jupyter.widget-view+json": {
       "model_id": "05f877fee46b4a1a829a3cbd772b0610",
       "version_major": 2,
       "version_minor": 0
      },
      "text/plain": [
       "  0%|          | 0/35000 [00:00<?, ?it/s]"
      ]
     },
     "metadata": {},
     "output_type": "display_data"
    },
    {
     "data": {
      "application/vnd.jupyter.widget-view+json": {
       "model_id": "b140f55370ad4309a8d50f8966120405",
       "version_major": 2,
       "version_minor": 0
      },
      "text/plain": [
       "  0%|          | 0/35000 [00:00<?, ?it/s]"
      ]
     },
     "metadata": {},
     "output_type": "display_data"
    },
    {
     "name": "stdout",
     "output_type": "stream",
     "text": [
      "doing 5\n",
      "range(175000, 210000)\n",
      "                id  target                                               path\n",
      "175000  4fe4ed4ede       0  ../input/g2net-gravitational-wave-detection/tr...\n",
      "175001  4fe51d1ab6       1  ../input/g2net-gravitational-wave-detection/tr...\n",
      "175002  4fe52519f8       1  ../input/g2net-gravitational-wave-detection/tr...\n",
      "175003  4fe53b9d20       0  ../input/g2net-gravitational-wave-detection/tr...\n",
      "175004  4fe542237a       1  ../input/g2net-gravitational-wave-detection/tr...\n"
     ]
    },
    {
     "data": {
      "application/vnd.jupyter.widget-view+json": {
       "model_id": "09b62d1058204661a4190ad637d62ba5",
       "version_major": 2,
       "version_minor": 0
      },
      "text/plain": [
       "  0%|          | 0/35000 [00:00<?, ?it/s]"
      ]
     },
     "metadata": {},
     "output_type": "display_data"
    },
    {
     "data": {
      "application/vnd.jupyter.widget-view+json": {
       "model_id": "36432c463d0743cc9ef9899d11ea3874",
       "version_major": 2,
       "version_minor": 0
      },
      "text/plain": [
       "  0%|          | 0/35000 [00:00<?, ?it/s]"
      ]
     },
     "metadata": {},
     "output_type": "display_data"
    },
    {
     "name": "stdout",
     "output_type": "stream",
     "text": [
      "doing 6\n",
      "range(210000, 245000)\n",
      "                id  target                                               path\n",
      "210000  6022699bda       0  ../input/g2net-gravitational-wave-detection/tr...\n",
      "210001  60226e127b       1  ../input/g2net-gravitational-wave-detection/tr...\n",
      "210002  60226f58ff       0  ../input/g2net-gravitational-wave-detection/tr...\n",
      "210003  60227649b4       0  ../input/g2net-gravitational-wave-detection/tr...\n",
      "210004  602288d64e       0  ../input/g2net-gravitational-wave-detection/tr...\n"
     ]
    },
    {
     "data": {
      "application/vnd.jupyter.widget-view+json": {
       "model_id": "34f4f64e9f0c49a39a2d2ef4949489a9",
       "version_major": 2,
       "version_minor": 0
      },
      "text/plain": [
       "  0%|          | 0/35000 [00:00<?, ?it/s]"
      ]
     },
     "metadata": {},
     "output_type": "display_data"
    },
    {
     "data": {
      "application/vnd.jupyter.widget-view+json": {
       "model_id": "c5df002151474a27be5e30cc6763fffd",
       "version_major": 2,
       "version_minor": 0
      },
      "text/plain": [
       "  0%|          | 0/35000 [00:00<?, ?it/s]"
      ]
     },
     "metadata": {},
     "output_type": "display_data"
    },
    {
     "name": "stdout",
     "output_type": "stream",
     "text": [
      "doing 7\n",
      "range(245000, 280000)\n",
      "                id  target                                               path\n",
      "245000  703b36c42c       0  ../input/g2net-gravitational-wave-detection/tr...\n",
      "245001  703b53abda       1  ../input/g2net-gravitational-wave-detection/tr...\n",
      "245002  703b60ab64       0  ../input/g2net-gravitational-wave-detection/tr...\n",
      "245003  703b6d7a35       1  ../input/g2net-gravitational-wave-detection/tr...\n",
      "245004  703b6e3f98       1  ../input/g2net-gravitational-wave-detection/tr...\n"
     ]
    },
    {
     "data": {
      "application/vnd.jupyter.widget-view+json": {
       "model_id": "0323e29dfd6c42f5bc26073b1c65e148",
       "version_major": 2,
       "version_minor": 0
      },
      "text/plain": [
       "  0%|          | 0/35000 [00:00<?, ?it/s]"
      ]
     },
     "metadata": {},
     "output_type": "display_data"
    },
    {
     "data": {
      "application/vnd.jupyter.widget-view+json": {
       "model_id": "ac868db0361a4c6b8f3d010c3e9f4d9c",
       "version_major": 2,
       "version_minor": 0
      },
      "text/plain": [
       "  0%|          | 0/35000 [00:00<?, ?it/s]"
      ]
     },
     "metadata": {},
     "output_type": "display_data"
    },
    {
     "name": "stdout",
     "output_type": "stream",
     "text": [
      "doing 8\n",
      "range(280000, 315000)\n",
      "                id  target                                               path\n",
      "280000  80365d9077       0  ../input/g2net-gravitational-wave-detection/tr...\n",
      "280001  8036755552       0  ../input/g2net-gravitational-wave-detection/tr...\n",
      "280002  80368eaade       0  ../input/g2net-gravitational-wave-detection/tr...\n",
      "280003  80368f208e       0  ../input/g2net-gravitational-wave-detection/tr...\n",
      "280004  80368fd876       0  ../input/g2net-gravitational-wave-detection/tr...\n"
     ]
    },
    {
     "data": {
      "application/vnd.jupyter.widget-view+json": {
       "model_id": "7cf148a0ffdc4aeead0dde87381d7e79",
       "version_major": 2,
       "version_minor": 0
      },
      "text/plain": [
       "  0%|          | 0/35000 [00:00<?, ?it/s]"
      ]
     },
     "metadata": {},
     "output_type": "display_data"
    },
    {
     "data": {
      "application/vnd.jupyter.widget-view+json": {
       "model_id": "b61d40de4dc744bbbb1505f56534a896",
       "version_major": 2,
       "version_minor": 0
      },
      "text/plain": [
       "  0%|          | 0/35000 [00:00<?, ?it/s]"
      ]
     },
     "metadata": {},
     "output_type": "display_data"
    },
    {
     "name": "stdout",
     "output_type": "stream",
     "text": [
      "doing 9\n",
      "range(315000, 350000)\n",
      "                id  target                                               path\n",
      "315000  9038d40fed       1  ../input/g2net-gravitational-wave-detection/tr...\n",
      "315001  9038ddd1f9       1  ../input/g2net-gravitational-wave-detection/tr...\n",
      "315002  9038de7fe9       1  ../input/g2net-gravitational-wave-detection/tr...\n",
      "315003  9038dec320       1  ../input/g2net-gravitational-wave-detection/tr...\n",
      "315004  9038e5d0e7       0  ../input/g2net-gravitational-wave-detection/tr...\n"
     ]
    },
    {
     "data": {
      "application/vnd.jupyter.widget-view+json": {
       "model_id": "ef976a08fcdb48928d87f671c0f4cf56",
       "version_major": 2,
       "version_minor": 0
      },
      "text/plain": [
       "  0%|          | 0/35000 [00:00<?, ?it/s]"
      ]
     },
     "metadata": {},
     "output_type": "display_data"
    },
    {
     "data": {
      "application/vnd.jupyter.widget-view+json": {
       "model_id": "0c6c7bde892641d3870d9ae06e9e1e26",
       "version_major": 2,
       "version_minor": 0
      },
      "text/plain": [
       "  0%|          | 0/35000 [00:00<?, ?it/s]"
      ]
     },
     "metadata": {},
     "output_type": "display_data"
    },
    {
     "name": "stdout",
     "output_type": "stream",
     "text": [
      "doing 10\n",
      "range(350000, 385000)\n",
      "                id  target                                               path\n",
      "350000  a01f4cd2e3       1  ../input/g2net-gravitational-wave-detection/tr...\n",
      "350001  a01f5c5a53       1  ../input/g2net-gravitational-wave-detection/tr...\n",
      "350002  a01f8f055d       1  ../input/g2net-gravitational-wave-detection/tr...\n",
      "350003  a01fae1ef2       0  ../input/g2net-gravitational-wave-detection/tr...\n",
      "350004  a01fd754ae       0  ../input/g2net-gravitational-wave-detection/tr...\n"
     ]
    },
    {
     "data": {
      "application/vnd.jupyter.widget-view+json": {
       "model_id": "22ae1aed971f43078b686932d49f5eea",
       "version_major": 2,
       "version_minor": 0
      },
      "text/plain": [
       "  0%|          | 0/35000 [00:00<?, ?it/s]"
      ]
     },
     "metadata": {},
     "output_type": "display_data"
    },
    {
     "data": {
      "application/vnd.jupyter.widget-view+json": {
       "model_id": "dbf41608792f48318348a065a93f88ff",
       "version_major": 2,
       "version_minor": 0
      },
      "text/plain": [
       "  0%|          | 0/35000 [00:00<?, ?it/s]"
      ]
     },
     "metadata": {},
     "output_type": "display_data"
    },
    {
     "name": "stdout",
     "output_type": "stream",
     "text": [
      "doing 11\n",
      "range(385000, 420000)\n",
      "                id  target                                               path\n",
      "385000  b01e2ca3e4       0  ../input/g2net-gravitational-wave-detection/tr...\n",
      "385001  b01e8041a2       0  ../input/g2net-gravitational-wave-detection/tr...\n",
      "385002  b01ea8686d       1  ../input/g2net-gravitational-wave-detection/tr...\n",
      "385003  b01eb2f2e2       0  ../input/g2net-gravitational-wave-detection/tr...\n",
      "385004  b01ec18118       0  ../input/g2net-gravitational-wave-detection/tr...\n"
     ]
    },
    {
     "data": {
      "application/vnd.jupyter.widget-view+json": {
       "model_id": "f1e8cb1e6ed641d18118ff5508192e07",
       "version_major": 2,
       "version_minor": 0
      },
      "text/plain": [
       "  0%|          | 0/35000 [00:00<?, ?it/s]"
      ]
     },
     "metadata": {},
     "output_type": "display_data"
    },
    {
     "data": {
      "application/vnd.jupyter.widget-view+json": {
       "model_id": "ec0c4bae2ccb47f3bcc412ee772bd78e",
       "version_major": 2,
       "version_minor": 0
      },
      "text/plain": [
       "  0%|          | 0/35000 [00:00<?, ?it/s]"
      ]
     },
     "metadata": {},
     "output_type": "display_data"
    },
    {
     "name": "stdout",
     "output_type": "stream",
     "text": [
      "doing 12\n",
      "range(420000, 455000)\n",
      "                id  target                                               path\n",
      "420000  c03e235002       0  ../input/g2net-gravitational-wave-detection/tr...\n",
      "420001  c03e2c9588       0  ../input/g2net-gravitational-wave-detection/tr...\n",
      "420002  c03e57cfc1       1  ../input/g2net-gravitational-wave-detection/tr...\n",
      "420003  c03e77d63a       1  ../input/g2net-gravitational-wave-detection/tr...\n",
      "420004  c03e83eced       1  ../input/g2net-gravitational-wave-detection/tr...\n"
     ]
    },
    {
     "data": {
      "application/vnd.jupyter.widget-view+json": {
       "model_id": "b3f986cc2444405fa76bb77b97371e39",
       "version_major": 2,
       "version_minor": 0
      },
      "text/plain": [
       "  0%|          | 0/35000 [00:00<?, ?it/s]"
      ]
     },
     "metadata": {},
     "output_type": "display_data"
    },
    {
     "data": {
      "application/vnd.jupyter.widget-view+json": {
       "model_id": "412ccf5429534f298d3a6268fe334ad8",
       "version_major": 2,
       "version_minor": 0
      },
      "text/plain": [
       "  0%|          | 0/35000 [00:00<?, ?it/s]"
      ]
     },
     "metadata": {},
     "output_type": "display_data"
    },
    {
     "name": "stdout",
     "output_type": "stream",
     "text": [
      "doing 13\n",
      "range(455000, 490000)\n",
      "                id  target                                               path\n",
      "455000  d04522be8f       0  ../input/g2net-gravitational-wave-detection/tr...\n",
      "455001  d04533f037       0  ../input/g2net-gravitational-wave-detection/tr...\n",
      "455002  d0454a0a6a       0  ../input/g2net-gravitational-wave-detection/tr...\n",
      "455003  d0456982e7       0  ../input/g2net-gravitational-wave-detection/tr...\n",
      "455004  d045c87936       1  ../input/g2net-gravitational-wave-detection/tr...\n"
     ]
    },
    {
     "data": {
      "application/vnd.jupyter.widget-view+json": {
       "model_id": "b268cabb66554352b88828880f750fc4",
       "version_major": 2,
       "version_minor": 0
      },
      "text/plain": [
       "  0%|          | 0/35000 [00:00<?, ?it/s]"
      ]
     },
     "metadata": {},
     "output_type": "display_data"
    },
    {
     "data": {
      "application/vnd.jupyter.widget-view+json": {
       "model_id": "5eb97f2beb2a4deb9ca617430056628b",
       "version_major": 2,
       "version_minor": 0
      },
      "text/plain": [
       "  0%|          | 0/35000 [00:00<?, ?it/s]"
      ]
     },
     "metadata": {},
     "output_type": "display_data"
    },
    {
     "name": "stdout",
     "output_type": "stream",
     "text": [
      "doing 14\n",
      "range(490000, 525000)\n",
      "                id  target                                               path\n",
      "490000  e01ed0df2c       0  ../input/g2net-gravitational-wave-detection/tr...\n",
      "490001  e01edf02a7       0  ../input/g2net-gravitational-wave-detection/tr...\n",
      "490002  e01f0900df       0  ../input/g2net-gravitational-wave-detection/tr...\n",
      "490003  e01f2f5f50       0  ../input/g2net-gravitational-wave-detection/tr...\n",
      "490004  e01f626248       0  ../input/g2net-gravitational-wave-detection/tr...\n"
     ]
    },
    {
     "data": {
      "application/vnd.jupyter.widget-view+json": {
       "model_id": "e087740538054ffc8b320bf88cad28dd",
       "version_major": 2,
       "version_minor": 0
      },
      "text/plain": [
       "  0%|          | 0/35000 [00:00<?, ?it/s]"
      ]
     },
     "metadata": {},
     "output_type": "display_data"
    },
    {
     "data": {
      "application/vnd.jupyter.widget-view+json": {
       "model_id": "d656598649ce4b5faf170aec52c24274",
       "version_major": 2,
       "version_minor": 0
      },
      "text/plain": [
       "  0%|          | 0/35000 [00:00<?, ?it/s]"
      ]
     },
     "metadata": {},
     "output_type": "display_data"
    },
    {
     "name": "stdout",
     "output_type": "stream",
     "text": [
      "doing 15\n",
      "range(525000, 560000)\n",
      "                id  target                                               path\n",
      "525000  f00120e19c       1  ../input/g2net-gravitational-wave-detection/tr...\n",
      "525001  f0016b6f7e       0  ../input/g2net-gravitational-wave-detection/tr...\n",
      "525002  f0018c92d1       1  ../input/g2net-gravitational-wave-detection/tr...\n",
      "525003  f001c9c28b       1  ../input/g2net-gravitational-wave-detection/tr...\n",
      "525004  f001d32c6a       1  ../input/g2net-gravitational-wave-detection/tr...\n"
     ]
    },
    {
     "data": {
      "application/vnd.jupyter.widget-view+json": {
       "model_id": "71e073468b824ea5b7d6431841d39af2",
       "version_major": 2,
       "version_minor": 0
      },
      "text/plain": [
       "  0%|          | 0/35000 [00:00<?, ?it/s]"
      ]
     },
     "metadata": {},
     "output_type": "display_data"
    },
    {
     "data": {
      "application/vnd.jupyter.widget-view+json": {
       "model_id": "269f3eb16a3d4903824703860a2f3455",
       "version_major": 2,
       "version_minor": 0
      },
      "text/plain": [
       "  0%|          | 0/35000 [00:00<?, ?it/s]"
      ]
     },
     "metadata": {},
     "output_type": "display_data"
    }
   ],
   "source": [
    "batches = 16\n",
    "batch_size = train_df.shape[0] // batches\n",
    "for i in tqdm(range(batches)):\n",
    "    rg_n = range(i*batch_size,(i+1)*batch_size)\n",
    "    output_file = f\"{savedir}/train_{i:02}_inv.tfrec\"\n",
    "    if glob(output_file) != []:\n",
    "        print(f\"skipping {i}\")\n",
    "        continue\n",
    "    else:\n",
    "        print(f\"doing {i}\")\n",
    "#         rng = (range(i * batch_size, (i+1)*batch_size))\n",
    "        tr_x, tr_y, ids = save_files(rg_n, train_df)\n",
    "        writer = tf.io.TFRecordWriter(output_file)\n",
    "        for i in tqdm(range(tr_x.shape[0])):\n",
    "            X = tr_x[i]\n",
    "            y = tr_y[i]\n",
    "            ident = str.encode(ids[i])\n",
    "\n",
    "            # Feature contains a map of string to feature proto objects\n",
    "            feature = {}\n",
    "            \n",
    "            feature[\"TimeSeries\"] = tf.train.Feature(float_list=tf.train.FloatList(value=X.flatten()))\n",
    "            feature[\"Target\"] = tf.train.Feature(int64_list=tf.train.Int64List(value=[y]))\n",
    "\n",
    "            #contruct the Example proto object\n",
    "            example = tf.train.Example(features=tf.train.Features(feature=feature))\n",
    "            serialized = example.SerializeToString()\n",
    "\n",
    "            # write the serialized object to disk\n",
    "            writer.write(serialized)\n",
    "        writer.close()"
   ]
  },
  {
   "cell_type": "code",
   "execution_count": 4,
   "id": "77797254",
   "metadata": {},
   "outputs": [
    {
     "data": {
      "application/vnd.jupyter.widget-view+json": {
       "model_id": "c86f3393bcdc45a3bc20f92bab277c50",
       "version_major": 2,
       "version_minor": 0
      },
      "text/plain": [
       "  0%|          | 0/1 [00:00<?, ?it/s]"
      ]
     },
     "metadata": {},
     "output_type": "display_data"
    },
    {
     "name": "stdout",
     "output_type": "stream",
     "text": [
      "doing 0\n",
      "range(0, 226000)\n",
      "           id  target                                               path\n",
      "0  00005bced6     0.5  ../input/g2net-gravitational-wave-detection/te...\n",
      "1  0000806717     0.5  ../input/g2net-gravitational-wave-detection/te...\n",
      "2  0000ef4fe1     0.5  ../input/g2net-gravitational-wave-detection/te...\n",
      "3  00020de251     0.5  ../input/g2net-gravitational-wave-detection/te...\n",
      "4  00024887b5     0.5  ../input/g2net-gravitational-wave-detection/te...\n"
     ]
    },
    {
     "data": {
      "application/vnd.jupyter.widget-view+json": {
       "model_id": "6ed94aa7ef624e23bf026ff7d8f5da14",
       "version_major": 2,
       "version_minor": 0
      },
      "text/plain": [
       "  0%|          | 0/226000 [00:00<?, ?it/s]"
      ]
     },
     "metadata": {},
     "output_type": "display_data"
    },
    {
     "data": {
      "application/vnd.jupyter.widget-view+json": {
       "model_id": "45361cadf0f34444894ad710788b3c18",
       "version_major": 2,
       "version_minor": 0
      },
      "text/plain": [
       "  0%|          | 0/226000 [00:00<?, ?it/s]"
      ]
     },
     "metadata": {},
     "output_type": "display_data"
    }
   ],
   "source": [
    "batches = 1\n",
    "batch_size = test_df.shape[0] // batches\n",
    "for i in tqdm(range(batches)):\n",
    "    rg_n = range(i*batch_size,(i+1)*batch_size)\n",
    "    output_file = f\"{savedir}/test_inv_{i:02}.tfrec\"\n",
    "    if glob(output_file) != []:\n",
    "        print(f\"skipping {i}\")\n",
    "        continue\n",
    "    else:\n",
    "        print(f\"doing {i}\")\n",
    "#         rng = (range(i * batch_size, (i+1)*batch_size))\n",
    "        tr_x, tr_y, ids = save_files(rg_n, test_df)\n",
    "#         tr_x = test[rg_n]\n",
    "        writer = tf.io.TFRecordWriter(output_file)\n",
    "        for i in tqdm(range(tr_x.shape[0])):\n",
    "            X = tr_x[i]\n",
    "\n",
    "            # Feature contains a map of string to feature proto objects\n",
    "            feature = {}\n",
    "            feature[\"TimeSeries\"] = tf.train.Feature(float_list=tf.train.FloatList(value=X.flatten()))\n",
    "\n",
    "            #contruct the Example proto object\n",
    "            example = tf.train.Example(features=tf.train.Features(feature=feature))\n",
    "            serialized = example.SerializeToString()\n",
    "\n",
    "            # write the serialized object to disk\n",
    "            writer.write(serialized)\n",
    "        writer.close()"
   ]
  },
  {
   "cell_type": "code",
   "execution_count": null,
   "id": "a70aa939",
   "metadata": {},
   "outputs": [],
   "source": [
    "test = tr_x\n",
    "test.shape"
   ]
  }
 ],
 "metadata": {
  "kernelspec": {
   "display_name": "Python 3 (ipykernel)",
   "language": "python",
   "name": "python3"
  },
  "language_info": {
   "codemirror_mode": {
    "name": "ipython",
    "version": 3
   },
   "file_extension": ".py",
   "mimetype": "text/x-python",
   "name": "python",
   "nbconvert_exporter": "python",
   "pygments_lexer": "ipython3",
   "version": "3.7.10"
  }
 },
 "nbformat": 4,
 "nbformat_minor": 5
}
