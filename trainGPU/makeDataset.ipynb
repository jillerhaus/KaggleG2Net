{
 "cells": [
  {
   "cell_type": "code",
   "execution_count": 1,
   "id": "c013bc9a",
   "metadata": {},
   "outputs": [],
   "source": [
    "import tensorflow as tf\n",
    "import pandas as pd\n",
    "import numpy as np"
   ]
  },
  {
   "cell_type": "code",
   "execution_count": 2,
   "id": "9e34830f",
   "metadata": {},
   "outputs": [],
   "source": [
    "INPUT_DIR = \"../input/g2net-gravitational-wave-detection\"\n",
    "train_df = pd.read_csv(f\"{INPUT_DIR}/training_labels_paths.csv\")\n",
    "test_df = pd.read_csv(f\"{INPUT_DIR}/test_paths.csv\")\n",
    "savedir = \"../input/filtered_train\""
   ]
  },
  {
   "cell_type": "code",
   "execution_count": 27,
   "id": "570f7616",
   "metadata": {},
   "outputs": [],
   "source": [
    "import gwpy\n",
    "from gwpy.timeseries import TimeSeries\n",
    "from scipy.cluster.vq import whiten\n",
    "from gwpy.signal import filter_design\n",
    "from tqdm.notebook import tqdm\n",
    "\n",
    "def save_files(rg_n, df=train_df):\n",
    "    filts=[]\n",
    "    for j in range(3):\n",
    "        bp = filter_design.bandpass(50,250, 2048)\n",
    "        if j == 2:\n",
    "            notch_freqs = (50, 100, 150)\n",
    "        else:\n",
    "            notch_freqs = (60, 120, 180)\n",
    "        notches = [filter_design.notch(line, 2048) for line in notch_freqs]\n",
    "        zpk = filter_design.concatenate_zpks(bp, *notches)\n",
    "        filts.append(zpk)\n",
    "\n",
    "    for index in tqdm(rg_n):\n",
    "        path, ident = df.iloc[index][[\"path\", \"id\"]]\n",
    "        ts_data = np.load(path).astype(np.float32)\n",
    "\n",
    "        for i in range(3):\n",
    "            measurement = ts_data[i]\n",
    "            ts = TimeSeries(measurement)\n",
    "            ts.sample_rate=2048\n",
    "\n",
    "            zpk = filts[i]\n",
    "            hfilt = ts.filter(zpk, filtfilt=True)\n",
    "            hfilt = whiten(hfilt)\n",
    "            ts_data[i] = np.array(hfilt)\n",
    "\n",
    "        ts_data = np.transpose(ts_data, [1,0])\n",
    "        ts_data /= abs(ts_data).max()\n",
    "        np.save(f\"../input/filtered/{ident}.npy\", ts_data)"
   ]
  },
  {
   "cell_type": "raw",
   "id": "6d03ebce",
   "metadata": {},
   "source": [
    "from glob import glob\n",
    "parts = 32\n",
    "number = train_df.shape[0]/parts\n",
    "for i in range(parts):\n",
    "    rg_n = range(i*number,(i+1)*number)\n",
    "    if glob(f\"{savedir}/{train_df.iloc[rg_n[0]].id}.npy\") != []:\n",
    "        print(f\"skipping {i}\")\n",
    "    else:\n",
    "        print(f\"doing {i}\")\n",
    "        save_files(rg_n)\n"
   ]
  },
  {
   "cell_type": "code",
   "execution_count": 99,
   "id": "b2d13bbe",
   "metadata": {},
   "outputs": [
    {
     "data": {
      "text/plain": [
       "[]"
      ]
     },
     "execution_count": 99,
     "metadata": {},
     "output_type": "execute_result"
    }
   ],
   "source": [
    "paths = glob(f\"{savedir}/*\")\n",
    "test_df.shape\n",
    "glob(f\"{savedir}/{test_df.id[0]}*\")"
   ]
  },
  {
   "cell_type": "code",
   "execution_count": 102,
   "id": "dc1146af",
   "metadata": {},
   "outputs": [
    {
     "name": "stdout",
     "output_type": "stream",
     "text": [
      "560000\n"
     ]
    },
    {
     "data": {
      "text/plain": [
       "560000"
      ]
     },
     "execution_count": 102,
     "metadata": {},
     "output_type": "execute_result"
    }
   ],
   "source": [
    "print(len(paths))\n",
    "train_df.shape[0]"
   ]
  },
  {
   "cell_type": "code",
   "execution_count": 4,
   "id": "9fdcd4e4",
   "metadata": {},
   "outputs": [],
   "source": [
    "def make_missing_files(df):\n",
    "    if df.iloc[0].target == 0.5:\n",
    "        savedir = \"../input/filtered_test\"\n",
    "        print(\"test set\")\n",
    "    else:\n",
    "        savedir = \"../input/filtered_train\"\n",
    "        print(\"train set\")\n",
    "    paths = glob(f\"{savedir}/*\")\n",
    "    print(f\"Paths: {len(paths)}, Rows: {df.shape[0]}\")\n",
    "    if len(paths) == df.shape[0]:\n",
    "        print(\"all files are present\")\n",
    "    else:\n",
    "        missed_paths = []\n",
    "        for i in tqdm(range(test_df.shape[0])):\n",
    "            ident = test_df.iloc[i].id\n",
    "            if not f\"{savedir}\\\\{ident}.npy\" in paths:\n",
    "                missed_paths.append(i)\n",
    "                print(f\"missed {test_df.iloc[i].id}\")\n",
    "        save_files(missed_paths)"
   ]
  },
  {
   "cell_type": "code",
   "execution_count": 118,
   "id": "8ec50901",
   "metadata": {},
   "outputs": [
    {
     "name": "stdout",
     "output_type": "stream",
     "text": [
      "train set\n",
      "Paths: 560000, Rows: 560000\n",
      "all files are present\n",
      "test set\n",
      "Paths: 226000, Rows: 226000\n",
      "all files are present\n"
     ]
    }
   ],
   "source": [
    "make_missing_files(train_df)\n",
    "make_missing_files(test_df)"
   ]
  },
  {
   "cell_type": "code",
   "execution_count": 145,
   "id": "a9104b69",
   "metadata": {},
   "outputs": [],
   "source": [
    "train_x = np.zeros((train_df.shape[0],4096, 3),dtype=np.float32)\n",
    "train_y = np.zeros(train_df.shape[0], dtype=np.int)"
   ]
  },
  {
   "cell_type": "code",
   "execution_count": 146,
   "id": "5e5fb7de",
   "metadata": {},
   "outputs": [
    {
     "data": {
      "text/html": [
       "<div>\n",
       "<style scoped>\n",
       "    .dataframe tbody tr th:only-of-type {\n",
       "        vertical-align: middle;\n",
       "    }\n",
       "\n",
       "    .dataframe tbody tr th {\n",
       "        vertical-align: top;\n",
       "    }\n",
       "\n",
       "    .dataframe thead th {\n",
       "        text-align: right;\n",
       "    }\n",
       "</style>\n",
       "<table border=\"1\" class=\"dataframe\">\n",
       "  <thead>\n",
       "    <tr style=\"text-align: right;\">\n",
       "      <th></th>\n",
       "      <th>id</th>\n",
       "      <th>target</th>\n",
       "      <th>path</th>\n",
       "    </tr>\n",
       "  </thead>\n",
       "  <tbody>\n",
       "    <tr>\n",
       "      <th>0</th>\n",
       "      <td>00000e74ad</td>\n",
       "      <td>1</td>\n",
       "      <td>../input/g2net-gravitational-wave-detection/tr...</td>\n",
       "    </tr>\n",
       "    <tr>\n",
       "      <th>1</th>\n",
       "      <td>00001f4945</td>\n",
       "      <td>0</td>\n",
       "      <td>../input/g2net-gravitational-wave-detection/tr...</td>\n",
       "    </tr>\n",
       "    <tr>\n",
       "      <th>2</th>\n",
       "      <td>0000661522</td>\n",
       "      <td>0</td>\n",
       "      <td>../input/g2net-gravitational-wave-detection/tr...</td>\n",
       "    </tr>\n",
       "    <tr>\n",
       "      <th>3</th>\n",
       "      <td>00007a006a</td>\n",
       "      <td>0</td>\n",
       "      <td>../input/g2net-gravitational-wave-detection/tr...</td>\n",
       "    </tr>\n",
       "    <tr>\n",
       "      <th>4</th>\n",
       "      <td>0000a38978</td>\n",
       "      <td>1</td>\n",
       "      <td>../input/g2net-gravitational-wave-detection/tr...</td>\n",
       "    </tr>\n",
       "    <tr>\n",
       "      <th>...</th>\n",
       "      <td>...</td>\n",
       "      <td>...</td>\n",
       "      <td>...</td>\n",
       "    </tr>\n",
       "    <tr>\n",
       "      <th>559995</th>\n",
       "      <td>ffff9a5645</td>\n",
       "      <td>1</td>\n",
       "      <td>../input/g2net-gravitational-wave-detection/tr...</td>\n",
       "    </tr>\n",
       "    <tr>\n",
       "      <th>559996</th>\n",
       "      <td>ffffab0c27</td>\n",
       "      <td>0</td>\n",
       "      <td>../input/g2net-gravitational-wave-detection/tr...</td>\n",
       "    </tr>\n",
       "    <tr>\n",
       "      <th>559997</th>\n",
       "      <td>ffffcf161a</td>\n",
       "      <td>1</td>\n",
       "      <td>../input/g2net-gravitational-wave-detection/tr...</td>\n",
       "    </tr>\n",
       "    <tr>\n",
       "      <th>559998</th>\n",
       "      <td>ffffd2c403</td>\n",
       "      <td>0</td>\n",
       "      <td>../input/g2net-gravitational-wave-detection/tr...</td>\n",
       "    </tr>\n",
       "    <tr>\n",
       "      <th>559999</th>\n",
       "      <td>fffff2180b</td>\n",
       "      <td>0</td>\n",
       "      <td>../input/g2net-gravitational-wave-detection/tr...</td>\n",
       "    </tr>\n",
       "  </tbody>\n",
       "</table>\n",
       "<p>560000 rows × 3 columns</p>\n",
       "</div>"
      ],
      "text/plain": [
       "                id  target                                               path\n",
       "0       00000e74ad       1  ../input/g2net-gravitational-wave-detection/tr...\n",
       "1       00001f4945       0  ../input/g2net-gravitational-wave-detection/tr...\n",
       "2       0000661522       0  ../input/g2net-gravitational-wave-detection/tr...\n",
       "3       00007a006a       0  ../input/g2net-gravitational-wave-detection/tr...\n",
       "4       0000a38978       1  ../input/g2net-gravitational-wave-detection/tr...\n",
       "...            ...     ...                                                ...\n",
       "559995  ffff9a5645       1  ../input/g2net-gravitational-wave-detection/tr...\n",
       "559996  ffffab0c27       0  ../input/g2net-gravitational-wave-detection/tr...\n",
       "559997  ffffcf161a       1  ../input/g2net-gravitational-wave-detection/tr...\n",
       "559998  ffffd2c403       0  ../input/g2net-gravitational-wave-detection/tr...\n",
       "559999  fffff2180b       0  ../input/g2net-gravitational-wave-detection/tr...\n",
       "\n",
       "[560000 rows x 3 columns]"
      ]
     },
     "execution_count": 146,
     "metadata": {},
     "output_type": "execute_result"
    }
   ],
   "source": [
    "train_df"
   ]
  },
  {
   "cell_type": "raw",
   "id": "4b5166e0",
   "metadata": {},
   "source": [
    "for i, row in tqdm(train_df.iterrows()):\n",
    "#     row = train_df.iloc[i]\n",
    "    train_x[i] = np.load(f\"../input/filtered_train/{row.id}.npy\")\n",
    "    train_y[i] = row.target\n",
    "    "
   ]
  },
  {
   "cell_type": "raw",
   "id": "b1993e49",
   "metadata": {},
   "source": [
    "test_x = np.zeros((test_df.shape[0],4096, 3),dtype=np.float32)\n",
    "for i, row in tqdm(test_df.iterrows()):\n",
    "#     row = train_df.iloc[i]\n",
    "    test_x[i] = np.load(f\"../input/filtered_test/{row.id}.npy\")\n"
   ]
  },
  {
   "cell_type": "code",
   "execution_count": 5,
   "id": "b2331ebb",
   "metadata": {},
   "outputs": [],
   "source": [
    "test_x = np.load(f\"{INPUT_DIR}/test_x.npy\")"
   ]
  },
  {
   "cell_type": "code",
   "execution_count": 16,
   "id": "20f65b19",
   "metadata": {},
   "outputs": [
    {
     "data": {
      "text/plain": [
       "array([[[-0.06244404,  0.03822626,  0.02098865],\n",
       "        [-0.32932013, -0.4944385 ,  0.01208142],\n",
       "        [-0.49958375, -0.8705459 , -0.02977327],\n",
       "        ...,\n",
       "        [-0.41248697, -0.11056531,  0.40311646],\n",
       "        [-0.28653347, -0.1056959 ,  0.22778332],\n",
       "        [-0.05929917, -0.0802836 ,  0.03178055]],\n",
       "\n",
       "       [[ 0.        ,  0.        ,  0.        ],\n",
       "        [ 0.        ,  0.        ,  0.        ],\n",
       "        [ 0.        ,  0.        ,  0.        ],\n",
       "        ...,\n",
       "        [ 0.        ,  0.        ,  0.        ],\n",
       "        [ 0.        ,  0.        ,  0.        ],\n",
       "        [ 0.        ,  0.        ,  0.        ]],\n",
       "\n",
       "       [[ 0.        ,  0.        ,  0.        ],\n",
       "        [ 0.        ,  0.        ,  0.        ],\n",
       "        [ 0.        ,  0.        ,  0.        ],\n",
       "        ...,\n",
       "        [ 0.        ,  0.        ,  0.        ],\n",
       "        [ 0.        ,  0.        ,  0.        ],\n",
       "        [ 0.        ,  0.        ,  0.        ]],\n",
       "\n",
       "       ...,\n",
       "\n",
       "       [[ 0.        ,  0.        ,  0.        ],\n",
       "        [ 0.        ,  0.        ,  0.        ],\n",
       "        [ 0.        ,  0.        ,  0.        ],\n",
       "        ...,\n",
       "        [ 0.        ,  0.        ,  0.        ],\n",
       "        [ 0.        ,  0.        ,  0.        ],\n",
       "        [ 0.        ,  0.        ,  0.        ]],\n",
       "\n",
       "       [[ 0.        ,  0.        ,  0.        ],\n",
       "        [ 0.        ,  0.        ,  0.        ],\n",
       "        [ 0.        ,  0.        ,  0.        ],\n",
       "        ...,\n",
       "        [ 0.        ,  0.        ,  0.        ],\n",
       "        [ 0.        ,  0.        ,  0.        ],\n",
       "        [ 0.        ,  0.        ,  0.        ]],\n",
       "\n",
       "       [[ 0.        ,  0.        ,  0.        ],\n",
       "        [ 0.        ,  0.        ,  0.        ],\n",
       "        [ 0.        ,  0.        ,  0.        ],\n",
       "        ...,\n",
       "        [ 0.        ,  0.        ,  0.        ],\n",
       "        [ 0.        ,  0.        ,  0.        ],\n",
       "        [ 0.        ,  0.        ,  0.        ]]], dtype=float32)"
      ]
     },
     "execution_count": 16,
     "metadata": {},
     "output_type": "execute_result"
    }
   ],
   "source": [
    "test_x[-17:]"
   ]
  },
  {
   "cell_type": "code",
   "execution_count": 29,
   "id": "49703fe3",
   "metadata": {},
   "outputs": [
    {
     "data": {
      "application/vnd.jupyter.widget-view+json": {
       "model_id": "b9f194314a8147b6a6049f0bbf668f04",
       "version_major": 2,
       "version_minor": 0
      },
      "text/plain": [
       "  0%|          | 0/16 [00:00<?, ?it/s]"
      ]
     },
     "metadata": {},
     "output_type": "display_data"
    }
   ],
   "source": [
    "save_files(, test_df)"
   ]
  },
  {
   "cell_type": "code",
   "execution_count": 44,
   "id": "314cc451",
   "metadata": {},
   "outputs": [
    {
     "data": {
      "text/html": [
       "<div>\n",
       "<style scoped>\n",
       "    .dataframe tbody tr th:only-of-type {\n",
       "        vertical-align: middle;\n",
       "    }\n",
       "\n",
       "    .dataframe tbody tr th {\n",
       "        vertical-align: top;\n",
       "    }\n",
       "\n",
       "    .dataframe thead th {\n",
       "        text-align: right;\n",
       "    }\n",
       "</style>\n",
       "<table border=\"1\" class=\"dataframe\">\n",
       "  <thead>\n",
       "    <tr style=\"text-align: right;\">\n",
       "      <th></th>\n",
       "      <th>id</th>\n",
       "      <th>target</th>\n",
       "      <th>path</th>\n",
       "    </tr>\n",
       "  </thead>\n",
       "  <tbody>\n",
       "    <tr>\n",
       "      <th>0</th>\n",
       "      <td>00005bced6</td>\n",
       "      <td>0.5</td>\n",
       "      <td>../input/g2net-gravitational-wave-detection/te...</td>\n",
       "    </tr>\n",
       "    <tr>\n",
       "      <th>1</th>\n",
       "      <td>0000806717</td>\n",
       "      <td>0.5</td>\n",
       "      <td>../input/g2net-gravitational-wave-detection/te...</td>\n",
       "    </tr>\n",
       "    <tr>\n",
       "      <th>2</th>\n",
       "      <td>0000ef4fe1</td>\n",
       "      <td>0.5</td>\n",
       "      <td>../input/g2net-gravitational-wave-detection/te...</td>\n",
       "    </tr>\n",
       "    <tr>\n",
       "      <th>3</th>\n",
       "      <td>00020de251</td>\n",
       "      <td>0.5</td>\n",
       "      <td>../input/g2net-gravitational-wave-detection/te...</td>\n",
       "    </tr>\n",
       "    <tr>\n",
       "      <th>4</th>\n",
       "      <td>00024887b5</td>\n",
       "      <td>0.5</td>\n",
       "      <td>../input/g2net-gravitational-wave-detection/te...</td>\n",
       "    </tr>\n",
       "    <tr>\n",
       "      <th>...</th>\n",
       "      <td>...</td>\n",
       "      <td>...</td>\n",
       "      <td>...</td>\n",
       "    </tr>\n",
       "    <tr>\n",
       "      <th>225995</th>\n",
       "      <td>ffff4125f1</td>\n",
       "      <td>0.5</td>\n",
       "      <td>../input/g2net-gravitational-wave-detection/te...</td>\n",
       "    </tr>\n",
       "    <tr>\n",
       "      <th>225996</th>\n",
       "      <td>ffff9d32a6</td>\n",
       "      <td>0.5</td>\n",
       "      <td>../input/g2net-gravitational-wave-detection/te...</td>\n",
       "    </tr>\n",
       "    <tr>\n",
       "      <th>225997</th>\n",
       "      <td>ffff9f4c1f</td>\n",
       "      <td>0.5</td>\n",
       "      <td>../input/g2net-gravitational-wave-detection/te...</td>\n",
       "    </tr>\n",
       "    <tr>\n",
       "      <th>225998</th>\n",
       "      <td>ffffa19693</td>\n",
       "      <td>0.5</td>\n",
       "      <td>../input/g2net-gravitational-wave-detection/te...</td>\n",
       "    </tr>\n",
       "    <tr>\n",
       "      <th>225999</th>\n",
       "      <td>ffffebbfe2</td>\n",
       "      <td>0.5</td>\n",
       "      <td>../input/g2net-gravitational-wave-detection/te...</td>\n",
       "    </tr>\n",
       "  </tbody>\n",
       "</table>\n",
       "<p>226000 rows × 3 columns</p>\n",
       "</div>"
      ],
      "text/plain": [
       "                id  target                                               path\n",
       "0       00005bced6     0.5  ../input/g2net-gravitational-wave-detection/te...\n",
       "1       0000806717     0.5  ../input/g2net-gravitational-wave-detection/te...\n",
       "2       0000ef4fe1     0.5  ../input/g2net-gravitational-wave-detection/te...\n",
       "3       00020de251     0.5  ../input/g2net-gravitational-wave-detection/te...\n",
       "4       00024887b5     0.5  ../input/g2net-gravitational-wave-detection/te...\n",
       "...            ...     ...                                                ...\n",
       "225995  ffff4125f1     0.5  ../input/g2net-gravitational-wave-detection/te...\n",
       "225996  ffff9d32a6     0.5  ../input/g2net-gravitational-wave-detection/te...\n",
       "225997  ffff9f4c1f     0.5  ../input/g2net-gravitational-wave-detection/te...\n",
       "225998  ffffa19693     0.5  ../input/g2net-gravitational-wave-detection/te...\n",
       "225999  ffffebbfe2     0.5  ../input/g2net-gravitational-wave-detection/te...\n",
       "\n",
       "[226000 rows x 3 columns]"
      ]
     },
     "execution_count": 44,
     "metadata": {},
     "output_type": "execute_result"
    }
   ],
   "source": []
  },
  {
   "cell_type": "code",
   "execution_count": 45,
   "id": "d62349cc",
   "metadata": {},
   "outputs": [],
   "source": [
    "i = 0\n",
    "for ind in test_df.iloc[-16:].index:\n",
    "    test_x[ind] = np.load(f\"../input/filtered/{test_df.iloc[ind].id}.npy\")\n"
   ]
  },
  {
   "cell_type": "code",
   "execution_count": 47,
   "id": "1b88a6bb",
   "metadata": {},
   "outputs": [],
   "source": [
    "# np.savez(f\"{INPUT_DIR}/dataset.npz\", train_x, train_y, test_x)\n",
    "# np.save(f\"{INPUT_DIR}/train_x.npy\", train_x)\n",
    "# np.save(f\"{INPUT_DIR}/train_y.npy\", train_y)\n",
    "np.save(f\"{INPUT_DIR}/test_x.npy\", test_x)"
   ]
  },
  {
   "cell_type": "code",
   "execution_count": 46,
   "id": "b7f2d16b",
   "metadata": {},
   "outputs": [
    {
     "data": {
      "text/plain": [
       "array([[[ 0.1246516 ,  0.05904157,  0.05949322],\n",
       "        [ 0.18227789,  0.12275852,  0.22884452],\n",
       "        [ 0.20864534,  0.17730013,  0.2786787 ],\n",
       "        ...,\n",
       "        [-0.04188983,  0.3825923 , -0.07423549],\n",
       "        [ 0.04799047,  0.22818792, -0.05167435],\n",
       "        [ 0.07813493,  0.03292836,  0.03669486]],\n",
       "\n",
       "       [[-0.01073111,  0.18248162, -0.00180754],\n",
       "        [ 0.22839126, -0.18469845, -0.02156874],\n",
       "        [ 0.32300073, -0.45050958, -0.0229334 ],\n",
       "        ...,\n",
       "        [-0.06835276,  0.39612588, -0.30983418],\n",
       "        [-0.04245393,  0.24756773, -0.15696232],\n",
       "        [-0.01998452, -0.03911129,  0.04262162]],\n",
       "\n",
       "       [[ 0.06984168,  0.00831802, -0.00564737],\n",
       "        [ 0.11111585,  0.03480548,  0.15226942],\n",
       "        [ 0.14903949,  0.06390033,  0.26502427],\n",
       "        ...,\n",
       "        [ 0.20059855,  0.48006037, -0.41830468],\n",
       "        [ 0.11511093,  0.21778609, -0.25183508],\n",
       "        [-0.00485693, -0.05394083, -0.10547303]],\n",
       "\n",
       "       ...,\n",
       "\n",
       "       [[-0.00893921,  0.05271262, -0.02456646],\n",
       "        [ 0.20882395,  0.14467342,  0.18065543],\n",
       "        [ 0.37547922,  0.22366709,  0.32622567],\n",
       "        ...,\n",
       "        [-0.2750395 ,  0.30708805,  0.2314681 ],\n",
       "        [-0.09320436,  0.12928641,  0.13728228],\n",
       "        [ 0.10059275, -0.08695804, -0.03348591]],\n",
       "\n",
       "       [[-0.04774014, -0.02244412, -0.03348323],\n",
       "        [-0.22915392, -0.28243425, -0.0328992 ],\n",
       "        [-0.38757953, -0.43348566, -0.04871625],\n",
       "        ...,\n",
       "        [ 0.14559005,  0.59458935, -0.633379  ],\n",
       "        [ 0.06514926,  0.33885953, -0.36925885],\n",
       "        [-0.05570948,  0.04521554,  0.02729474]],\n",
       "\n",
       "       [[-0.0378134 , -0.07627966,  0.06426247],\n",
       "        [-0.3993946 , -0.33985233,  0.2234395 ],\n",
       "        [-0.7009897 , -0.56823933,  0.37588352],\n",
       "        ...,\n",
       "        [-0.46817166,  0.17572007, -0.3146597 ],\n",
       "        [-0.28349027,  0.15098062, -0.17052698],\n",
       "        [-0.00168403,  0.05497588,  0.00426484]]], dtype=float32)"
      ]
     },
     "execution_count": 46,
     "metadata": {},
     "output_type": "execute_result"
    }
   ],
   "source": [
    "test_x"
   ]
  }
 ],
 "metadata": {
  "kernelspec": {
   "display_name": "Python 3 (ipykernel)",
   "language": "python",
   "name": "python3"
  },
  "language_info": {
   "codemirror_mode": {
    "name": "ipython",
    "version": 3
   },
   "file_extension": ".py",
   "mimetype": "text/x-python",
   "name": "python",
   "nbconvert_exporter": "python",
   "pygments_lexer": "ipython3",
   "version": "3.7.10"
  }
 },
 "nbformat": 4,
 "nbformat_minor": 5
}
