{
 "cells": [
  {
   "cell_type": "code",
   "execution_count": 1,
   "id": "1f4143ce",
   "metadata": {},
   "outputs": [],
   "source": [
    "import numpy as np\n",
    "from glob import glob\n",
    "import tensorflow as tf\n",
    "from tqdm.notebook import tqdm"
   ]
  },
  {
   "cell_type": "code",
   "execution_count": 2,
   "id": "e1bc13fc",
   "metadata": {},
   "outputs": [],
   "source": [
    "INPUT_DIR = \"../input/g2net-gravitational-wave-detection\"\n",
    "train_x = np.load(f\"{INPUT_DIR}/train_x.npy\")\n",
    "train_y = np.load(f\"{INPUT_DIR}/train_y.npy\")\n",
    "test_x = np.load(f\"{INPUT_DIR}/test_x.npy\")"
   ]
  },
  {
   "cell_type": "code",
   "execution_count": 8,
   "id": "1904d6c8",
   "metadata": {},
   "outputs": [
    {
     "name": "stdout",
     "output_type": "stream",
     "text": [
      "34999\n",
      "69999\n",
      "104999\n",
      "139999\n",
      "174999\n",
      "209999\n",
      "244999\n",
      "279999\n",
      "314999\n",
      "349999\n",
      "384999\n",
      "419999\n",
      "454999\n",
      "489999\n",
      "524999\n",
      "559999\n"
     ]
    }
   ],
   "source": []
  },
  {
   "cell_type": "code",
   "execution_count": 12,
   "id": "973df068",
   "metadata": {},
   "outputs": [
    {
     "data": {
      "application/vnd.jupyter.widget-view+json": {
       "model_id": "1874348db6854cbe9d9fe264c4af5489",
       "version_major": 2,
       "version_minor": 0
      },
      "text/plain": [
       "  0%|          | 0/16 [00:00<?, ?it/s]"
      ]
     },
     "metadata": {},
     "output_type": "display_data"
    },
    {
     "data": {
      "application/vnd.jupyter.widget-view+json": {
       "model_id": "9fc0b9a4002241ed91ea84932ae2dd6e",
       "version_major": 2,
       "version_minor": 0
      },
      "text/plain": [
       "  0%|          | 0/35000 [00:00<?, ?it/s]"
      ]
     },
     "metadata": {},
     "output_type": "display_data"
    },
    {
     "data": {
      "application/vnd.jupyter.widget-view+json": {
       "model_id": "4b8cb78f32e245d7839082be2ad248c3",
       "version_major": 2,
       "version_minor": 0
      },
      "text/plain": [
       "  0%|          | 0/35000 [00:00<?, ?it/s]"
      ]
     },
     "metadata": {},
     "output_type": "display_data"
    },
    {
     "data": {
      "application/vnd.jupyter.widget-view+json": {
       "model_id": "db1de1fdf55c4dc8a5f527a8cf86d608",
       "version_major": 2,
       "version_minor": 0
      },
      "text/plain": [
       "  0%|          | 0/35000 [00:00<?, ?it/s]"
      ]
     },
     "metadata": {},
     "output_type": "display_data"
    },
    {
     "data": {
      "application/vnd.jupyter.widget-view+json": {
       "model_id": "c5802d68aaca45bca5c1313c28f969d1",
       "version_major": 2,
       "version_minor": 0
      },
      "text/plain": [
       "  0%|          | 0/35000 [00:00<?, ?it/s]"
      ]
     },
     "metadata": {},
     "output_type": "display_data"
    },
    {
     "data": {
      "application/vnd.jupyter.widget-view+json": {
       "model_id": "81869ed946474aca919c30243b7c190f",
       "version_major": 2,
       "version_minor": 0
      },
      "text/plain": [
       "  0%|          | 0/35000 [00:00<?, ?it/s]"
      ]
     },
     "metadata": {},
     "output_type": "display_data"
    },
    {
     "data": {
      "application/vnd.jupyter.widget-view+json": {
       "model_id": "e6cd0aa08da544869cebfa174312a0d8",
       "version_major": 2,
       "version_minor": 0
      },
      "text/plain": [
       "  0%|          | 0/35000 [00:00<?, ?it/s]"
      ]
     },
     "metadata": {},
     "output_type": "display_data"
    },
    {
     "data": {
      "application/vnd.jupyter.widget-view+json": {
       "model_id": "0d61b2e9d58d489e9fdfd09365956a7b",
       "version_major": 2,
       "version_minor": 0
      },
      "text/plain": [
       "  0%|          | 0/35000 [00:00<?, ?it/s]"
      ]
     },
     "metadata": {},
     "output_type": "display_data"
    },
    {
     "data": {
      "application/vnd.jupyter.widget-view+json": {
       "model_id": "23f5ea6cf3fc4c5787440cf9e05cd8e2",
       "version_major": 2,
       "version_minor": 0
      },
      "text/plain": [
       "  0%|          | 0/35000 [00:00<?, ?it/s]"
      ]
     },
     "metadata": {},
     "output_type": "display_data"
    },
    {
     "data": {
      "application/vnd.jupyter.widget-view+json": {
       "model_id": "22a59509578a4a37a12442e379388455",
       "version_major": 2,
       "version_minor": 0
      },
      "text/plain": [
       "  0%|          | 0/35000 [00:00<?, ?it/s]"
      ]
     },
     "metadata": {},
     "output_type": "display_data"
    },
    {
     "data": {
      "application/vnd.jupyter.widget-view+json": {
       "model_id": "e36409f9b7da41b48411aeb3bac7651d",
       "version_major": 2,
       "version_minor": 0
      },
      "text/plain": [
       "  0%|          | 0/35000 [00:00<?, ?it/s]"
      ]
     },
     "metadata": {},
     "output_type": "display_data"
    },
    {
     "data": {
      "application/vnd.jupyter.widget-view+json": {
       "model_id": "0d5c9027c7f64f04a0d47ae43980f148",
       "version_major": 2,
       "version_minor": 0
      },
      "text/plain": [
       "  0%|          | 0/35000 [00:00<?, ?it/s]"
      ]
     },
     "metadata": {},
     "output_type": "display_data"
    },
    {
     "data": {
      "application/vnd.jupyter.widget-view+json": {
       "model_id": "2a05072fe5594da988ae2606ab0b1631",
       "version_major": 2,
       "version_minor": 0
      },
      "text/plain": [
       "  0%|          | 0/35000 [00:00<?, ?it/s]"
      ]
     },
     "metadata": {},
     "output_type": "display_data"
    },
    {
     "data": {
      "application/vnd.jupyter.widget-view+json": {
       "model_id": "b97ee73d4a8f423dbe3114ff4dd0d714",
       "version_major": 2,
       "version_minor": 0
      },
      "text/plain": [
       "  0%|          | 0/35000 [00:00<?, ?it/s]"
      ]
     },
     "metadata": {},
     "output_type": "display_data"
    },
    {
     "data": {
      "application/vnd.jupyter.widget-view+json": {
       "model_id": "7edb4553f568441ab28d749d0dc334e0",
       "version_major": 2,
       "version_minor": 0
      },
      "text/plain": [
       "  0%|          | 0/35000 [00:00<?, ?it/s]"
      ]
     },
     "metadata": {},
     "output_type": "display_data"
    },
    {
     "data": {
      "application/vnd.jupyter.widget-view+json": {
       "model_id": "bad5931347a14b069ce06863fcd9180f",
       "version_major": 2,
       "version_minor": 0
      },
      "text/plain": [
       "  0%|          | 0/35000 [00:00<?, ?it/s]"
      ]
     },
     "metadata": {},
     "output_type": "display_data"
    },
    {
     "data": {
      "application/vnd.jupyter.widget-view+json": {
       "model_id": "10cb8c7b1c7f49ce936c184b10fbec5c",
       "version_major": 2,
       "version_minor": 0
      },
      "text/plain": [
       "  0%|          | 0/35000 [00:00<?, ?it/s]"
      ]
     },
     "metadata": {},
     "output_type": "display_data"
    }
   ],
   "source": [
    "# writer = tf.python_io.TFRecordWriter(output_file)\n",
    "batches = 16\n",
    "batch_size = train_x.shape[0] // batches\n",
    "for i in tqdm(range(batches)):\n",
    "    rng = (range(i * batch_size, (i+1)*batch_size))\n",
    "    tr_x = train_x[rng]\n",
    "    tr_y = train_y[rng]\n",
    "    output_file = f\"train_{i}.tfrec\"\n",
    "    writer = tf.io.TFRecordWriter(output_file)\n",
    "    for i in tqdm(range(tr_x.shape[0])):\n",
    "        X = tr_x[i]\n",
    "        y = tr_y[i]\n",
    "\n",
    "        # Feature contains a map of string to feature proto objects\n",
    "        feature = {}\n",
    "        feature[\"X\"] = tf.train.Feature(float_list=tf.train.FloatList(value=X.flatten()))\n",
    "        feature[\"y\"] = tf.train.Feature(int64_list=tf.train.Int64List(value=[y]))\n",
    "\n",
    "        #contruct the Example proto object\n",
    "        example = tf.train.Example(features=tf.train.Features(feature=feature))\n",
    "        serialized = example.SerializeToString()\n",
    "\n",
    "        # write the serialized object to disk\n",
    "        writer.write(serialized)\n",
    "    writer.close()\n"
   ]
  },
  {
   "cell_type": "code",
   "execution_count": 14,
   "id": "e0e4f261",
   "metadata": {},
   "outputs": [
    {
     "data": {
      "text/plain": [
       "28250.0"
      ]
     },
     "execution_count": 14,
     "metadata": {},
     "output_type": "execute_result"
    }
   ],
   "source": []
  },
  {
   "cell_type": "code",
   "execution_count": null,
   "id": "6a9b569b",
   "metadata": {},
   "outputs": [],
   "source": [
    "batches = 8\n",
    "batch_size = test_x.shape[0] // batches\n",
    "for i in tqdm(range(batches)):\n",
    "    rng = (range(i * batch_size, (i+1)*batch_size))\n",
    "    tr_x = test_x[rng]\n",
    "    output_file = f\"train_{i}.tfrec\"\n",
    "    writer = tf.io.TFRecordWriter(output_file)\n",
    "    for i in tqdm(range(tr_x.shape[0])):\n",
    "        X = tr_x[i]\n",
    "        y = tr_y[i]\n",
    "\n",
    "        # Feature contains a map of string to feature proto objects\n",
    "        feature = {}\n",
    "        feature[\"X\"] = tf.train.Feature(float_list=tf.train.FloatList(value=X.flatten()))\n",
    "        feature[\"y\"] = tf.train.Feature(int64_list=tf.train.Int64List(value=[y]))\n",
    "\n",
    "        #contruct the Example proto object\n",
    "        example = tf.train.Example(features=tf.train.Features(feature=feature))\n",
    "        serialized = example.SerializeToString()\n",
    "\n",
    "        # write the serialized object to disk\n",
    "        writer.write(serialized)\n",
    "    writer.close()\n"
   ]
  },
  {
   "cell_type": "code",
   "execution_count": 17,
   "id": "4dc30db0",
   "metadata": {},
   "outputs": [
    {
     "data": {
      "application/vnd.jupyter.widget-view+json": {
       "model_id": "1e27abc603024c1f83373840d850ebd3",
       "version_major": 2,
       "version_minor": 0
      },
      "text/plain": [
       "  0%|          | 0/226000 [00:00<?, ?it/s]"
      ]
     },
     "metadata": {},
     "output_type": "display_data"
    }
   ],
   "source": [
    "output_file = \"test_x.tfrec\"\n",
    "writer = tf.io.TFRecordWriter(output_file)\n",
    "for i in tqdm(range(test_x.shape[0])):\n",
    "    X = test_x[i]\n",
    "    \n",
    "    feature = {}\n",
    "    feature[\"X\"] = tf.train.Feature(float_list=tf.train.FloatList(value=X.flatten()))\n",
    "    \n",
    "    example = tf.train.Example(features=tf.train.Features(feature=feature))\n",
    "    serialized = example.SerializeToString()\n",
    "    \n",
    "    writer.write(serialized)\n",
    "writer.close()"
   ]
  },
  {
   "cell_type": "code",
   "execution_count": null,
   "id": "ae0cb3eb",
   "metadata": {},
   "outputs": [],
   "source": []
  }
 ],
 "metadata": {
  "kernelspec": {
   "display_name": "Python 3 (ipykernel)",
   "language": "python",
   "name": "python3"
  },
  "language_info": {
   "codemirror_mode": {
    "name": "ipython",
    "version": 3
   },
   "file_extension": ".py",
   "mimetype": "text/x-python",
   "name": "python",
   "nbconvert_exporter": "python",
   "pygments_lexer": "ipython3",
   "version": "3.7.10"
  }
 },
 "nbformat": 4,
 "nbformat_minor": 5
}
