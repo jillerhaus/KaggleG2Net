{
 "cells": [
  {
   "cell_type": "code",
   "execution_count": 1,
   "id": "52c2026d",
   "metadata": {},
   "outputs": [],
   "source": [
    "import h5py\n",
    "from glob import glob\n",
    "import matplotlib.pyplot as plt\n",
    "import numpy as np\n",
    "import pandas as pd\n",
    "from sklearn.preprocessing import normalize\n",
    "import tensorflow as tf\n",
    "from tqdm.notebook import tqdm\n",
    "import gwpy\n",
    "from gwpy.timeseries import TimeSeries\n",
    "# tf.config.experimental.set_memory_growth()"
   ]
  },
  {
   "cell_type": "code",
   "execution_count": 2,
   "id": "8e8aa09b",
   "metadata": {},
   "outputs": [],
   "source": [
    "INPUT_FILE = \"../input/synthetic-h5/train_300_3.h5\""
   ]
  },
  {
   "cell_type": "code",
   "execution_count": 3,
   "id": "9100aaec",
   "metadata": {},
   "outputs": [],
   "source": [
    "with h5py.File(INPUT_FILE, \"r\") as f:\n",
    "    injection_shape = f[\"injection_samples\"][\"h1_strain\"].shape\n",
    "    noise_shape = f[\"noise_samples\"][\"h1_strain\"].shape\n",
    "    \n",
    "    injections_h1 = np.array(f[\"injection_samples\"][\"h1_strain\"])\n",
    "    ground_truths_h1 = np.array(f[\"injection_parameters\"][\"h1_signal\"])\n",
    "    noise_h1 = np.array(f[\"noise_samples\"][\"h1_strain\"])\n",
    "    \n",
    "    injections_l1 = np.array(f[\"injection_samples\"][\"l1_strain\"])\n",
    "    ground_truths_l1 = np.array(f[\"injection_parameters\"][\"l1_signal\"])\n",
    "    noise_l1 = np.array(f[\"noise_samples\"][\"l1_strain\"])\n",
    "    \n",
    "    injections_v1 = np.array(f[\"injection_samples\"][\"v1_strain\"])\n",
    "    noise_v1 = np.array(f[\"noise_samples\"][\"v1_strain\"])\n",
    "    ground_truths_v1 = np.array(f[\"injection_parameters\"][\"v1_signal\"])\n",
    "    "
   ]
  },
  {
   "cell_type": "code",
   "execution_count": 4,
   "id": "c1e5ec20",
   "metadata": {},
   "outputs": [
    {
     "data": {
      "text/plain": [
       "[<matplotlib.lines.Line2D at 0x1f755b76b88>]"
      ]
     },
     "execution_count": 4,
     "metadata": {},
     "output_type": "execute_result"
    },
    {
     "data": {
      "image/png": "[encoded data removed]",
      "text/plain": [
       "<Figure size 432x288 with 1 Axes>"
      ]
     },
     "metadata": {
      "needs_background": "light"
     },
     "output_type": "display_data"
    }
   ],
   "source": [
    "with h5py.File(INPUT_FILE, \"r\") as f:\n",
    "    g_t = f[\"injection_parameters\"][\"h1_signal\"][16]\n",
    "plt.plot(g_t)\n"
   ]
  },
  {
   "cell_type": "code",
   "execution_count": 5,
   "id": "f380fb4a",
   "metadata": {},
   "outputs": [
    {
     "data": {
      "text/plain": [
       "[<matplotlib.lines.Line2D at 0x1f756db6408>]"
      ]
     },
     "execution_count": 5,
     "metadata": {},
     "output_type": "execute_result"
    },
    {
     "data": {
      "image/png": "[encoded data removed]",
      "text/plain": [
       "<Figure size 432x288 with 1 Axes>"
      ]
     },
     "metadata": {
      "needs_background": "light"
     },
     "output_type": "display_data"
    }
   ],
   "source": [
    "gt = TimeSeries(g_t, sample_rate=2048)\n",
    "gt = gt.whiten(0.5,0.25)\n",
    "plt.plot(gt)"
   ]
  },
  {
   "cell_type": "code",
   "execution_count": 6,
   "id": "c7cbc507",
   "metadata": {},
   "outputs": [
    {
     "data": {
      "application/vnd.jupyter.widget-view+json": {
       "model_id": "741a1f485a594f47981dbdeec97a7a37",
       "version_major": 2,
       "version_minor": 0
      },
      "text/plain": [
       "  0%|          | 0/100000 [00:00<?, ?it/s]"
      ]
     },
     "metadata": {},
     "output_type": "display_data"
    }
   ],
   "source": [
    "if injection_shape[1] == noise_shape[1]:\n",
    "    ds_shape = (injection_shape[0] + noise_shape[0], injection_shape[1],3)\n",
    "    targets = np.zeros(ds_shape[0], dtype=np.uint8)\n",
    "    timeseries = np.zeros(ds_shape)\n",
    "    ground_truths = np.zeros(ds_shape)\n",
    "    targets[:injection_shape[0]] = 1\n",
    "    targets[injection_shape[0]:] = 0\n",
    "    timeseries[:injection_shape[0],:,0] = injections_h1\n",
    "    timeseries[injection_shape[0]:,:,0] = noise_h1\n",
    "    ground_truths[:injection_shape[0],:,0] = ground_truths_h1\n",
    "    timeseries[:injection_shape[0],:,1] = injections_l1\n",
    "    timeseries[injection_shape[0]:,:,1] = noise_l1\n",
    "    ground_truths[:injection_shape[0],:,1] = ground_truths_l1\n",
    "    timeseries[:injection_shape[0],:,2] = injections_v1\n",
    "    timeseries[injection_shape[0]:,:,2] = noise_v1\n",
    "    ground_truths[:injection_shape[0],:,2] = ground_truths_v1\n",
    "    \n",
    "    \n",
    "for i in tqdm(range(timeseries.shape[0])):\n",
    "    timeseries[i] /= abs(timeseries[i]).max()\n",
    "\n",
    "    "
   ]
  },
  {
   "cell_type": "code",
   "execution_count": 7,
   "id": "a15f76dc",
   "metadata": {},
   "outputs": [
    {
     "data": {
      "application/vnd.jupyter.widget-view+json": {
       "model_id": "7b9d1c3375364c319ec2d28cf5d0d684",
       "version_major": 2,
       "version_minor": 0
      },
      "text/plain": [
       "  0%|          | 0/50000 [00:00<?, ?it/s]"
      ]
     },
     "metadata": {},
     "output_type": "display_data"
    }
   ],
   "source": [
    "# for i in tqdm(range(injection_shape[0])):\n",
    "#     for j in range(ground_truths.shape[2]):\n",
    "#         gt = TimeSeries(ground_truths[i,:,j], sample_rate=2048)\n",
    "#         gt = gt.whiten(0.5,0.25)\n",
    "#         ground_truths[i,:,j] = gt\n",
    "for i in tqdm(range(injection_shape[0])):\n",
    "    ground_truths[i] /= abs(ground_truths[i]).max()"
   ]
  },
  {
   "cell_type": "code",
   "execution_count": 8,
   "id": "1bf9299e",
   "metadata": {},
   "outputs": [
    {
     "data": {
      "application/vnd.jupyter.widget-view+json": {
       "model_id": "9dcc26cafa1645a99af0e5ccdb40806f",
       "version_major": 2,
       "version_minor": 0
      },
      "text/plain": [
       "  0%|          | 0/8 [00:00<?, ?it/s]"
      ]
     },
     "metadata": {},
     "output_type": "display_data"
    },
    {
     "data": {
      "application/vnd.jupyter.widget-view+json": {
       "model_id": "452c20e68f5e42e39e0ae5583cbad558",
       "version_major": 2,
       "version_minor": 0
      },
      "text/plain": [
       "  0%|          | 0/12500 [00:00<?, ?it/s]"
      ]
     },
     "metadata": {},
     "output_type": "display_data"
    },
    {
     "data": {
      "application/vnd.jupyter.widget-view+json": {
       "model_id": "bf252f4caf2546839d8dcce990d743e8",
       "version_major": 2,
       "version_minor": 0
      },
      "text/plain": [
       "  0%|          | 0/12500 [00:00<?, ?it/s]"
      ]
     },
     "metadata": {},
     "output_type": "display_data"
    },
    {
     "data": {
      "application/vnd.jupyter.widget-view+json": {
       "model_id": "6be6dfad6bbc490aa3cb69e2e1b10f63",
       "version_major": 2,
       "version_minor": 0
      },
      "text/plain": [
       "  0%|          | 0/12500 [00:00<?, ?it/s]"
      ]
     },
     "metadata": {},
     "output_type": "display_data"
    },
    {
     "data": {
      "application/vnd.jupyter.widget-view+json": {
       "model_id": "ebbba5711bfb4ef580b212c6d232b77e",
       "version_major": 2,
       "version_minor": 0
      },
      "text/plain": [
       "  0%|          | 0/12500 [00:00<?, ?it/s]"
      ]
     },
     "metadata": {},
     "output_type": "display_data"
    },
    {
     "data": {
      "application/vnd.jupyter.widget-view+json": {
       "model_id": "78a5a8348d624c14b651550bb3d3f6b2",
       "version_major": 2,
       "version_minor": 0
      },
      "text/plain": [
       "  0%|          | 0/12500 [00:00<?, ?it/s]"
      ]
     },
     "metadata": {},
     "output_type": "display_data"
    },
    {
     "data": {
      "application/vnd.jupyter.widget-view+json": {
       "model_id": "f07e3fd9aa0b4288a890da6a5405ac6b",
       "version_major": 2,
       "version_minor": 0
      },
      "text/plain": [
       "  0%|          | 0/12500 [00:00<?, ?it/s]"
      ]
     },
     "metadata": {},
     "output_type": "display_data"
    },
    {
     "data": {
      "application/vnd.jupyter.widget-view+json": {
       "model_id": "d722711cb5214744914be00d0a07ca14",
       "version_major": 2,
       "version_minor": 0
      },
      "text/plain": [
       "  0%|          | 0/12500 [00:00<?, ?it/s]"
      ]
     },
     "metadata": {},
     "output_type": "display_data"
    },
    {
     "data": {
      "application/vnd.jupyter.widget-view+json": {
       "model_id": "7eb007f2c43a49cfb5c4b7682f46c5f8",
       "version_major": 2,
       "version_minor": 0
      },
      "text/plain": [
       "  0%|          | 0/12500 [00:00<?, ?it/s]"
      ]
     },
     "metadata": {},
     "output_type": "display_data"
    }
   ],
   "source": [
    "batches = 8\n",
    "batch_size = timeseries.shape[0] // batches\n",
    "indices = np.arange(targets.shape[0])\n",
    "np.random.shuffle(indices)\n",
    "for i in tqdm(range(batches)):\n",
    "    rg_n = range(i*batch_size,(i+1)*batch_size)\n",
    "    inds = indices[rg_n]\n",
    "    output_file = f\"../input/synthetic-tfrec/{INPUT_FILE.split('/')[-1].replace('.h5','')}_{batch_size}_{i:02}.tfrec\"\n",
    "    writer = tf.io.TFRecordWriter(output_file)\n",
    "    \n",
    "    for j in tqdm(range(inds.shape[0])):\n",
    "        X = timeseries[inds[j]]\n",
    "        y = targets[inds[j]]\n",
    "        y1 = ground_truths[inds[j]]\n",
    "        feature={}\n",
    "        feature[\"TimeSeries\"] = tf.train.Feature(float_list=tf.train.FloatList(value=X.flatten()))\n",
    "        feature[\"GroundTruths\"] = tf.train.Feature(float_list=tf.train.FloatList(value=y1.flatten()))\n",
    "        feature[\"Target\"] = tf.train.Feature(int64_list=tf.train.Int64List(value=[y]))\n",
    "\n",
    "        example = tf.train.Example(features=tf.train.Features(feature=feature))\n",
    "        serialized = example.SerializeToString()\n",
    "        writer.write(serialized)\n",
    "    writer.close()      \n"
   ]
  },
  {
   "cell_type": "code",
   "execution_count": null,
   "id": "2beaeb38",
   "metadata": {},
   "outputs": [],
   "source": []
  }
 ],
 "metadata": {
  "kernelspec": {
   "display_name": "Python 3 (ipykernel)",
   "language": "python",
   "name": "python3"
  },
  "language_info": {
   "codemirror_mode": {
    "name": "ipython",
    "version": 3
   },
   "file_extension": ".py",
   "mimetype": "text/x-python",
   "name": "python",
   "nbconvert_exporter": "python",
   "pygments_lexer": "ipython3",
   "version": "3.7.10"
  }
 },
 "nbformat": 4,
 "nbformat_minor": 5
}
