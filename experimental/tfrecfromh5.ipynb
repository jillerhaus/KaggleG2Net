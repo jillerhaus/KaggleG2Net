{
 "cells": [
  {
   "cell_type": "code",
   "execution_count": 4,
   "id": "52c2026d",
   "metadata": {},
   "outputs": [],
   "source": [
    "import h5py\n",
    "from glob import glob\n",
    "import matplotlib.pyplot as plt\n",
    "import numpy as np\n",
    "import pandas as pd\n",
    "from sklearn.preprocessing import normalize\n",
    "import tensorflow as tf\n",
    "from tqdm.notebook import tqdm\n",
    "import gwpy\n",
    "from gwpy.timeseries import TimeSeries\n",
    "# tf.config.experimental.set_memory_growth()"
   ]
  },
  {
   "cell_type": "code",
   "execution_count": 5,
   "id": "8e8aa09b",
   "metadata": {},
   "outputs": [],
   "source": [
    "INPUT_FILE = \"../input/synthetic-h5/train_200_3.h5\""
   ]
  },
  {
   "cell_type": "code",
   "execution_count": 6,
   "id": "1aab026b",
   "metadata": {},
   "outputs": [
    {
     "ename": "OSError",
     "evalue": "Unable to open file (unable to open file: name = '../input/synthetic-h5/train_200_3.h5', errno = 2, error message = 'No such file or directory', flags = 0, o_flags = 0)",
     "output_type": "error",
     "traceback": [
      "\u001b[1;31m---------------------------------------------------------------------------\u001b[0m",
      "\u001b[1;31mOSError\u001b[0m                                   Traceback (most recent call last)",
      "\u001b[1;32m~\\AppData\\Local\\Temp/ipykernel_26872/1521153623.py\u001b[0m in \u001b[0;36m<module>\u001b[1;34m\u001b[0m\n\u001b[1;32m----> 1\u001b[1;33m \u001b[1;32mwith\u001b[0m \u001b[0mh5py\u001b[0m\u001b[1;33m.\u001b[0m\u001b[0mFile\u001b[0m\u001b[1;33m(\u001b[0m\u001b[0mINPUT_FILE\u001b[0m\u001b[1;33m,\u001b[0m \u001b[1;34m\"r\"\u001b[0m\u001b[1;33m)\u001b[0m \u001b[1;32mas\u001b[0m \u001b[0mf\u001b[0m\u001b[1;33m:\u001b[0m\u001b[1;33m\u001b[0m\u001b[1;33m\u001b[0m\u001b[0m\n\u001b[0m\u001b[0;32m      2\u001b[0m     \u001b[0minjection_shape\u001b[0m \u001b[1;33m=\u001b[0m \u001b[0mf\u001b[0m\u001b[1;33m[\u001b[0m\u001b[1;34m\"injection_samples\"\u001b[0m\u001b[1;33m]\u001b[0m\u001b[1;33m[\u001b[0m\u001b[1;34m\"h1_strain\"\u001b[0m\u001b[1;33m]\u001b[0m\u001b[1;33m.\u001b[0m\u001b[0mshape\u001b[0m\u001b[1;33m\u001b[0m\u001b[1;33m\u001b[0m\u001b[0m\n\u001b[0;32m      3\u001b[0m     \u001b[0mnoise_shape\u001b[0m \u001b[1;33m=\u001b[0m \u001b[0mf\u001b[0m\u001b[1;33m[\u001b[0m\u001b[1;34m\"noise_samples\"\u001b[0m\u001b[1;33m]\u001b[0m\u001b[1;33m[\u001b[0m\u001b[1;34m\"h1_strain\"\u001b[0m\u001b[1;33m]\u001b[0m\u001b[1;33m.\u001b[0m\u001b[0mshape\u001b[0m\u001b[1;33m\u001b[0m\u001b[1;33m\u001b[0m\u001b[0m\n\u001b[0;32m      4\u001b[0m \u001b[1;33m\u001b[0m\u001b[0m\n\u001b[0;32m      5\u001b[0m     \u001b[0minjections_h1\u001b[0m \u001b[1;33m=\u001b[0m \u001b[0mnp\u001b[0m\u001b[1;33m.\u001b[0m\u001b[0marray\u001b[0m\u001b[1;33m(\u001b[0m\u001b[0mf\u001b[0m\u001b[1;33m[\u001b[0m\u001b[1;34m\"injection_samples\"\u001b[0m\u001b[1;33m]\u001b[0m\u001b[1;33m[\u001b[0m\u001b[1;34m\"h1_strain\"\u001b[0m\u001b[1;33m]\u001b[0m\u001b[1;33m)\u001b[0m\u001b[1;33m\u001b[0m\u001b[1;33m\u001b[0m\u001b[0m\n",
      "\u001b[1;32m~\\anaconda3\\envs\\g2net-tf\\lib\\site-packages\\h5py\\_hl\\files.py\u001b[0m in \u001b[0;36m__init__\u001b[1;34m(self, name, mode, driver, libver, userblock_size, swmr, rdcc_nslots, rdcc_nbytes, rdcc_w0, track_order, fs_strategy, fs_persist, fs_threshold, **kwds)\u001b[0m\n\u001b[0;32m    425\u001b[0m                                fapl, fcpl=make_fcpl(track_order=track_order, fs_strategy=fs_strategy,\n\u001b[0;32m    426\u001b[0m                                fs_persist=fs_persist, fs_threshold=fs_threshold),\n\u001b[1;32m--> 427\u001b[1;33m                                swmr=swmr)\n\u001b[0m\u001b[0;32m    428\u001b[0m \u001b[1;33m\u001b[0m\u001b[0m\n\u001b[0;32m    429\u001b[0m             \u001b[1;32mif\u001b[0m \u001b[0misinstance\u001b[0m\u001b[1;33m(\u001b[0m\u001b[0mlibver\u001b[0m\u001b[1;33m,\u001b[0m \u001b[0mtuple\u001b[0m\u001b[1;33m)\u001b[0m\u001b[1;33m:\u001b[0m\u001b[1;33m\u001b[0m\u001b[1;33m\u001b[0m\u001b[0m\n",
      "\u001b[1;32m~\\anaconda3\\envs\\g2net-tf\\lib\\site-packages\\h5py\\_hl\\files.py\u001b[0m in \u001b[0;36mmake_fid\u001b[1;34m(name, mode, userblock_size, fapl, fcpl, swmr)\u001b[0m\n\u001b[0;32m    188\u001b[0m         \u001b[1;32mif\u001b[0m \u001b[0mswmr\u001b[0m \u001b[1;32mand\u001b[0m \u001b[0mswmr_support\u001b[0m\u001b[1;33m:\u001b[0m\u001b[1;33m\u001b[0m\u001b[1;33m\u001b[0m\u001b[0m\n\u001b[0;32m    189\u001b[0m             \u001b[0mflags\u001b[0m \u001b[1;33m|=\u001b[0m \u001b[0mh5f\u001b[0m\u001b[1;33m.\u001b[0m\u001b[0mACC_SWMR_READ\u001b[0m\u001b[1;33m\u001b[0m\u001b[1;33m\u001b[0m\u001b[0m\n\u001b[1;32m--> 190\u001b[1;33m         \u001b[0mfid\u001b[0m \u001b[1;33m=\u001b[0m \u001b[0mh5f\u001b[0m\u001b[1;33m.\u001b[0m\u001b[0mopen\u001b[0m\u001b[1;33m(\u001b[0m\u001b[0mname\u001b[0m\u001b[1;33m,\u001b[0m \u001b[0mflags\u001b[0m\u001b[1;33m,\u001b[0m \u001b[0mfapl\u001b[0m\u001b[1;33m=\u001b[0m\u001b[0mfapl\u001b[0m\u001b[1;33m)\u001b[0m\u001b[1;33m\u001b[0m\u001b[1;33m\u001b[0m\u001b[0m\n\u001b[0m\u001b[0;32m    191\u001b[0m     \u001b[1;32melif\u001b[0m \u001b[0mmode\u001b[0m \u001b[1;33m==\u001b[0m \u001b[1;34m'r+'\u001b[0m\u001b[1;33m:\u001b[0m\u001b[1;33m\u001b[0m\u001b[1;33m\u001b[0m\u001b[0m\n\u001b[0;32m    192\u001b[0m         \u001b[0mfid\u001b[0m \u001b[1;33m=\u001b[0m \u001b[0mh5f\u001b[0m\u001b[1;33m.\u001b[0m\u001b[0mopen\u001b[0m\u001b[1;33m(\u001b[0m\u001b[0mname\u001b[0m\u001b[1;33m,\u001b[0m \u001b[0mh5f\u001b[0m\u001b[1;33m.\u001b[0m\u001b[0mACC_RDWR\u001b[0m\u001b[1;33m,\u001b[0m \u001b[0mfapl\u001b[0m\u001b[1;33m=\u001b[0m\u001b[0mfapl\u001b[0m\u001b[1;33m)\u001b[0m\u001b[1;33m\u001b[0m\u001b[1;33m\u001b[0m\u001b[0m\n",
      "\u001b[1;32mh5py\\_objects.pyx\u001b[0m in \u001b[0;36mh5py._objects.with_phil.wrapper\u001b[1;34m()\u001b[0m\n",
      "\u001b[1;32mh5py\\_objects.pyx\u001b[0m in \u001b[0;36mh5py._objects.with_phil.wrapper\u001b[1;34m()\u001b[0m\n",
      "\u001b[1;32mh5py\\h5f.pyx\u001b[0m in \u001b[0;36mh5py.h5f.open\u001b[1;34m()\u001b[0m\n",
      "\u001b[1;31mOSError\u001b[0m: Unable to open file (unable to open file: name = '../input/synthetic-h5/train_200_3.h5', errno = 2, error message = 'No such file or directory', flags = 0, o_flags = 0)"
     ]
    }
   ],
   "source": [
    "with h5py.File(INPUT_FILE, \"r\") as f:\n",
    "    injection_shape = f[\"injection_samples\"][\"h1_strain\"].shape\n",
    "    noise_shape = f[\"noise_samples\"][\"h1_strain\"].shape\n",
    "    \n",
    "    injections_h1 = np.array(f[\"injection_samples\"][\"h1_strain\"])\n",
    "    ground_truths_h1 = np.array(f[\"injection_parameters\"][\"h1_signal\"])\n",
    "    noise_h1 = np.array(f[\"noise_samples\"][\"h1_strain\"])\n",
    "    \n",
    "    injections_l1 = np.array(f[\"injection_samples\"][\"l1_strain\"])\n",
    "    ground_truths_l1 = np.array(f[\"injection_parameters\"][\"l1_signal\"])\n",
    "    noise_l1 = np.array(f[\"noise_samples\"][\"l1_strain\"])\n",
    "    \n",
    "    injections_v1 = np.array(f[\"injection_samples\"][\"v1_strain\"])\n",
    "    noise_v1 = np.array(f[\"noise_samples\"][\"v1_strain\"])\n",
    "    ground_truths_v1 = np.array(f[\"injection_parameters\"][\"v1_signal\"])\n",
    "    "
   ]
  },
  {
   "cell_type": "code",
   "execution_count": null,
   "id": "b5f88e77",
   "metadata": {},
   "outputs": [],
   "source": []
  },
  {
   "cell_type": "raw",
   "id": "f92f7d61",
   "metadata": {},
   "source": [
    "with h5py.File(INPUT_FILE, \"r\") as f:\n",
    "    h1_snr = np.array(f[\"injection_parameters\"][\"h1_snr\"])\n",
    "    l1_snr = np.array(f[\"injection_parameters\"][\"l1_snr\"])\n",
    "    v1_snr = np.array(f[\"injection_parameters\"][\"v1_snr\"])\n",
    "    scale_factor = np.array(f[\"injection_parameters\"][\"scale_factor\"])\n",
    "    masses =np.array(f[\"injection_parameters\"][\"mass1\"])"
   ]
  },
  {
   "cell_type": "code",
   "execution_count": null,
   "id": "c1e5ec20",
   "metadata": {},
   "outputs": [],
   "source": [
    "with h5py.File(INPUT_FILE, \"r\") as f:\n",
    "    g_t = f[\"injection_parameters\"][\"h1_signal\"][16]\n",
    "plt.plot(g_t)\n"
   ]
  },
  {
   "cell_type": "code",
   "execution_count": null,
   "id": "f380fb4a",
   "metadata": {},
   "outputs": [],
   "source": [
    "gt = TimeSeries(g_t, sample_rate=2048)\n",
    "gt = gt.whiten(0.5,0.25)\n",
    "plt.plot(gt)"
   ]
  },
  {
   "cell_type": "code",
   "execution_count": null,
   "id": "c7cbc507",
   "metadata": {},
   "outputs": [],
   "source": [
    "if injection_shape[1] == noise_shape[1]:\n",
    "    ds_shape = (injection_shape[0] + noise_shape[0], injection_shape[1],3)\n",
    "    targets = np.zeros(ds_shape[0], dtype=np.uint8)\n",
    "    timeseries = np.zeros(ds_shape)\n",
    "    ground_truths = np.zeros(ds_shape)\n",
    "    targets[:injection_shape[0]] = 1\n",
    "    targets[injection_shape[0]:] = 0\n",
    "    timeseries[:injection_shape[0],:,0] = injections_h1\n",
    "    timeseries[injection_shape[0]:,:,0] = noise_h1\n",
    "    ground_truths[:injection_shape[0],:,0] = ground_truths_h1\n",
    "    timeseries[:injection_shape[0],:,1] = injections_l1\n",
    "    timeseries[injection_shape[0]:,:,1] = noise_l1\n",
    "    ground_truths[:injection_shape[0],:,1] = ground_truths_l1\n",
    "    timeseries[:injection_shape[0],:,2] = injections_v1\n",
    "    timeseries[injection_shape[0]:,:,2] = noise_v1\n",
    "    ground_truths[:injection_shape[0],:,2] = ground_truths_v1\n",
    "    \n",
    "    \n",
    "for i in tqdm(range(timeseries.shape[0])):\n",
    "    timeseries[i] /= abs(timeseries[i]).max()\n",
    "\n",
    "    "
   ]
  },
  {
   "cell_type": "code",
   "execution_count": null,
   "id": "a15f76dc",
   "metadata": {},
   "outputs": [],
   "source": [
    "# for i in tqdm(range(injection_shape[0])):\n",
    "#     for j in range(ground_truths.shape[2]):\n",
    "#         gt = TimeSeries(ground_truths[i,:,j], sample_rate=2048)\n",
    "#         gt = gt.whiten(0.5,0.25)\n",
    "#         ground_truths[i,:,j] = gt\n",
    "for i in tqdm(range(injection_shape[0])):\n",
    "    ground_truths[i] /= abs(ground_truths[i]).max()"
   ]
  },
  {
   "cell_type": "code",
   "execution_count": null,
   "id": "1bf9299e",
   "metadata": {},
   "outputs": [],
   "source": [
    "batches = 8\n",
    "batch_size = timeseries.shape[0] // batches\n",
    "indices = np.arange(targets.shape[0])\n",
    "np.random.shuffle(indices)\n",
    "for i in tqdm(range(batches)):\n",
    "    rg_n = range(i*batch_size,(i+1)*batch_size)\n",
    "    inds = indices[rg_n]\n",
    "    output_file = f\"../input/synthetic-tfrec/{INPUT_FILE.split('/')[-1].replace('.h5','')}_{batch_size}_{i:02}.tfrec\"\n",
    "    writer = tf.io.TFRecordWriter(output_file)\n",
    "    \n",
    "    for j in tqdm(range(inds.shape[0])):\n",
    "        X = timeseries[inds[j]]\n",
    "        y = targets[inds[j]]\n",
    "        y1 = ground_truths[inds[j]]\n",
    "        feature={}\n",
    "        feature[\"TimeSeries\"] = tf.train.Feature(float_list=tf.train.FloatList(value=X.flatten()))\n",
    "        feature[\"GroundTruths\"] = tf.train.Feature(float_list=tf.train.FloatList(value=y1.flatten()))\n",
    "        feature[\"Target\"] = tf.train.Feature(int64_list=tf.train.Int64List(value=[y]))\n",
    "\n",
    "        example = tf.train.Example(features=tf.train.Features(feature=feature))\n",
    "        serialized = example.SerializeToString()\n",
    "        writer.write(serialized)\n",
    "    writer.close()      \n"
   ]
  },
  {
   "cell_type": "code",
   "execution_count": null,
   "id": "2beaeb38",
   "metadata": {},
   "outputs": [],
   "source": []
  }
 ],
 "metadata": {
  "kernelspec": {
   "display_name": "Python 3 (ipykernel)",
   "language": "python",
   "name": "python3"
  },
  "language_info": {
   "codemirror_mode": {
    "name": "ipython",
    "version": 3
   },
   "file_extension": ".py",
   "mimetype": "text/x-python",
   "name": "python",
   "nbconvert_exporter": "python",
   "pygments_lexer": "ipython3",
   "version": "3.7.10"
  }
 },
 "nbformat": 4,
 "nbformat_minor": 5
}
