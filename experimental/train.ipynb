{
 "cells": [
  {
   "cell_type": "markdown",
   "metadata": {},
   "source": [
    "# Train Notebook\n",
    "\n",
    "This notebook contains the training pipeline of the detection model. It automatically saves model performance and creates an inference `csv` file on the test dataset.\n",
    "\n",
    "Currently it has a very rudimentary implementation integrating the filter with the detection model and fine-tuning it. In the future this will be separated, as the detection network is a much too heavy head for the filter. Fine-tuning is also a challenge in this configuration, since the typical starting training learning rate for the filter is 1e-3 and for the detection model it is 1e-5. I tried training them separately while freezing the other with limited success.\n",
    "\n",
    "This notebook is designed to run locally or on a Kaggle notebook instance. It can use CPU (really, really not recommended), GPU, or TPU acceleration.\n",
    "\n",
    "### Data\n",
    "\n",
    "The data in this model is of the shape [4096,3] for each sample. It contains three time series as channels of length 2 seconds sampled at 2048 Hz. Each of the channels represents the measured strain from each of the three detectors (LIGO Hanford, LIGO Livingston, Virgo). Each of these detectors has two perpendicular arms with length 4km for the LIGO detectors and 3km for the Virgo detector. The strain describes the relative change in length between the arms and is on the order of $\\mathcal{O}(10^{-20})$ before low-pass filtering and $\\mathcal{O}(10^{-21})$ after. This is also the approximate order of expected gravitational wave measurements. The data is in most cases dominated by noise."
   ]
  },
  {
   "cell_type": "markdown",
   "metadata": {},
   "source": [
    "## Setup"
   ]
  },
  {
   "cell_type": "markdown",
   "metadata": {},
   "source": [
    "### Choose GPU\n",
    "\n",
    "Detects whether the notebook is running on my workstation or on kaggle. Unfortunately the environment names on kaggle are randomly generated, as far as I can tell, so you will need to enter your own computer name, or just set `KAGGLE` to `False` if you intend on running the notebook locally."
   ]
  },
  {
   "cell_type": "code",
   "execution_count": 1,
   "metadata": {
    "execution": {
     "iopub.execute_input": "2021-09-17T17:22:41.713595Z",
     "iopub.status.busy": "2021-09-17T17:22:41.713335Z",
     "iopub.status.idle": "2021-09-17T17:22:41.725791Z",
     "shell.execute_reply": "2021-09-17T17:22:41.725140Z",
     "shell.execute_reply.started": "2021-09-17T17:22:41.713521Z"
    }
   },
   "outputs": [
    {
     "name": "stdout",
     "output_type": "stream",
     "text": [
      "KAGGLE: False\n"
     ]
    }
   ],
   "source": [
    "import socket\n",
    "import os\n",
    "\n",
    "KAGGLE = True\n",
    "if socket.gethostname() == \"Computerfon\":\n",
    "    KAGGLE = False\n",
    "print(f\"KAGGLE: {KAGGLE}\")\n",
    "if not KAGGLE:\n",
    "            # set available accelerator to keep tensorflow from intantiating on possible other GPUs\n",
    "            os.environ[\"CUDA_VISIBLE_DEVICES\"] = \"0\"\n"
   ]
  },
  {
   "cell_type": "markdown",
   "metadata": {},
   "source": [
    "### Imports"
   ]
  },
  {
   "cell_type": "code",
   "execution_count": 2,
   "metadata": {
    "execution": {
     "iopub.execute_input": "2021-09-17T17:22:41.727703Z",
     "iopub.status.busy": "2021-09-17T17:22:41.726861Z",
     "iopub.status.idle": "2021-09-17T17:22:43.782183Z",
     "shell.execute_reply": "2021-09-17T17:22:43.781042Z",
     "shell.execute_reply.started": "2021-09-17T17:22:41.727659Z"
    }
   },
   "outputs": [],
   "source": [
    "# general\n",
    "import os\n",
    "import gc\n",
    "import warnings\n",
    "import sklearn.exceptions\n",
    "warnings.filterwarnings(\"ignore\", category=DeprecationWarning)\n",
    "warnings.filterwarnings(\"ignore\", category=FutureWarning)\n",
    "warnings.filterwarnings(\"ignore\", category=sklearn.exceptions.UndefinedMetricWarning)\n",
    "\n",
    "from glob import glob\n",
    "import random\n",
    "import numpy as np\n",
    "import pandas as pd\n",
    "import json\n",
    "from IPython.core.display import display, HTML\n",
    "if KAGGLE:\n",
    "    from kaggle_datasets import KaggleDatasets\n",
    "\n",
    "# ML\n",
    "from sklearn.metrics import roc_auc_score\n",
    "\n",
    "# DL\n",
    "import tensorflow as tf\n",
    "import tensorflow_addons as tfa\n",
    "# tf.config.optimizer.set_jit(True)\n",
    "\n",
    "# Plotting\n",
    "import matplotlib.pyplot as plt\n",
    "import seaborn as sns\n",
    "\n",
    "# Enable memory growth to get an idea of the size of the model\n",
    "if not KAGGLE:\n",
    "    physical_devices = tf.config.list_physical_devices(\"GPU\")\n",
    "    tf.config.experimental.set_memory_growth(physical_devices[0], True)"
   ]
  },
  {
   "cell_type": "markdown",
   "metadata": {},
   "source": [
    "### Static settings\n",
    "\n",
    "#### !Eager Execution!\n",
    "\n",
    "eager execution needs to be disabled if the model is meant for fine-tuning. This is due to a bug with the `keras` callback `modelCheckpoint`, which for some reason opens the `h5` file containing model information in `\"w\"` mode instead of `\"r+\"` which causes it to crash when training the second model, thus attempting to overwrite the file. This bug is not present when eager execution is disabled, although this will use significantly more memory, so is not advisable on the kaggle notebook. This bug can also be avoided by not using the callback on the second `keras.model.Model.fit()` call. Hopefully I will find a better solution in the future."
   ]
  },
  {
   "cell_type": "code",
   "execution_count": 3,
   "metadata": {
    "execution": {
     "iopub.execute_input": "2021-09-17T17:22:43.784172Z",
     "iopub.status.busy": "2021-09-17T17:22:43.783660Z",
     "iopub.status.idle": "2021-09-17T17:22:43.799591Z",
     "shell.execute_reply": "2021-09-17T17:22:43.798788Z",
     "shell.execute_reply.started": "2021-09-17T17:22:43.784124Z"
    }
   },
   "outputs": [
    {
     "data": {
      "text/html": [
       "<style>.container { width:90% !important; }</style>"
      ],
      "text/plain": [
       "<IPython.core.display.HTML object>"
      ]
     },
     "metadata": {},
     "output_type": "display_data"
    }
   ],
   "source": [
    "tf.compat.v1.disable_eager_execution()\n",
    "display(HTML(\"<style>.container { width:90% !important; }</style>\"))\n",
    "%matplotlib inline\n",
    "pd.set_option(\"display.max_columns\", None)\n",
    "pd.set_option(\"display.max_rows\", None)\n",
    "\n",
    "def seed_everything(seed):\n",
    "    random.seed(seed)\n",
    "    np.random.seed(seed)\n",
    "    os.environ[\"PYTHONHASHSEED\"] = str(seed)\n",
    "    tf.random.set_seed(seed)"
   ]
  },
  {
   "cell_type": "markdown",
   "metadata": {},
   "source": [
    "### TPU Detection"
   ]
  },
  {
   "cell_type": "code",
   "execution_count": 4,
   "metadata": {
    "execution": {
     "iopub.execute_input": "2021-09-17T17:22:43.803149Z",
     "iopub.status.busy": "2021-09-17T17:22:43.802737Z",
     "iopub.status.idle": "2021-09-17T17:22:43.811423Z",
     "shell.execute_reply": "2021-09-17T17:22:43.810381Z",
     "shell.execute_reply.started": "2021-09-17T17:22:43.803115Z"
    }
   },
   "outputs": [],
   "source": [
    "def auto_select_accelerator():\n",
    "    TPU_DETECTED = False\n",
    "    try:\n",
    "        tpu = tf.distribute.cluster_resolver.TPUClusterResolver()\n",
    "        tf.config.experimental_connect_to_cluster(tpu)\n",
    "        tf.tpu.experimental.initialize_tpu_system(tpu)\n",
    "        strategy = tf.distribute.experimental.TPUStrategy(tpu)\n",
    "        tf.keras.mixed_precision.set_global_policy(\"mixed_bfloat16\")\n",
    "        print(f\"Running on TPU: {tpu.master()}\")\n",
    "        TPU_DETECTED = True\n",
    "    except ValueError:\n",
    "        strategy = tf.distribute.get_strategy()\n",
    "        tf.keras.mixed_precision.set_global_policy(\"mixed_float16\")\n",
    "        \n",
    "    num_replicas = strategy.num_replicas_in_sync\n",
    "    print(f\"Running on {num_replicas} replica{'s' if num_replicas > 1 else ''}\")\n",
    "    return strategy, TPU_DETECTED, num_replicas"
   ]
  },
  {
   "cell_type": "markdown",
   "metadata": {},
   "source": [
    "## PARAMS\n",
    "\n",
    "More static parameters, choose the folders in `../input/` you wish to train on. The notebook works with multiple datasets at the same time and will use the last ordered file in a folder as the validation file. This is important to keep in mind, when you create datasets you want to use for simultaneous training, the same samples need to be in the same files, or else you will have a data leak."
   ]
  },
  {
   "cell_type": "code",
   "execution_count": 5,
   "metadata": {
    "execution": {
     "iopub.execute_input": "2021-09-17T17:22:43.813082Z",
     "iopub.status.busy": "2021-09-17T17:22:43.812779Z",
     "iopub.status.idle": "2021-09-17T17:22:49.385095Z",
     "shell.execute_reply": "2021-09-17T17:22:49.384154Z",
     "shell.execute_reply.started": "2021-09-17T17:22:43.813043Z"
    }
   },
   "outputs": [
    {
     "name": "stdout",
     "output_type": "stream",
     "text": [
      "INFO:tensorflow:Mixed precision compatibility check (mixed_float16): OK\n",
      "Your GPU will likely run quickly with dtype policy mixed_float16 as it has compute capability of at least 7.0. Your GPU: NVIDIA GeForce RTX 3090, compute capability 8.6\n",
      "Running on 1 replica\n"
     ]
    }
   ],
   "source": [
    "strategy, TPU_Detected, REPLICAS = auto_select_accelerator()\n",
    "INPUT_DIR = \"../input/g2net-gravitational-wave-detection\"\n",
    "MDLS_PATH = \".\" if KAGGLE else \"../models\"\n",
    "# TRAIN_FILES_PATH = \"../input/filtered*_tfrec\"\n",
    "AUTO = tf.data.experimental.AUTOTUNE\n",
    "tfrec_folders = [\"like-synthetic-short-whitened-highpassed-tfrec\"]#, \"like-synthetic-whitened-highpassed-\"]#[\"whitened-longer-tfrec\", \"whitened-tfrec\", \"filtered-whitened-tfrec\"]\n",
    "if KAGGLE:\n",
    "    tfrec_folders = [\"filteredwhitenedtfrec\",\"whitened-tfrec\"]"
   ]
  },
  {
   "cell_type": "markdown",
   "metadata": {},
   "source": [
    "Show results from previous models if available"
   ]
  },
  {
   "cell_type": "code",
   "execution_count": 6,
   "metadata": {
    "execution": {
     "iopub.execute_input": "2021-09-17T17:10:49.388016Z",
     "iopub.status.busy": "2021-09-17T17:10:49.387794Z",
     "iopub.status.idle": "2021-09-17T17:10:49.406903Z",
     "shell.execute_reply": "2021-09-17T17:10:49.405619Z",
     "shell.execute_reply.started": "2021-09-17T17:10:49.387988Z"
    }
   },
   "outputs": [
    {
     "data": {
      "text/html": [
       "<div>\n",
       "<style scoped>\n",
       "    .dataframe tbody tr th:only-of-type {\n",
       "        vertical-align: middle;\n",
       "    }\n",
       "\n",
       "    .dataframe tbody tr th {\n",
       "        vertical-align: top;\n",
       "    }\n",
       "\n",
       "    .dataframe thead th {\n",
       "        text-align: right;\n",
       "    }\n",
       "</style>\n",
       "<table border=\"1\" class=\"dataframe\">\n",
       "  <thead>\n",
       "    <tr style=\"text-align: right;\">\n",
       "      <th></th>\n",
       "      <th>lr</th>\n",
       "      <th>version</th>\n",
       "      <th>train_mode</th>\n",
       "      <th>batch_size</th>\n",
       "      <th>epochs</th>\n",
       "      <th>bavg_epoch</th>\n",
       "      <th>bavg_loss</th>\n",
       "      <th>bavg_auc</th>\n",
       "      <th>changelog</th>\n",
       "      <th>seed</th>\n",
       "    </tr>\n",
       "  </thead>\n",
       "  <tbody>\n",
       "    <tr>\n",
       "      <th>43</th>\n",
       "      <td>0.00001</td>\n",
       "      <td>200</td>\n",
       "      <td>full</td>\n",
       "      <td>256</td>\n",
       "      <td>100</td>\n",
       "      <td>36</td>\n",
       "      <td>0.464103</td>\n",
       "      <td>0.839057</td>\n",
       "      <td>1/4 lr</td>\n",
       "      <td>42.0</td>\n",
       "    </tr>\n",
       "    <tr>\n",
       "      <th>44</th>\n",
       "      <td>0.00100</td>\n",
       "      <td>210</td>\n",
       "      <td>full</td>\n",
       "      <td>256</td>\n",
       "      <td>100</td>\n",
       "      <td>24</td>\n",
       "      <td>0.444001</td>\n",
       "      <td>0.847384</td>\n",
       "      <td>1/4 lr</td>\n",
       "      <td>42.0</td>\n",
       "    </tr>\n",
       "    <tr>\n",
       "      <th>45</th>\n",
       "      <td>0.00010</td>\n",
       "      <td>221</td>\n",
       "      <td>full</td>\n",
       "      <td>256</td>\n",
       "      <td>100</td>\n",
       "      <td>40</td>\n",
       "      <td>0.435199</td>\n",
       "      <td>0.850387</td>\n",
       "      <td>1/4 lr</td>\n",
       "      <td>69.0</td>\n",
       "    </tr>\n",
       "    <tr>\n",
       "      <th>46</th>\n",
       "      <td>0.00010</td>\n",
       "      <td>222</td>\n",
       "      <td>full</td>\n",
       "      <td>256</td>\n",
       "      <td>100</td>\n",
       "      <td>26</td>\n",
       "      <td>0.437144</td>\n",
       "      <td>0.849532</td>\n",
       "      <td>1/4 lr</td>\n",
       "      <td>69.0</td>\n",
       "    </tr>\n",
       "    <tr>\n",
       "      <th>47</th>\n",
       "      <td>0.00010</td>\n",
       "      <td>224</td>\n",
       "      <td>full</td>\n",
       "      <td>256</td>\n",
       "      <td>100</td>\n",
       "      <td>30</td>\n",
       "      <td>0.434321</td>\n",
       "      <td>0.851999</td>\n",
       "      <td>Input layers: 1/2 kernel size. more kernels</td>\n",
       "      <td>69.0</td>\n",
       "    </tr>\n",
       "    <tr>\n",
       "      <th>48</th>\n",
       "      <td>0.00010</td>\n",
       "      <td>231</td>\n",
       "      <td>full</td>\n",
       "      <td>256</td>\n",
       "      <td>100</td>\n",
       "      <td>29</td>\n",
       "      <td>0.439757</td>\n",
       "      <td>0.848020</td>\n",
       "      <td>only whitened ds</td>\n",
       "      <td>69.0</td>\n",
       "    </tr>\n",
       "    <tr>\n",
       "      <th>49</th>\n",
       "      <td>0.00010</td>\n",
       "      <td>242</td>\n",
       "      <td>full</td>\n",
       "      <td>256</td>\n",
       "      <td>25</td>\n",
       "      <td>23</td>\n",
       "      <td>0.447073</td>\n",
       "      <td>0.848576</td>\n",
       "      <td>only whitened ds with sgd</td>\n",
       "      <td>42.0</td>\n",
       "    </tr>\n",
       "    <tr>\n",
       "      <th>50</th>\n",
       "      <td>0.00010</td>\n",
       "      <td>244</td>\n",
       "      <td>full</td>\n",
       "      <td>256</td>\n",
       "      <td>25</td>\n",
       "      <td>21</td>\n",
       "      <td>0.465401</td>\n",
       "      <td>0.834070</td>\n",
       "      <td>only whitened ds with sgd</td>\n",
       "      <td>42.0</td>\n",
       "    </tr>\n",
       "    <tr>\n",
       "      <th>51</th>\n",
       "      <td>0.00010</td>\n",
       "      <td>245</td>\n",
       "      <td>full</td>\n",
       "      <td>256</td>\n",
       "      <td>25</td>\n",
       "      <td>23</td>\n",
       "      <td>0.446809</td>\n",
       "      <td>0.842836</td>\n",
       "      <td>all ds</td>\n",
       "      <td>42.0</td>\n",
       "    </tr>\n",
       "    <tr>\n",
       "      <th>52</th>\n",
       "      <td>0.00010</td>\n",
       "      <td>247</td>\n",
       "      <td>full</td>\n",
       "      <td>256</td>\n",
       "      <td>35</td>\n",
       "      <td>9</td>\n",
       "      <td>0.444699</td>\n",
       "      <td>0.842759</td>\n",
       "      <td>second run with adam</td>\n",
       "      <td>42.0</td>\n",
       "    </tr>\n",
       "    <tr>\n",
       "      <th>53</th>\n",
       "      <td>0.00010</td>\n",
       "      <td>307</td>\n",
       "      <td>full</td>\n",
       "      <td>256</td>\n",
       "      <td>35</td>\n",
       "      <td>1</td>\n",
       "      <td>0.490005</td>\n",
       "      <td>0.852317</td>\n",
       "      <td>second run with adam</td>\n",
       "      <td>42.0</td>\n",
       "    </tr>\n",
       "    <tr>\n",
       "      <th>54</th>\n",
       "      <td>0.00010</td>\n",
       "      <td>346</td>\n",
       "      <td>full</td>\n",
       "      <td>64</td>\n",
       "      <td>35</td>\n",
       "      <td>0</td>\n",
       "      <td>0.403609</td>\n",
       "      <td>0.839891</td>\n",
       "      <td>second run with adam</td>\n",
       "      <td>42.0</td>\n",
       "    </tr>\n",
       "    <tr>\n",
       "      <th>55</th>\n",
       "      <td>0.00001</td>\n",
       "      <td>355</td>\n",
       "      <td>full</td>\n",
       "      <td>64</td>\n",
       "      <td>35</td>\n",
       "      <td>6</td>\n",
       "      <td>0.431249</td>\n",
       "      <td>0.840779</td>\n",
       "      <td>second run with adam</td>\n",
       "      <td>69420.0</td>\n",
       "    </tr>\n",
       "    <tr>\n",
       "      <th>56</th>\n",
       "      <td>0.00010</td>\n",
       "      <td>453</td>\n",
       "      <td>full</td>\n",
       "      <td>128</td>\n",
       "      <td>35</td>\n",
       "      <td>12</td>\n",
       "      <td>0.409684</td>\n",
       "      <td>0.854513</td>\n",
       "      <td>second run with adam</td>\n",
       "      <td>42.0</td>\n",
       "    </tr>\n",
       "    <tr>\n",
       "      <th>57</th>\n",
       "      <td>0.00010</td>\n",
       "      <td>457</td>\n",
       "      <td>full</td>\n",
       "      <td>256</td>\n",
       "      <td>35</td>\n",
       "      <td>15</td>\n",
       "      <td>0.402773</td>\n",
       "      <td>0.854391</td>\n",
       "      <td>new dataset with 0.125/0.12 whitening, before ...</td>\n",
       "      <td>42.0</td>\n",
       "    </tr>\n",
       "    <tr>\n",
       "      <th>58</th>\n",
       "      <td>0.00010</td>\n",
       "      <td>466</td>\n",
       "      <td>full</td>\n",
       "      <td>256</td>\n",
       "      <td>20</td>\n",
       "      <td>13</td>\n",
       "      <td>0.400203</td>\n",
       "      <td>0.859984</td>\n",
       "      <td>no whitening only lowpass &amp; normalization</td>\n",
       "      <td>42.0</td>\n",
       "    </tr>\n",
       "    <tr>\n",
       "      <th>59</th>\n",
       "      <td>0.00005</td>\n",
       "      <td>474</td>\n",
       "      <td>full</td>\n",
       "      <td>256</td>\n",
       "      <td>80</td>\n",
       "      <td>10</td>\n",
       "      <td>0.412824</td>\n",
       "      <td>0.855606</td>\n",
       "      <td>no whitening only lowpass &amp; normalization</td>\n",
       "      <td>1111.0</td>\n",
       "    </tr>\n",
       "    <tr>\n",
       "      <th>60</th>\n",
       "      <td>0.00010</td>\n",
       "      <td>475</td>\n",
       "      <td>full</td>\n",
       "      <td>256</td>\n",
       "      <td>80</td>\n",
       "      <td>11</td>\n",
       "      <td>0.409763</td>\n",
       "      <td>0.853231</td>\n",
       "      <td>using 1e-4 initial lr</td>\n",
       "      <td>1111.0</td>\n",
       "    </tr>\n",
       "    <tr>\n",
       "      <th>61</th>\n",
       "      <td>0.00001</td>\n",
       "      <td>476</td>\n",
       "      <td>full</td>\n",
       "      <td>256</td>\n",
       "      <td>80</td>\n",
       "      <td>15</td>\n",
       "      <td>0.439726</td>\n",
       "      <td>0.847705</td>\n",
       "      <td>using 1e-5 initial lr</td>\n",
       "      <td>1111.0</td>\n",
       "    </tr>\n",
       "    <tr>\n",
       "      <th>62</th>\n",
       "      <td>0.00010</td>\n",
       "      <td>480</td>\n",
       "      <td>full</td>\n",
       "      <td>256</td>\n",
       "      <td>35</td>\n",
       "      <td>7</td>\n",
       "      <td>0.457760</td>\n",
       "      <td>0.836264</td>\n",
       "      <td>simple detection network with same pre-process...</td>\n",
       "      <td>1111.0</td>\n",
       "    </tr>\n",
       "  </tbody>\n",
       "</table>\n",
       "</div>"
      ],
      "text/plain": [
       "         lr  version train_mode  batch_size  epochs  bavg_epoch  bavg_loss  \\\n",
       "43  0.00001      200       full         256     100          36   0.464103   \n",
       "44  0.00100      210       full         256     100          24   0.444001   \n",
       "45  0.00010      221       full         256     100          40   0.435199   \n",
       "46  0.00010      222       full         256     100          26   0.437144   \n",
       "47  0.00010      224       full         256     100          30   0.434321   \n",
       "48  0.00010      231       full         256     100          29   0.439757   \n",
       "49  0.00010      242       full         256      25          23   0.447073   \n",
       "50  0.00010      244       full         256      25          21   0.465401   \n",
       "51  0.00010      245       full         256      25          23   0.446809   \n",
       "52  0.00010      247       full         256      35           9   0.444699   \n",
       "53  0.00010      307       full         256      35           1   0.490005   \n",
       "54  0.00010      346       full          64      35           0   0.403609   \n",
       "55  0.00001      355       full          64      35           6   0.431249   \n",
       "56  0.00010      453       full         128      35          12   0.409684   \n",
       "57  0.00010      457       full         256      35          15   0.402773   \n",
       "58  0.00010      466       full         256      20          13   0.400203   \n",
       "59  0.00005      474       full         256      80          10   0.412824   \n",
       "60  0.00010      475       full         256      80          11   0.409763   \n",
       "61  0.00001      476       full         256      80          15   0.439726   \n",
       "62  0.00010      480       full         256      35           7   0.457760   \n",
       "\n",
       "    bavg_auc                                          changelog     seed  \n",
       "43  0.839057                                             1/4 lr     42.0  \n",
       "44  0.847384                                             1/4 lr     42.0  \n",
       "45  0.850387                                             1/4 lr     69.0  \n",
       "46  0.849532                                             1/4 lr     69.0  \n",
       "47  0.851999        Input layers: 1/2 kernel size. more kernels     69.0  \n",
       "48  0.848020                                   only whitened ds     69.0  \n",
       "49  0.848576                          only whitened ds with sgd     42.0  \n",
       "50  0.834070                          only whitened ds with sgd     42.0  \n",
       "51  0.842836                                             all ds     42.0  \n",
       "52  0.842759                               second run with adam     42.0  \n",
       "53  0.852317                               second run with adam     42.0  \n",
       "54  0.839891                               second run with adam     42.0  \n",
       "55  0.840779                               second run with adam  69420.0  \n",
       "56  0.854513                               second run with adam     42.0  \n",
       "57  0.854391  new dataset with 0.125/0.12 whitening, before ...     42.0  \n",
       "58  0.859984          no whitening only lowpass & normalization     42.0  \n",
       "59  0.855606          no whitening only lowpass & normalization   1111.0  \n",
       "60  0.853231                              using 1e-4 initial lr   1111.0  \n",
       "61  0.847705                              using 1e-5 initial lr   1111.0  \n",
       "62  0.836264  simple detection network with same pre-process...   1111.0  "
      ]
     },
     "execution_count": 6,
     "metadata": {},
     "output_type": "execute_result"
    }
   ],
   "source": [
    "# show results from previous models\n",
    "results_df = \"no file\"\n",
    "if not KAGGLE:\n",
    "    results_df = pd.read_csv(\"../models/results.csv\", index_col=[0]).tail(20)\n",
    "results_df"
   ]
  },
  {
   "cell_type": "markdown",
   "metadata": {},
   "source": [
    "Necessary when running on a Kaggle notebook using a TPU with a private dataset. In addition you need to attach your Google Cloud Services credentials to the notebook. This can be done by clicking on Add-ons -> Google Cloud SDK -> Attach to notebook in your Kaggle notebook."
   ]
  },
  {
   "cell_type": "code",
   "execution_count": 7,
   "metadata": {
    "execution": {
     "iopub.execute_input": "2021-09-17T17:22:49.386775Z",
     "iopub.status.busy": "2021-09-17T17:22:49.386544Z",
     "iopub.status.idle": "2021-09-17T17:22:49.599221Z",
     "shell.execute_reply": "2021-09-17T17:22:49.598282Z",
     "shell.execute_reply.started": "2021-09-17T17:22:49.386749Z"
    }
   },
   "outputs": [],
   "source": [
    "if KAGGLE:\n",
    "    from kaggle_secrets import UserSecretsClient\n",
    "    user_secrets = UserSecretsClient()\n",
    "    user_credential = user_secrets.get_gcloud_credential()\n",
    "    user_secrets.set_tensorflow_credential(user_credential)"
   ]
  },
  {
   "cell_type": "markdown",
   "metadata": {},
   "source": [
    "#### The `Params` class\n",
    "\n",
    "This class contains the important parameters of the model. You can add ones you think are important. They will be automatically be archived in both the model performance `csv` file found at `../models/results.csv` and in a separate `JSON` file in the model directory itself. Folds have not been implemented yet"
   ]
  },
  {
   "cell_type": "code",
   "execution_count": 8,
   "metadata": {
    "execution": {
     "iopub.execute_input": "2021-09-17T17:22:49.601675Z",
     "iopub.status.busy": "2021-09-17T17:22:49.601417Z",
     "iopub.status.idle": "2021-09-17T17:22:49.608611Z",
     "shell.execute_reply": "2021-09-17T17:22:49.607652Z",
     "shell.execute_reply.started": "2021-09-17T17:22:49.601646Z"
    }
   },
   "outputs": [],
   "source": [
    "if not os.path.exists(f\"{MDLS_PATH}/results.csv\"):\n",
    "    VER = 1\n",
    "else:\n",
    "    results = pd.read_csv(f\"{MDLS_PATH}/results.csv\", index_col=[0])\n",
    "    VER = int(results.version.max())\n",
    "Params ={\n",
    "    \"lr\": 1e-4 * REPLICAS,\n",
    "    \"version\": VER,\n",
    "    \"train_mode\": \"full\", #test, full\n",
    "    \"batch_size\": 256 * REPLICAS,\n",
    "    \"epochs\": 35,\n",
    "    \"seed\": 1111,\n",
    "    \"changelog\": \"simple detection network with same pre-processing applied to synthetic training dataset as kaggle dataset\",\n",
    "}\n",
    "seed_everything(Params[\"seed\"])"
   ]
  },
  {
   "cell_type": "markdown",
   "metadata": {},
   "source": [
    "Make Model directory"
   ]
  },
  {
   "cell_type": "code",
   "execution_count": 9,
   "metadata": {
    "execution": {
     "iopub.execute_input": "2021-09-17T17:22:49.609927Z",
     "iopub.status.busy": "2021-09-17T17:22:49.609716Z",
     "iopub.status.idle": "2021-09-17T17:22:49.626003Z",
     "shell.execute_reply": "2021-09-17T17:22:49.624837Z",
     "shell.execute_reply.started": "2021-09-17T17:22:49.609902Z"
    }
   },
   "outputs": [],
   "source": [
    "VER = Params[\"version\"]\n",
    "MDL_PATH = f\"{MDLS_PATH}/models_v{VER:03}\"\n",
    "while os.path.exists(MDL_PATH):\n",
    "    VER += 1\n",
    "    MDL_PATH = f\"{MDLS_PATH}/models_v{VER:03}\"\n",
    "Params[\"version\"]=VER\n",
    "os.mkdir(MDL_PATH)"
   ]
  },
  {
   "cell_type": "markdown",
   "metadata": {},
   "source": [
    "## Convenience Functions"
   ]
  },
  {
   "cell_type": "markdown",
   "metadata": {},
   "source": [
    "### Data Augmentation: random_cut():\n",
    "\n",
    "This augmentation function works on whole batches of data, to reduce the computational expense. It should not impact performance in this way.\n",
    "\n",
    "It is written in a way to work in all runtimes in which the notebook has been testest (kaggle, local) and (GPU, TPU).\n",
    "\n",
    "The function randomly cuts off a random amount of data points from the beginning and the end of each sample and replaces them with zeros. This is done in 35% of cases. The reason for this is, that this produces models that are resistant to overfitting, but still work on un-augmented test data during inference. More than 35% produced models that no longer generalized well, giving the impression of training two separate models. The `maxVal` variable represents the maximum value of data points cut off from both the beginning and end of the tensor. This was successful up to 512 data points or 0.25 seconds. It is not advisable to cut off more, since the signal seems to be located at around 1.5s in most cases.\n",
    "\n",
    "Independently moving the result in the output tensor, with the intent of making the models more translation invariant,  created models that no longer performed well when infering on un-augmented test data. However overfitting was reduced drastically even with more complex models. So using this together with test-time augmentation would be a good idea in the future.\n",
    "\n",
    "The function then randomly changes the sign of each of the channels independently. It might also be a good idea to randomly multiply the model with a scaling factor of 0.9-1.0 until the model is used to estimate the parameters of the gravitational waves in the future (masses of the bodies, spin, etc.)"
   ]
  },
  {
   "cell_type": "code",
   "execution_count": 10,
   "metadata": {},
   "outputs": [],
   "source": [
    "def random_cut(x,y):\n",
    "    tensor = x\n",
    "    if random.random() > 0.6:\n",
    "        maxVal=256\n",
    "        dt = tf.random.uniform(shape=[],minval=2, maxval=maxVal, dtype=tf.int32)\n",
    "        t0 = tf.random.uniform(shape=[],minval=1, maxval=dt, dtype=tf.int32)\n",
    "        t1 = tf.random.uniform(shape=[],minval=0, maxval=t0, dtype=tf.int32)\n",
    "        paddings =  [\n",
    "            [0,0],\n",
    "            [t0,dt-t0], \n",
    "#             [t1, dt-t1],# if you want to move the resulting tensor randomly in the output tensor\n",
    "            [0,0]\n",
    "        ]\n",
    "        tensor = tf.pad(tensor[:,t0:t0+(4096-dt)], paddings=paddings)\n",
    "    tensor = tensor * [-1. if random.random() > 0.5 else 1.,\n",
    "                       -1. if random.random() > 0.5 else 1.,\n",
    "                       -1. if random.random() > 0.5 else 1.]\n",
    "    # Necessary for TPU runtime\n",
    "    tensor = tf.reshape(tensor,[Params[\"batch_size\"], 4096, 3])\n",
    "    # Necessary for GPU runtime\n",
    "    tensor = tf.cast(tensor, tf.float32)\n",
    "    return tensor, y"
   ]
  },
  {
   "cell_type": "markdown",
   "metadata": {},
   "source": [
    "### load_dataset()\n",
    "Loads the dataset from folders containing `tfrec` files. The train file names are expected to begin with \"train\" and the test files with \"test\".\n",
    "\n",
    "A large shuffle buffer is recommended in a large, heterogenous dataset, i.e. if the data pre-processing is different in the datasets used. The Kaggle dataset is quite large with 560,000 train samples and 226,000 test samples. In that case pick a large shuffle buffer, that works with the available memory.\n",
    "\n",
    "It is not recommended to add caching functionality when using the Kaggle dataset, as it will use inordinate amounts of RAM"
   ]
  },
  {
   "cell_type": "code",
   "execution_count": 11,
   "metadata": {
    "execution": {
     "iopub.execute_input": "2021-09-17T17:22:49.628201Z",
     "iopub.status.busy": "2021-09-17T17:22:49.627767Z",
     "iopub.status.idle": "2021-09-17T17:22:49.642197Z",
     "shell.execute_reply": "2021-09-17T17:22:49.641358Z",
     "shell.execute_reply.started": "2021-09-17T17:22:49.628155Z"
    }
   },
   "outputs": [],
   "source": [
    "def load_dataset(files, shuffle=True, ordered=False, labeled = True, repeat=True, return_labels = False, cut = False, cache=False):\n",
    "    if ordered:\n",
    "        dataset = tf.data.TFRecordDataset(files, num_parallel_reads=None)\n",
    "    else:\n",
    "        dataset = tf.data.TFRecordDataset(files, num_parallel_reads=AUTO)\n",
    "    \n",
    "\n",
    "    def _parse_function(example_proto):\n",
    "        if labeled:\n",
    "            keys_to_feature = {\n",
    "                \"TimeSeries\":tf.io.FixedLenFeature([4096,3],tf.float32),\n",
    "                \"Target\":tf.io.FixedLenFeature([], tf.int64, default_value=0)}\n",
    "            if return_labels:\n",
    "                keys_to_feature[\"id\"]=tf.io.FixedLenFeature([],tf.string, default_value=\"\")\n",
    "        else:\n",
    "            keys_to_feature = {\n",
    "                \"TimeSeries\": tf.io.FixedLenFeature([4096,3],tf.float32)\n",
    "            }\n",
    "        parsed_features = tf.io.parse_single_example(example_proto, keys_to_feature)\n",
    "        if labeled:\n",
    "            if return_labels:\n",
    "                return parsed_features[\"TimeSeries\"], parsed_features[\"Target\"], parsed_features[\"id\"]\n",
    "            else:\n",
    "                return parsed_features[\"TimeSeries\"], parsed_features[\"Target\"]\n",
    "        else:\n",
    "            return parsed_features[\"TimeSeries\"]\n",
    "    if not ordered:\n",
    "        ignore_order = tf.data.Options()\n",
    "        ignore_order.experimental_deterministic=False\n",
    "        dataset = dataset.with_options(ignore_order)\n",
    "    # parse the record into tensors.\n",
    "    dataset = dataset.map(_parse_function, num_parallel_calls=AUTO)\n",
    "#     dataset = dataset.cache()\n",
    "\n",
    "    # Repeat the input infinitely\n",
    "    if repeat:\n",
    "        dataset = dataset.repeat()\n",
    "\n",
    "    # shuffle the dataset\n",
    "    if shuffle:\n",
    "        dataset = dataset.shuffle(buffer_size=50000, reshuffle_each_iteration=True)\n",
    "\n",
    "\n",
    "\n",
    "\n",
    "#     # Generate batches\n",
    "    dataset = dataset.batch(Params[\"batch_size\"])\n",
    "    if cut:\n",
    "        dataset = dataset.map(random_cut, num_parallel_calls=AUTO, deterministic=False)\n",
    "    dataset = dataset.prefetch(AUTO)\n",
    "    return dataset"
   ]
  },
  {
   "cell_type": "markdown",
   "metadata": {},
   "source": [
    "### get_train_val_files()\n",
    "\n",
    "This function splits the available `tfrec` datasets, which can be created using `makeDataset.py` into train and val files, while also creating a list of train files, that are in the right order, for deciding which version of the test files to infer on when submitting to the competition. This functionality has been changed to only include the val files later on, since models overfit to differing degrees on datasets with different pre-processing. It also returns a list of the test files, that are used for inference."
   ]
  },
  {
   "cell_type": "code",
   "execution_count": 12,
   "metadata": {
    "execution": {
     "iopub.execute_input": "2021-09-17T17:22:49.644543Z",
     "iopub.status.busy": "2021-09-17T17:22:49.644208Z",
     "iopub.status.idle": "2021-09-17T17:22:53.400603Z",
     "shell.execute_reply": "2021-09-17T17:22:53.399615Z",
     "shell.execute_reply.started": "2021-09-17T17:22:49.644502Z"
    }
   },
   "outputs": [],
   "source": [
    "def get_train_val_files(folders):\n",
    "    train_files = []\n",
    "    val_files = []\n",
    "    test_files = []\n",
    "    all_train_files = []\n",
    "    for folder in folders:\n",
    "        if KAGGLE:\n",
    "            TRAIN_FILES_PATH = KaggleDatasets().get_gcs_path(folder)\n",
    "            TEST_FILES_PATH = KaggleDatasets().get_gcs_path(f\"{folder}test\")\n",
    "            all_files_train = np.sort(tf.io.gfile.glob(f\"{TRAIN_FILES_PATH}/train_*.tfrec\"))\n",
    "            all_files_test = np.sort(tf.io.gfile.glob(f\"{TEST_FILES_PATH}/test_*.tfrec\"))\n",
    "        else:\n",
    "            all_files_train = np.sort(glob(f\"../input/{folder}/train*.tfrec\"))\n",
    "            all_files_test = np.sort(glob(f\"../input/{folder}/test*.tfrec\"))\n",
    "        \n",
    "        if Params[\"train_mode\"] == \"test\":\n",
    "            train_files.extend(all_files_train[:1])\n",
    "            val_files.extend(all_files_train[-1:])\n",
    "            \n",
    "        else:\n",
    "            train_files.extend(all_files_train[:-2])\n",
    "            val_files.extend(all_files_train[-2:])\n",
    "        test_files.append(all_files_test)\n",
    "        all_train_files.append(all_files_train)\n",
    "    return train_files, val_files, test_files, all_train_files\n",
    "\n",
    "train_files, val_files, test_files, all_train_files = get_train_val_files(tfrec_folders)\n"
   ]
  },
  {
   "cell_type": "markdown",
   "metadata": {},
   "source": [
    "create the Tensorflow datasets"
   ]
  },
  {
   "cell_type": "code",
   "execution_count": 13,
   "metadata": {
    "execution": {
     "iopub.execute_input": "2021-09-17T17:22:53.402399Z",
     "iopub.status.busy": "2021-09-17T17:22:53.402073Z",
     "iopub.status.idle": "2021-09-17T17:22:53.738249Z",
     "shell.execute_reply": "2021-09-17T17:22:53.737171Z",
     "shell.execute_reply.started": "2021-09-17T17:22:53.402358Z"
    }
   },
   "outputs": [
    {
     "data": {
      "text/plain": [
       "4"
      ]
     },
     "execution_count": 13,
     "metadata": {},
     "output_type": "execute_result"
    }
   ],
   "source": [
    "train_ds = load_dataset(train_files, cut=True)\n",
    "val_ds = load_dataset(val_files, shuffle=False, cache=False, ordered=True, repeat=True)\n",
    "gc.collect()"
   ]
  },
  {
   "cell_type": "raw",
   "metadata": {
    "execution": {
     "iopub.execute_input": "2021-09-15T15:02:39.670012Z",
     "iopub.status.busy": "2021-09-15T15:02:39.669804Z",
     "iopub.status.idle": "2021-09-15T15:02:40.728147Z",
     "shell.execute_reply": "2021-09-15T15:02:40.727152Z",
     "shell.execute_reply.started": "2021-09-15T15:02:39.669988Z"
    }
   },
   "source": [
    "from tensorflow.keras import Sequential, layers\n",
    "with strategy.scope():\n",
    "    model = Sequential([\n",
    "        layers.Conv1D(filters=32, kernel_size=16, padding=\"causal\",input_shape=[4096,3]),\n",
    "        layers.MaxPool1D(pool_size=4),\n",
    "        layers.Activation(\"relu\"),\n",
    "        \n",
    "        layers.Conv1D(filters=64, kernel_size=8, padding=\"causal\"),\n",
    "        layers.Conv1D(filters=128, kernel_size=8, padding=\"causal\"),\n",
    "        layers.Conv1D(filters=128, kernel_size=8, padding=\"causal\"),\n",
    "        layers.MaxPool1D(pool_size=4),\n",
    "        layers.Dropout(0.4),\n",
    "        layers.Activation(\"relu\"),\n",
    "        \n",
    "        layers.Conv1D(filters=128, kernel_size=8, padding=\"causal\"),\n",
    "        layers.MaxPool1D(pool_size=4),\n",
    "        layers.Activation(\"relu\"),\n",
    "        \n",
    "        layers.Conv1D(filters=256, kernel_size=8, padding=\"causal\"),\n",
    "        layers.MaxPool1D(pool_size=4),\n",
    "        layers.Activation(\"relu\"),\n",
    "        \n",
    "        layers.Flatten(),\n",
    "        layers.Dense(128, activation=\"relu\"),\n",
    "        layers.Dense(64, activation=\"relu\"),\n",
    "        layers.Dropout(0.5),\n",
    "        layers.Dense(1),\n",
    "        layers.Activation(\"sigmoid\", dtype=\"float32\")\n",
    "    ])\n",
    "    model.compile(\n",
    "        tf.keras.optimizers.Adam(learning_rate = Params[\"lr\"]),\n",
    "        loss=\"binary_crossentropy\",\n",
    "        metrics=[\"AUC\"]\n",
    "    )\n",
    "    model.summary()"
   ]
  },
  {
   "cell_type": "code",
   "execution_count": 14,
   "metadata": {},
   "outputs": [],
   "source": [
    "steps_per_epoch = 560000 // 16 * len(train_files) // Params[\"batch_size\"]\n",
    "validation_steps = 560000 // 16 * len(val_files) // Params[\"batch_size\"]"
   ]
  },
  {
   "cell_type": "code",
   "execution_count": null,
   "metadata": {},
   "outputs": [],
   "source": []
  },
  {
   "cell_type": "markdown",
   "metadata": {},
   "source": [
    "## Models"
   ]
  },
  {
   "cell_type": "markdown",
   "metadata": {},
   "source": [
    "This is the best performing model architecture. It was originally based on the architecture described in [this paper](https://arxiv.org/abs/1908.03151) and [this paper](https://arxiv.org/abs/2012.13101), but altered for higher performance in low SNR situations. The model in this form has excessive complexity and it should be possible to slim it down without sacrificing too much performance. The main performance-boosting change was increasing the layer count in the second convolution block to 3 instead of the 1 proposed in the papers."
   ]
  },
  {
   "cell_type": "raw",
   "metadata": {
    "execution": {
     "iopub.execute_input": "2021-09-17T17:22:54.953060Z",
     "iopub.status.busy": "2021-09-17T17:22:54.952812Z",
     "iopub.status.idle": "2021-09-17T17:22:54.957958Z",
     "shell.execute_reply": "2021-09-17T17:22:54.957019Z",
     "shell.execute_reply.started": "2021-09-17T17:22:54.953033Z"
    }
   },
   "source": [
    "#best\n",
    "from tensorflow.keras import Sequential, layers\n",
    "with strategy.scope():\n",
    "    model = Sequential([\n",
    "        layers.Conv1D(filters=256, activation=\"relu\", kernel_size=3, padding=\"causal\",input_shape=[4096,3]),\n",
    "        layers.Conv1D(filters=256, activation=\"relu\", kernel_size=6, padding=\"causal\"),\n",
    "        layers.Conv1D(filters=256, activation=\"relu\", kernel_size=6, padding=\"causal\"),\n",
    "        \n",
    "        layers.MaxPool1D(pool_size=2),\n",
    "        layers.Activation(\"relu\"),\n",
    "        \n",
    "        layers.Conv1D(filters=64, activation=\"relu\", kernel_size=8, padding=\"causal\"),\n",
    "        layers.Conv1D(filters=128, activation=\"relu\", kernel_size=8, padding=\"causal\"),\n",
    "        layers.Conv1D(filters=128, activation=\"relu\", kernel_size=8, padding=\"causal\"),\n",
    "        layers.MaxPool1D(pool_size=4),\n",
    "        layers.Dropout(0.4),\n",
    "        layers.Activation(\"relu\"),\n",
    "        \n",
    "        layers.Conv1D(filters=128, activation=\"relu\", kernel_size=8, padding=\"causal\"),\n",
    "        layers.Conv1D(filters=128, activation=\"relu\",kernel_size=8, padding=\"causal\"),\n",
    "        layers.Conv1D(filters=128, activation=\"relu\",kernel_size=8, padding=\"causal\"),\n",
    "        \n",
    "        layers.MaxPool1D(pool_size=4),\n",
    "        layers.Activation(\"relu\"),\n",
    "        \n",
    "        layers.Conv1D(filters=256, activation=\"relu\", kernel_size=8, padding=\"causal\"),\n",
    "        layers.Conv1D(filters=256, activation=\"relu\",kernel_size=8, padding=\"causal\"),\n",
    "        layers.Conv1D(filters=256, activation=\"relu\",kernel_size=8, padding=\"causal\"),\n",
    "        \n",
    "        layers.MaxPool1D(pool_size=4),\n",
    "        layers.Activation(\"relu\"),\n",
    "        \n",
    "        layers.Flatten(),\n",
    "        layers.Dense(128, activation=\"relu\"),\n",
    "        layers.Dense(64, activation=\"relu\"),\n",
    "        layers.Dense(32, activation=\"relu\"),\n",
    "        \n",
    "        layers.Dropout(0.5),\n",
    "        layers.Dense(1),\n",
    "        layers.Activation(\"sigmoid\", dtype=\"float32\")\n",
    "    ])\n",
    "    \n",
    "    lr_decayed_fn = tf.keras.experimental.CosineDecay(\n",
    "        1e-3,\n",
    "        steps_per_epoch\n",
    "    )\n",
    "    \n",
    "    opt = tf.keras.optimizers.Adam(learning_rate = Params[\"lr\"])\n",
    "\n",
    "    #opt = tfa.optimizers.AdamW(lr_decayed_fn, learning_rate = Params[\"lr\"])\n",
    "    model.compile(\n",
    "        opt,\n",
    "        loss=\"binary_crossentropy\",\n",
    "        metrics=[\"AUC\"]\n",
    "    )\n",
    "    model.summary()"
   ]
  },
  {
   "cell_type": "markdown",
   "metadata": {},
   "source": [
    "Altered version of the above model, that I'm currently testing"
   ]
  },
  {
   "cell_type": "raw",
   "metadata": {},
   "source": [
    "from tensorflow.keras import Sequential, layers\n",
    "with strategy.scope():\n",
    "    model = Sequential([\n",
    "        tf.keras.Input(shape=[4096,3]),\n",
    "        layers.Conv1D(filters=256, activation=\"elu\", kernel_size=3, padding=\"same\"),\n",
    "        layers.Conv1D(filters=256, activation=\"elu\", kernel_size=6, padding=\"same\"),\n",
    "        layers.Conv1D(filters=256, activation=\"elu\", kernel_size=6, padding=\"same\"),\n",
    "        layers.BatchNormalization(),\n",
    "        layers.MaxPool1D(pool_size=2),\n",
    "        layers.Activation(\"elu\"),\n",
    "        \n",
    "        layers.Conv1D(filters=64, activation=\"elu\", kernel_size=8, padding=\"same\"),\n",
    "        layers.Conv1D(filters=128, activation=\"elu\", kernel_size=8, padding=\"same\"),\n",
    "        layers.Conv1D(filters=128, activation=\"elu\", kernel_size=8, padding=\"same\"),\n",
    "        layers.MaxPool1D(pool_size=4),\n",
    "        layers.BatchNormalization(),\n",
    "        \n",
    "        layers.Dropout(0.4),\n",
    "        layers.Activation(\"elu\"),\n",
    "        \n",
    "        layers.Conv1D(filters=128, activation=\"elu\", kernel_size=8, padding=\"same\"),\n",
    "        layers.Conv1D(filters=128, activation=\"elu\",kernel_size=8, padding=\"same\"),\n",
    "        layers.Conv1D(filters=128, activation=\"elu\",kernel_size=8, padding=\"same\"),\n",
    "        layers.BatchNormalization(),\n",
    "        \n",
    "        layers.MaxPool1D(pool_size=4),\n",
    "        layers.Activation(\"elu\"),\n",
    "        \n",
    "        layers.Conv1D(filters=256, activation=\"elu\", kernel_size=8, padding=\"same\"),\n",
    "        layers.Conv1D(filters=256, activation=\"elu\",kernel_size=8, padding=\"same\"),\n",
    "        layers.Conv1D(filters=256, activation=\"elu\",kernel_size=8, padding=\"same\"),\n",
    "        layers.BatchNormalization(),\n",
    "        \n",
    "        layers.MaxPool1D(pool_size=4),\n",
    "        layers.Activation(\"elu\"),\n",
    "        \n",
    "        layers.Flatten(),\n",
    "        layers.Dense(128, activation=\"elu\"),\n",
    "        layers.Dropout(0.4),\n",
    "        layers.Dense(64, activation=\"elu\"),\n",
    "        layers.Dropout(0.4),\n",
    "        layers.Dense(32, activation=\"elu\"),\n",
    "        \n",
    "        layers.Dropout(0.5),\n",
    "        layers.Dense(1, kernel_constraint=tf.keras.constraints.MinMaxNorm(min_value=0.001, max_value=0.999),\n",
    "                     kernel_initializer=tf.keras.initializers.RandomUniform(minval=0.3, maxval=0.4),\n",
    "                     dtype=tf.float32\n",
    "                    ),\n",
    "#         layers.Activation(\"sigmoid\", dtype=\"float32\")\n",
    "    ])\n",
    "    \n",
    "    lr_decayed_fn = tf.keras.experimental.CosineDecay(\n",
    "        1e-3,\n",
    "        steps_per_epoch\n",
    "    )\n",
    "    \n",
    "    opt = tf.keras.optimizers.Adam(learning_rate = Params[\"lr\"])\n",
    "    loss = tf.keras.losses.BinaryCrossentropy(from_logits=True)\n",
    "    AUC = tf.keras.metrics.AUC(from_logits=True)\n",
    "    \n",
    "    #opt = tfa.optimizers.AdamW(lr_decayed_fn, learning_rate = Params[\"lr\"])\n",
    "    model.compile(\n",
    "        opt,\n",
    "        loss=loss,\n",
    "        metrics=[AUC]\n",
    "    )\n",
    "    model.summary()"
   ]
  },
  {
   "cell_type": "markdown",
   "metadata": {},
   "source": [
    "load a trained version of the filter, to use for fine-tuning. The current detection model is not suited well as a head for this filter, since it is far to complex for such a task"
   ]
  },
  {
   "cell_type": "code",
   "execution_count": 15,
   "metadata": {},
   "outputs": [
    {
     "name": "stdout",
     "output_type": "stream",
     "text": [
      "Model: \"sequential\"\n",
      "_________________________________________________________________\n",
      "Layer (type)                 Output Shape              Param #   \n",
      "=================================================================\n",
      "conv1d (Conv1D)              (None, 4096, 12)          156       \n",
      "_________________________________________________________________\n",
      "reshape (Reshape)            (None, 4096, 12, 1)       0         \n",
      "_________________________________________________________________\n",
      "time_distributed (TimeDistri (None, 4096, 12, 32)      128       \n",
      "_________________________________________________________________\n",
      "time_distributed_1 (TimeDist (None, 4096, 6, 32)       0         \n",
      "_________________________________________________________________\n",
      "time_distributed_2 (TimeDist (None, 4096, 6, 16)       1552      \n",
      "_________________________________________________________________\n",
      "time_distributed_3 (TimeDist (None, 4096, 96)          0         \n",
      "_________________________________________________________________\n",
      "bidirectional (Bidirectional (None, 4096, 256)         231424    \n",
      "_________________________________________________________________\n",
      "bidirectional_1 (Bidirection (None, 4096, 256)         395264    \n",
      "_________________________________________________________________\n",
      "bidirectional_2 (Bidirection (None, 4096, 256)         395264    \n",
      "_________________________________________________________________\n",
      "time_distributed_4 (TimeDist (None, 4096, 3)           771       \n",
      "=================================================================\n",
      "Total params: 2,049,118\n",
      "Trainable params: 1,024,559\n",
      "Non-trainable params: 1,024,559\n",
      "_________________________________________________________________\n"
     ]
    }
   ],
   "source": [
    "pre_filter = tf.keras.models.load_model(\"model5.h5\")\n",
    "pre_filter.trainable=False\n",
    "pre_filter.summary()"
   ]
  },
  {
   "cell_type": "markdown",
   "metadata": {},
   "source": [
    "less complex model with filter for fine-tuning"
   ]
  },
  {
   "cell_type": "code",
   "execution_count": 16,
   "metadata": {},
   "outputs": [
    {
     "name": "stdout",
     "output_type": "stream",
     "text": [
      "WARNING:tensorflow:From C:\\Users\\apist\\anaconda3\\envs\\g2net-tf\\lib\\site-packages\\keras\\layers\\normalization\\batch_normalization.py:520: _colocate_with (from tensorflow.python.framework.ops) is deprecated and will be removed in a future version.\n",
      "Instructions for updating:\n",
      "Colocations handled automatically by placer.\n",
      "Model: \"sequential\"\n",
      "_________________________________________________________________\n",
      "Layer (type)                 Output Shape              Param #   \n",
      "=================================================================\n",
      "sequential (Sequential)      (None, 4096, 3)           1024559   \n",
      "_________________________________________________________________\n",
      "conv1d (Conv1D)              (None, 4096, 192)         12480     \n",
      "_________________________________________________________________\n",
      "batch_normalization (BatchNo (None, 4096, 192)         768       \n",
      "_________________________________________________________________\n",
      "activation (Activation)      (None, 4096, 192)         0         \n",
      "_________________________________________________________________\n",
      "conv1d_1 (Conv1D)            (None, 4096, 64)          393280    \n",
      "_________________________________________________________________\n",
      "max_pooling1d (MaxPooling1D) (None, 512, 64)           0         \n",
      "_________________________________________________________________\n",
      "batch_normalization_1 (Batch (None, 512, 64)           256       \n",
      "_________________________________________________________________\n",
      "activation_1 (Activation)    (None, 512, 64)           0         \n",
      "_________________________________________________________________\n",
      "conv1d_2 (Conv1D)            (None, 512, 128)          262272    \n",
      "_________________________________________________________________\n",
      "batch_normalization_2 (Batch (None, 512, 128)          512       \n",
      "_________________________________________________________________\n",
      "activation_2 (Activation)    (None, 512, 128)          0         \n",
      "_________________________________________________________________\n",
      "conv1d_3 (Conv1D)            (None, 512, 128)          262272    \n",
      "_________________________________________________________________\n",
      "average_pooling1d (AveragePo (None, 85, 128)           0         \n",
      "_________________________________________________________________\n",
      "batch_normalization_3 (Batch (None, 85, 128)           512       \n",
      "_________________________________________________________________\n",
      "activation_3 (Activation)    (None, 85, 128)           0         \n",
      "_________________________________________________________________\n",
      "conv1d_4 (Conv1D)            (None, 85, 256)           524544    \n",
      "_________________________________________________________________\n",
      "batch_normalization_4 (Batch (None, 85, 256)           1024      \n",
      "_________________________________________________________________\n",
      "activation_4 (Activation)    (None, 85, 256)           0         \n",
      "_________________________________________________________________\n",
      "flatten (Flatten)            (None, 21760)             0         \n",
      "_________________________________________________________________\n",
      "dense (Dense)                (None, 64)                1392704   \n",
      "_________________________________________________________________\n",
      "batch_normalization_5 (Batch (None, 64)                256       \n",
      "_________________________________________________________________\n",
      "dropout (Dropout)            (None, 64)                0         \n",
      "_________________________________________________________________\n",
      "activation_5 (Activation)    (None, 64)                0         \n",
      "_________________________________________________________________\n",
      "dense_1 (Dense)              (None, 64)                4160      \n",
      "_________________________________________________________________\n",
      "batch_normalization_6 (Batch (None, 64)                256       \n",
      "_________________________________________________________________\n",
      "dropout_1 (Dropout)          (None, 64)                0         \n",
      "_________________________________________________________________\n",
      "activation_6 (Activation)    (None, 64)                0         \n",
      "_________________________________________________________________\n",
      "dropout_2 (Dropout)          (None, 64)                0         \n",
      "_________________________________________________________________\n",
      "dense_2 (Dense)              (None, 1)                 65        \n",
      "_________________________________________________________________\n",
      "activation_7 (Activation)    (None, 1)                 0         \n",
      "=================================================================\n",
      "Total params: 3,879,920\n",
      "Trainable params: 2,853,569\n",
      "Non-trainable params: 1,026,351\n",
      "_________________________________________________________________\n"
     ]
    }
   ],
   "source": [
    "from tensorflow.keras import Sequential, layers\n",
    "with strategy.scope():\n",
    "    model = Sequential([\n",
    "        tf.keras.Input(shape=([4096,3])),\n",
    "        pre_filter,\n",
    "        layers.Conv1D(filters=64*3, activation=None, kernel_size=64, padding=\"causal\",input_shape=[4096,3], groups=3),\n",
    "        layers.BatchNormalization(),\n",
    "        layers.Activation(\"elu\"),\n",
    "        \n",
    "        layers.Conv1D(filters=64, activation=None, kernel_size=32, padding=\"causal\"),\n",
    "        layers.MaxPool1D(pool_size=8),\n",
    "        layers.BatchNormalization(),\n",
    "        layers.Activation(\"elu\"),\n",
    "        \n",
    "        layers.Conv1D(filters=128, activation=None,kernel_size=32, padding=\"causal\"),\n",
    "        layers.BatchNormalization(),\n",
    "        layers.Activation(\"elu\"),\n",
    "        \n",
    "        layers.Conv1D(filters=128, activation=None,kernel_size=16, padding=\"causal\"),\n",
    "        layers.AvgPool1D(pool_size=6),\n",
    "        layers.BatchNormalization(),\n",
    "        layers.Activation(\"elu\"),\n",
    "        \n",
    "        layers.Conv1D(filters=256, activation=\"relu\",kernel_size=16, padding=\"causal\"),\n",
    "        layers.BatchNormalization(),\n",
    "        layers.Activation(\"elu\"),\n",
    "        \n",
    "        \n",
    "        layers.Flatten(),\n",
    "        layers.Dense(64, activation=None),\n",
    "        layers.BatchNormalization(),\n",
    "        layers.Dropout(0.4),\n",
    "        layers.Activation(\"elu\"),\n",
    "        \n",
    "        layers.Dense(64, activation=None),\n",
    "        layers.BatchNormalization(),\n",
    "        layers.Dropout(0.4),\n",
    "        layers.Activation(\"elu\"),\n",
    "        \n",
    "        \n",
    "        layers.Dropout(0.4),\n",
    "        layers.Dense(1, kernel_constraint=tf.keras.constraints.MinMaxNorm(min_value=0.001, max_value=0.999),\n",
    "                     kernel_initializer=tf.keras.initializers.RandomUniform(minval=0.3, maxval=0.4)\n",
    "                    ),\n",
    "        layers.Activation(\"sigmoid\", dtype=\"float32\")\n",
    "    ])\n",
    "    \n",
    "    lr_decayed_fn = tf.keras.experimental.CosineDecay(\n",
    "        1e-3,\n",
    "        steps_per_epoch\n",
    "    )\n",
    "    opt = tfa.optimizers.Lookahead(\n",
    "        tfa.optimizers.AdamW(lr_decayed_fn, learning_rate = Params[\"lr\"]),\n",
    "        sync_period=6\n",
    "    )\n",
    "\n",
    "    loss = tf.keras.losses.BinaryCrossentropy(from_logits=False)\n",
    "    AUC = tf.keras.metrics.AUC(from_logits=True)\n",
    "\n",
    "    #opt = tfa.optimizers.AdamW(lr_decayed_fn, learning_rate = Params[\"lr\"])\n",
    "    model.compile(\n",
    "        opt,\n",
    "        loss=loss,\n",
    "        metrics=[AUC]\n",
    "    )\n",
    "    model.summary()\n"
   ]
  },
  {
   "cell_type": "markdown",
   "metadata": {},
   "source": [
    "### get_lr_callback()\n",
    "\n",
    "This function creates a callback to alter the learning rate in a way that has been shown to be advantageous. This is an altered version of the one seen in [this notebook](https://www.kaggle.com/miklgr500/cqt-g2net-efficientnetb7-tpu-training-w-b#Build-Model)."
   ]
  },
  {
   "cell_type": "code",
   "execution_count": 17,
   "metadata": {},
   "outputs": [],
   "source": [
    "def get_lr_callback(batch_size=8):\n",
    "    lr_start = Params[\"lr\"]\n",
    "    lr_max = 0.0000015 * batch_size\n",
    "    lr_min = 1e-7\n",
    "    lr_ramp_ep = 3\n",
    "    lr_sus_ep = 0\n",
    "    lr_decay = 0.7\n",
    "    \n",
    "    def lrfn(epoch):\n",
    "        initial_epochs = 4\n",
    "        \n",
    "        epoch = epoch - initial_epochs\n",
    "        if epoch < -1 * initial_epochs + 2:\n",
    "            return lr_start/10\n",
    "        elif epoch < 0:\n",
    "            lr = lr_start\n",
    "        elif epoch < lr_ramp_ep:\n",
    "            lr = (lr_max - lr_start) / lr_ramp_ep * epoch + lr_start\n",
    "        elif epoch < lr_ramp_ep + lr_sus_ep:\n",
    "            lr = lr_max\n",
    "        else:\n",
    "            lr = (lr_max - lr_min) * lr_decay**(epoch - lr_ramp_ep - lr_sus_ep) + lr_min\n",
    "        return lr\n",
    "    lr_callback = tf.keras.callbacks.LearningRateScheduler(lrfn, verbose = True)\n",
    "    return lr_callback"
   ]
  },
  {
   "cell_type": "code",
   "execution_count": 18,
   "metadata": {},
   "outputs": [
    {
     "data": {
      "text/plain": [
       "Text(0.5, 1.0, 'Learning Rate Schedule with batch size of 256')"
      ]
     },
     "execution_count": 18,
     "metadata": {},
     "output_type": "execute_result"
    },
    {
     "data": {
      "image/png": "[encoded data removed]",
      "text/plain": [
       "<Figure size 864x360 with 1 Axes>"
      ]
     },
     "metadata": {
      "needs_background": "light"
     },
     "output_type": "display_data"
    }
   ],
   "source": [
    "def lrfn(epoch):\n",
    "    lr_start = Params[\"lr\"]\n",
    "    lr_max = 0.0000015 * Params[\"batch_size\"]\n",
    "    lr_min = 1e-7\n",
    "    lr_ramp_ep = 3\n",
    "    lr_sus_ep = 0\n",
    "    lr_decay = 0.7\n",
    "    initial_epochs = 4\n",
    "\n",
    "    epoch = epoch - initial_epochs\n",
    "    if epoch < -1 * initial_epochs + 2:\n",
    "        return lr_start/10\n",
    "    elif epoch < 0:\n",
    "        lr = lr_start\n",
    "    elif epoch < lr_ramp_ep:\n",
    "        lr = (lr_max - lr_start) / lr_ramp_ep * epoch + lr_start\n",
    "    elif epoch < lr_ramp_ep + lr_sus_ep:\n",
    "        lr = lr_max\n",
    "    else:\n",
    "        lr = (lr_max - lr_min) * lr_decay**(epoch - lr_ramp_ep - lr_sus_ep) + lr_min\n",
    "    return lr\n",
    "\n",
    "lrs = []\n",
    "for epoch in range(30):\n",
    "    lrs.append(lrfn(epoch))\n",
    "    \n",
    "plt.figure(figsize=(12,5))\n",
    "plt.plot(lrs)\n",
    "plt.xlabel(\"Epoch\")\n",
    "plt.ylabel(\"Learning Rate\")\n",
    "plt.title(\"Learning Rate Schedule with batch size of 256\")"
   ]
  },
  {
   "cell_type": "markdown",
   "metadata": {},
   "source": [
    "The model is trained at 1/10 of `Params[\"lr\"]`, for which 1e-4 is recommended for the best performing architecture described above, since the models don't always converge when starting out at 1e-4. This was not used when training the model with the included filter."
   ]
  },
  {
   "cell_type": "markdown",
   "metadata": {},
   "source": [
    "### Callbacks"
   ]
  },
  {
   "cell_type": "code",
   "execution_count": 19,
   "metadata": {
    "execution": {
     "iopub.execute_input": "2021-09-17T17:22:54.960073Z",
     "iopub.status.busy": "2021-09-17T17:22:54.959840Z",
     "iopub.status.idle": "2021-09-17T17:22:54.971237Z",
     "shell.execute_reply": "2021-09-17T17:22:54.970202Z",
     "shell.execute_reply.started": "2021-09-17T17:22:54.960046Z"
    }
   },
   "outputs": [],
   "source": [
    "reduce_lr = tf.keras.callbacks.ReduceLROnPlateau(\n",
    "    monitor=\"val_loss\", factor=0.2,\n",
    "    patience=6, min_lr = 1e-7,\n",
    "    verbose=1\n",
    ")\n",
    "\n",
    "early_stop = tf.keras.callbacks.EarlyStopping(\n",
    "    monitor=\"val_loss\",\n",
    "    min_delta = 0.0003,\n",
    "    mode=\"min\",\n",
    "    patience=10\n",
    ")\n",
    "\n",
    "model_checkpoint = tf.keras.callbacks.ModelCheckpoint(\n",
    "    f\"{MDL_PATH}/model_{Params['version']:03}.h5\",\n",
    "    monitor=\"val_loss\",\n",
    "    verbose=0,\n",
    "    save_best_only=True,\n",
    "    save_weight_only=False,\n",
    "    mode=\"min\",\n",
    "    save_freq=\"epoch\",\n",
    "    \n",
    ")\n",
    "\n",
    "callbacks=[get_lr_callback(Params[\"batch_size\"]) ,reduce_lr, early_stop, model_checkpoint]\n",
    "# callbacks=[reduce_lr, early_stop,model_checkpoint]\n"
   ]
  },
  {
   "cell_type": "markdown",
   "metadata": {},
   "source": [
    "## Training\n",
    "\n",
    "### Train Head"
   ]
  },
  {
   "cell_type": "code",
   "execution_count": null,
   "metadata": {
    "execution": {
     "iopub.execute_input": "2021-09-17T17:22:54.972832Z",
     "iopub.status.busy": "2021-09-17T17:22:54.972552Z"
    }
   },
   "outputs": [
    {
     "name": "stdout",
     "output_type": "stream",
     "text": [
      "Train on 1914 steps, validate on 273 steps\n",
      "\n",
      "Epoch 00001: LearningRateScheduler setting learning rate to 1e-05.\n",
      "Epoch 1/35\n",
      "1656/1914 [========================>.....] - ETA: 2:11 - batch: 827.5000 - size: 1.0000 - loss: 0.5828 - auc: 0.7427"
     ]
    }
   ],
   "source": [
    "history = model.fit(train_ds, validation_data = val_ds, epochs = Params[\"epochs\"], shuffle=False,\n",
    "                    steps_per_epoch = steps_per_epoch, validation_steps=validation_steps,\n",
    "                    verbose=1, callbacks=callbacks)"
   ]
  },
  {
   "cell_type": "markdown",
   "metadata": {},
   "source": [
    "### Train filter\n",
    "\n",
    "Now training is enabled on the filter itself. The filter requires a much higher learning rate than the detection network, so the layers of the detection network are not trained until the filter converges. Once the filter converges, the whole network can be trained at the same time. The reason the filter needs to be trained at such a high learning rate instead of just fine-tuning it, is that the pre-processing of the currently finished synthetic datasets used to train the filter is unfortunately different to the pre-processing applied to the Kaggle dataset:\n",
    "\n",
    "* in the synthetic dataset, the signal was whitened and bandpassed over a signal length of 8s, then cut down to 2s. This means the data corruption of the filtering process was cut out of the signal. Due to the fact that in the Kaggle dataset only 2s of time is available for each sample, the filters were applied to that time-frame, letting the data corruption caused by the filters influence the whole time series.\n",
    "\n",
    "* additionally the parameters of the filters were different on both datasets. The whitening process, for example used a window length of 4s on the synthetic dataset, whereas a 0.5s window was used on the Kaggle dataset.\n",
    "\n",
    "* The reported signal to noise ratio(SNR) of the tool used to create the synthetic datasets is either incorrect or the SNR of the Kaggle dataset is very low. This can be seen because detection models without filter, which were only trained on the pre-processed Kaggle dataset perform very highly on the synthetic datasets (up to a area under curve (AUC) score of 0.95, compared to 0.85 on the datasets used for training), which have never been seen by the model. This implies that either for reasons of SNR inconsistencies or because of data corruption by the filters, the Kaggle dataset is much harder than the synthetic ones, which makes the filter not well-posed on the Kaggle dataset, which necessitates a reasonably high learning rate. Additionally the learning rate required by the filter is in general 2 orders of magnitude higher than that of the detection network. In general the tool used to create the synthetic datasets reports a SNR of around 6 which is very low and should not lead to such high AUC scores. Additionally the way the signals are treated by the tool should lead to a consistent SNR at any simulated distance between detector and event, but in practice the pre-trained detection models perform worse on datasets with a higher distance and the same reported SNR.\n",
    "\n",
    "To alleviate these issues new synthetic datasets are currently being created without any pre-processing and at different distances to be able to apply the same pre-processing pipeline to the samples as is used on the Kaggle datasets, so that the filter can be trained on a comparable dataset to the Kaggle one, hopefully leading to a better posed filter.\n",
    "\n",
    "The reason for creating synthetic datasets for training the filter is that the Kaggle dataset only has a binary target, either there is a gravitational wave in the noise or not. To be able to train a filter to recreate the wavelet pattern, the shape of the wavelet hast to be known."
   ]
  },
  {
   "cell_type": "raw",
   "metadata": {},
   "source": [
    "reduce_lr = tf.keras.callbacks.ReduceLROnPlateau(\n",
    "    monitor=\"val_loss\", factor=0.2,\n",
    "    patience=6, min_lr = 0.0000001,\n",
    "    verbose=1\n",
    ")\n",
    "\n",
    "early_stop = tf.keras.callbacks.EarlyStopping(\n",
    "    monitor=\"val_loss\",\n",
    "    min_delta = 0.0003,\n",
    "    mode=\"min\",\n",
    "    patience=10\n",
    ")\n",
    "\n",
    "model_checkpoint = tf.keras.callbacks.ModelCheckpoint(\n",
    "    f\"{MDL_PATH}/model_{Params['version']:03}_2.h5\",\n",
    "    monitor=\"val_loss\",\n",
    "    verbose=0,\n",
    "    save_best_only=True,\n",
    "    save_weight_only=False,\n",
    "    mode=\"auto\",\n",
    "    save_freq=\"epoch\",\n",
    "    \n",
    ")\n",
    "\n",
    "# callbacks=[get_lr_callback(Params[\"batch_size\"]) ,reduce_lr, early_stop, model_checkpoint]\n",
    "callbacks=[reduce_lr, early_stop,model_checkpoint]\n"
   ]
  },
  {
   "cell_type": "markdown",
   "metadata": {},
   "source": [
    "#### Enable Training on Filter\n",
    "\n",
    "only the layers of the encoder are trained here. This is done, because the goal is to get the encoder to encode the same way it did on the synthetic training datasets and also because the LSTM layers of the decoder part of the filter take a lot of training time, especially on a TPU runtime, where the CUDA implementation does not work and necessitates the use of the CPU."
   ]
  },
  {
   "cell_type": "raw",
   "metadata": {},
   "source": [
    "with strategy.scope():\n",
    "    \n",
    "    for layer in model.layers:\n",
    "        layer.trainable=False\n",
    "    pre_filter.trainable=True\n",
    "    for i,layer in enumerate(pre_filter.layers[6:]):\n",
    "        print(i, layer)\n",
    "        layer.trainable=False\n",
    "    \n",
    "\n",
    "    opt = tfa.optimizers.Lookahead(\n",
    "#         tfa.optimizers.AdamW(lr_decayed_fn, learning_rate = 1e-3),\n",
    "        tf.keras.optimizers.Adam(learning_rate=1e-3),\n",
    "        sync_period=6\n",
    "    )\n",
    "    loss = tf.keras.losses.BinaryCrossentropy(from_logits=False)\n",
    "    AUC = tf.keras.metrics.AUC()\n",
    "\n",
    "\n",
    "    model.compile(\n",
    "        opt,\n",
    "        loss=loss,\n",
    "        metrics=[AUC]\n",
    "    )\n",
    "    model.summary()\n",
    "    # model is loaded from best checkpoint in case of overfitting in later epochs\n",
    "    model.load_weights(f\"{MDL_PATH}/model_{Params['version']:03}.h5\")\n",
    "    "
   ]
  },
  {
   "cell_type": "raw",
   "metadata": {},
   "source": [
    "history2 = model.fit(train_ds, validation_data = val_ds, epochs = Params[\"epochs\"], shuffle=True,\n",
    "                    steps_per_epoch = steps_per_epoch, validation_steps=validation_steps,\n",
    "                    verbose=1, callbacks=callbacks)\n"
   ]
  },
  {
   "cell_type": "markdown",
   "metadata": {},
   "source": [
    "### Fine-tuning\n",
    "\n",
    "After the filter converges with the pre-trained Detection model, the complete model can now be trained at a lower learning rate, although at the time of writing the detection model is still much to complex, making overfitting a significant problem."
   ]
  },
  {
   "cell_type": "code",
   "execution_count": null,
   "metadata": {},
   "outputs": [],
   "source": [
    "with strategy.scope():\n",
    "    pre_filter.trainable=False\n",
    "    for layer in model.layers:\n",
    "        layer.trainable=True\n",
    "    for layer in pre_filter.layers:\n",
    "        layer.trainable=True\n",
    "    \n",
    "#     for i,layer in enumerate(pre_filter.layers[6:]):\n",
    "#         print(i, layer)\n",
    "#         layer.trainable=False\n",
    "\n",
    "    opt = tfa.optimizers.Lookahead(\n",
    "#         tfa.optimizers.AdamW(lr_decayed_fn, learning_rate = 1e-4),\n",
    "        tf.keras.optimizers.Adam(learning_rate=5e-6),\n",
    "        sync_period=6\n",
    "    )\n",
    "    loss = tf.keras.losses.BinaryCrossentropy(from_logits=False)\n",
    "    AUC = tf.keras.metrics.AUC()\n",
    "\n",
    "\n",
    "    model.compile(\n",
    "        opt,\n",
    "        loss=loss,\n",
    "        metrics=[AUC]\n",
    "    )\n",
    "    model.summary()\n",
    "    # model is loaded from checkpoint to get the best performing model\n",
    "    # hopefully alleviating some overfitting\n",
    "#     model.load_weights(f\"{MDL_PATH}/model_{Params['version']:03}.h5\".replace(f\"{VER:03}\",\"446\"))\n",
    "    "
   ]
  },
  {
   "cell_type": "code",
   "execution_count": null,
   "metadata": {},
   "outputs": [],
   "source": [
    "# tf.keras.backend.clear_session()"
   ]
  },
  {
   "cell_type": "code",
   "execution_count": null,
   "metadata": {},
   "outputs": [],
   "source": [
    "history2 = model.fit(train_ds, validation_data = val_ds, epochs = Params[\"epochs\"], shuffle=True,\n",
    "                    steps_per_epoch = steps_per_epoch, validation_steps=validation_steps,\n",
    "                    verbose=1, callbacks=callbacks)"
   ]
  },
  {
   "cell_type": "markdown",
   "metadata": {},
   "source": [
    "## Analysis\n",
    "\n",
    "### Log model performance"
   ]
  },
  {
   "cell_type": "code",
   "execution_count": null,
   "metadata": {
    "scrolled": true
   },
   "outputs": [],
   "source": [
    "historyFrame = pd.DataFrame(history.history)\n",
    "historyFrame[[\"auc\", \"val_auc\"]].plot()\n",
    "historyFrame[[\"loss\", \"val_loss\"]].plot()\n",
    "historyFrame.to_csv(f\"{MDL_PATH}/history_mdl{Params['version']:03}.csv\", index=False)"
   ]
  },
  {
   "cell_type": "code",
   "execution_count": null,
   "metadata": {},
   "outputs": [],
   "source": [
    "historyFrame2 = pd.DataFrame(history2.history)\n",
    "historyFrame2[[\"auc_1\", \"val_auc_1\"]].plot()\n",
    "historyFrame2[[\"loss\", \"val_loss\"]].plot()\n",
    "historyFrame2.to_csv(f\"{MDL_PATH}/history_mdl{Params['version']:03}.csv\", index=False)"
   ]
  },
  {
   "cell_type": "code",
   "execution_count": null,
   "metadata": {
    "scrolled": true
   },
   "outputs": [],
   "source": [
    "historyFrame"
   ]
  },
  {
   "cell_type": "raw",
   "metadata": {},
   "source": [
    "historyFrame2"
   ]
  },
  {
   "cell_type": "code",
   "execution_count": null,
   "metadata": {},
   "outputs": [],
   "source": [
    "best_epoch = historyFrame.val_auc.argmax()\n",
    "best_loss = historyFrame.iloc[best_epoch].loss\n",
    "best_auc = historyFrame.iloc[best_epoch].val_auc\n",
    "print(\"best epoch:\", best_epoch,\n",
    "      \"| best loss:\", best_loss,\n",
    "      \"| best auc:\", best_auc\n",
    "     )"
   ]
  },
  {
   "cell_type": "code",
   "execution_count": null,
   "metadata": {},
   "outputs": [],
   "source": [
    "best_epoch = historyFrame2.val_auc_1.argmax()\n",
    "best_loss = historyFrame2.iloc[best_epoch].loss\n",
    "best_auc = historyFrame2.iloc[best_epoch].val_auc_1\n",
    "print(\"best epoch:\", best_epoch,\n",
    "      \"| best loss:\", best_loss,\n",
    "      \"| best auc:\", best_auc\n",
    "     )"
   ]
  },
  {
   "cell_type": "code",
   "execution_count": null,
   "metadata": {},
   "outputs": [],
   "source": [
    "result = Params.copy()\n",
    "result[\"bavg_epoch\"] = int(best_epoch)\n",
    "result[\"bavg_loss\"] = float(best_loss)\n",
    "result[\"bavg_auc\"] = float(best_auc)\n",
    "with open(f\"{MDL_PATH}/params.json\", \"w\") as file:\n",
    "    json.dump(result, file)\n",
    "\n",
    "if not os.path.exists(f\"{MDLS_PATH}/results.csv\"):\n",
    "    df_save = pd.DataFrame(result, index=[0])\n",
    "    df_save.to_csv(f\"{MDLS_PATH}/results.csv\")\n",
    "else:\n",
    "    df_old = pd.read_csv(f\"{MDLS_PATH}/results.csv\", index_col=0)\n",
    "    df_save = pd.DataFrame(result, index = [df_old.index.max() + 1])\n",
    "    df_save = df_old.append(df_save, ignore_index=True)\n",
    "    df_save.to_csv(f\"{MDLS_PATH}/results.csv\")   "
   ]
  },
  {
   "cell_type": "code",
   "execution_count": null,
   "metadata": {},
   "outputs": [],
   "source": [
    "pd.read_csv(f\"{MDLS_PATH}/results.csv\",index_col=[0])"
   ]
  },
  {
   "cell_type": "code",
   "execution_count": null,
   "metadata": {},
   "outputs": [],
   "source": [
    "del train_ds, val_ds\n",
    "gc.collect()"
   ]
  },
  {
   "cell_type": "markdown",
   "metadata": {},
   "source": [
    "### Inference on Test Data"
   ]
  },
  {
   "cell_type": "code",
   "execution_count": null,
   "metadata": {},
   "outputs": [],
   "source": []
  },
  {
   "cell_type": "code",
   "execution_count": null,
   "metadata": {},
   "outputs": [],
   "source": [
    "prediction_scores = []\n",
    "with strategy.scope():\n",
    "    model2 = tf.keras.models.load_model(f\"{MDL_PATH}/model_{Params['version']:03}.h5\")\n",
    "n_vals = len(val_files) // len(tfrec_folders)\n",
    "for i in range(len(tfrec_folders)):\n",
    "    files = val_files[i * n_vals: (i + 1)*n_vals] \n",
    "    val_ds = load_dataset(files, shuffle=False, cache=False, ordered=True, repeat=False)\n",
    "    history = model.evaluate(val_ds, steps = 35000 * n_vals // Params[\"batch_size\"])\n",
    "    prediction_scores.append(history[1])\n",
    "print(prediction_scores)\n",
    "best_pred = np.array(prediction_scores).argmax()"
   ]
  },
  {
   "cell_type": "code",
   "execution_count": null,
   "metadata": {},
   "outputs": [],
   "source": [
    "test_set = load_dataset(test_files[best_pred], cache=False, shuffle=False, ordered=True, labeled=False, repeat=False, return_labels=False)\n",
    "test_prediction = model.predict(test_set)\n",
    "sub = pd.read_csv(\"../input/g2net-gravitational-wave-detection/sample_submission.csv\")\n",
    "sub.target = test_prediction.flatten()\n",
    "sub.to_csv(f\"{MDL_PATH}/submission.csv\", index=False)"
   ]
  },
  {
   "cell_type": "code",
   "execution_count": null,
   "metadata": {},
   "outputs": [],
   "source": []
  }
 ],
 "metadata": {
  "kernelspec": {
   "display_name": "Python 3 (ipykernel)",
   "language": "python",
   "name": "python3"
  },
  "language_info": {
   "codemirror_mode": {
    "name": "ipython",
    "version": 3
   },
   "file_extension": ".py",
   "mimetype": "text/x-python",
   "name": "python",
   "nbconvert_exporter": "python",
   "pygments_lexer": "ipython3",
   "version": "3.7.10"
  },
  "toc": {
   "base_numbering": 1,
   "nav_menu": {},
   "number_sections": true,
   "sideBar": true,
   "skip_h1_title": false,
   "title_cell": "Table of Contents",
   "title_sidebar": "Contents",
   "toc_cell": false,
   "toc_position": {},
   "toc_section_display": true,
   "toc_window_display": false
  },
  "varInspector": {
   "cols": {
    "lenName": 16,
    "lenType": 16,
    "lenVar": 40
   },
   "kernels_config": {
    "python": {
     "delete_cmd_postfix": "",
     "delete_cmd_prefix": "del ",
     "library": "var_list.py",
     "varRefreshCmd": "print(var_dic_list())"
    },
    "r": {
     "delete_cmd_postfix": ") ",
     "delete_cmd_prefix": "rm(",
     "library": "var_list.r",
     "varRefreshCmd": "cat(var_dic_list()) "
    }
   },
   "types_to_exclude": [
    "module",
    "function",
    "builtin_function_or_method",
    "instance",
    "_Feature"
   ],
   "window_display": false
  }
 },
 "nbformat": 4,
 "nbformat_minor": 4
}
