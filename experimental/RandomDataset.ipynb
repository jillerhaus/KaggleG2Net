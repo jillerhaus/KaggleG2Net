{
 "cells": [
  {
   "cell_type": "code",
   "execution_count": 1,
   "id": "a8789e89",
   "metadata": {},
   "outputs": [],
   "source": [
    "import os\n",
    "from glob import glob\n",
    "import shutil\n",
    "import random\n",
    "INPUT_FOLDER = \"../input/ggwp/output1\"\n",
    "OUTPUT_FOLDER = \"../input/ggwp_sample\""
   ]
  },
  {
   "cell_type": "code",
   "execution_count": 2,
   "id": "73916f70",
   "metadata": {},
   "outputs": [],
   "source": [
    "if os.path.exists(OUTPUT_FOLDER):\n",
    "    shutil.rmtree(OUTPUT_FOLDER)\n",
    "os.mkdir(OUTPUT_FOLDER)\n",
    "for det in [\"H1\", \"L1\", \"V1\"]:\n",
    "    os.mkdir(f\"{OUTPUT_FOLDER}/{det}\")"
   ]
  },
  {
   "cell_type": "code",
   "execution_count": 3,
   "id": "74861b3d",
   "metadata": {},
   "outputs": [],
   "source": [
    "file_list = random.sample(glob(f\"{INPUT_FOLDER}/V1/*.hdf\"),100)\n",
    "for v1_path in file_list:\n",
    "    v1_path = v1_path.replace(\"\\\\\",\"/\")\n",
    "    h1_path = v1_path.replace(\"V1\",(\"H1\"))\n",
    "    l1_path = v1_path.replace(\"V1\",(\"L1\"))\n",
    "    if os.path.exists(h1_path) and os.path.exists(l1_path):\n",
    "        for i in range(3):\n",
    "            path = [v1_path, h1_path, l1_path][i]\n",
    "            folder_name = [\"V1\", \"H1\", \"L1\"][i]\n",
    "            shutil.copyfile(path,f'{OUTPUT_FOLDER}/{folder_name}/{path.split(\"/\")[-1]}')"
   ]
  },
  {
   "cell_type": "code",
   "execution_count": null,
   "id": "21d803a7",
   "metadata": {},
   "outputs": [],
   "source": []
  }
 ],
 "metadata": {
  "kernelspec": {
   "display_name": "Python 3 (ipykernel)",
   "language": "python",
   "name": "python3"
  },
  "language_info": {
   "codemirror_mode": {
    "name": "ipython",
    "version": 3
   },
   "file_extension": ".py",
   "mimetype": "text/x-python",
   "name": "python",
   "nbconvert_exporter": "python",
   "pygments_lexer": "ipython3",
   "version": "3.7.10"
  }
 },
 "nbformat": 4,
 "nbformat_minor": 5
}
