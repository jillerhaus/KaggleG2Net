{
 "cells": [
  {
   "cell_type": "markdown",
   "id": "4b65bea7",
   "metadata": {},
   "source": [
    "# Train TPU"
   ]
  },
  {
   "cell_type": "markdown",
   "id": "264f9d7d",
   "metadata": {},
   "source": [
    "## Setup"
   ]
  },
  {
   "cell_type": "markdown",
   "id": "51cccbd5",
   "metadata": {},
   "source": [
    "### System Setup"
   ]
  },
  {
   "cell_type": "markdown",
   "id": "ec048f8c",
   "metadata": {},
   "source": [
    "#### Find out Host System"
   ]
  },
  {
   "cell_type": "code",
   "execution_count": 1,
   "id": "abfcfffa",
   "metadata": {},
   "outputs": [
    {
     "name": "stdout",
     "output_type": "stream",
     "text": [
      "Running locally\n",
      "device: 0, name: NVIDIA GeForce RTX 3090, pci bus id: 0000:09:00.0, compute capability: 8.6\n"
     ]
    }
   ],
   "source": [
    "import socket\n",
    "import os\n",
    "os.environ[\"CUDA_VISIBLE_DEVICES\"] = \"0\"\n",
    "\n",
    "KAGGLE = True\n",
    "if socket.gethostname() in [\"computerfon-linux\", \"Computerfon\"]:\n",
    "    KAGGLE = False\n",
    "print(\"Running on Kaggle\" if KAGGLE else \"Running locally\")\n",
    "from tensorflow.python.client import device_lib\n",
    "\n",
    "for device in device_lib.list_local_devices():\n",
    "    if device.device_type == \"GPU\":\n",
    "        print(device.physical_device_desc)\n"
   ]
  },
  {
   "cell_type": "code",
   "execution_count": 2,
   "id": "6f5ff613",
   "metadata": {},
   "outputs": [],
   "source": [
    "if KAGGLE:\n",
    "    !pip install -q efficientnet"
   ]
  },
  {
   "cell_type": "markdown",
   "id": "5a5e26aa",
   "metadata": {},
   "source": [
    "#### Imports"
   ]
  },
  {
   "cell_type": "code",
   "execution_count": 3,
   "id": "c51e4819",
   "metadata": {},
   "outputs": [
    {
     "data": {
      "text/html": [
       "<style>.container { width:90% !important; }</style>"
      ],
      "text/plain": [
       "<IPython.core.display.HTML object>"
      ]
     },
     "metadata": {},
     "output_type": "display_data"
    }
   ],
   "source": [
    "from IPython.core.display import display, HTML\n",
    "display(HTML(\"<style>.container { width:90% !important; }</style>\"))"
   ]
  },
  {
   "cell_type": "code",
   "execution_count": 4,
   "id": "f1bab333",
   "metadata": {},
   "outputs": [
    {
     "name": "stdout",
     "output_type": "stream",
     "text": [
      "INFO:tensorflow:Mixed precision compatibility check (mixed_float16): OK\n",
      "Your GPU will likely run quickly with dtype policy mixed_float16 as it has compute capability of at least 7.0. Your GPU: NVIDIA GeForce RTX 3090, compute capability 8.6\n"
     ]
    }
   ],
   "source": [
    "# conda install -c conda-forge jupyter_contrib_nbextensions\n",
    "# jupyter contrib nbextsion install --sys-prefix\n",
    "import warnings\n",
    "import sklearn.exceptions\n",
    "warnings.filterwarnings('ignore', category=DeprecationWarning)\n",
    "warnings.filterwarnings('ignore', category=FutureWarning)\n",
    "warnings.filterwarnings(\"ignore\", category=sklearn.exceptions.UndefinedMetricWarning)\n",
    "\n",
    "if KAGGLE:\n",
    "    from kaggle_datasets import KaggleDatasets\n",
    "import numpy as np\n",
    "import pandas as pd\n",
    "from glob import glob\n",
    "import random\n",
    "import re\n",
    "\n",
    "# plotting\n",
    "import matplotlib.pyplot as plt\n",
    "import seaborn as sns\n",
    "from plotly.subplots import make_subplots\n",
    "from plotly.offline import iplot\n",
    "import plotly.graph_objs as go\n",
    "import plotly.figure_factory as ff\n",
    "import plotly.express as px\n",
    "%matplotlib inline\n",
    "sns.set(style=\"darkgrid\")\n",
    "\n",
    "# Machine Learning\n",
    "# Pre Processing\n",
    "from sklearn.preprocessing import LabelEncoder, OneHotEncoder\n",
    "#Models\n",
    "from sklearn.model_selection import train_test_split, KFold\n",
    "# Deep Learning\n",
    "import tensorflow as tf\n",
    "\n",
    "gpus = tf.config.list_physical_devices(\"GPU\")\n",
    "if gpus:\n",
    "    for gpu in gpus:\n",
    "        tf.config.experimental.set_memory_growth(gpu,False)\n",
    "\n",
    "import tensorflow.keras.backend as K\n",
    "import efficientnet.tfkeras as efn\n",
    "from tensorflow.keras import mixed_precision\n",
    "mixed_precision.set_global_policy(\"mixed_float16\")\n",
    "\n",
    "\n",
    "import tensorflow_addons as tfa\n",
    "\n",
    "#Metrics\n",
    "from sklearn.metrics import roc_auc_score\n",
    "\n",
    "# Random Seed Fixing\n",
    "RANDOM_SEED = 42\n",
    "\n",
    "def seed_everything(seed=RANDOM_SEED):\n",
    "    os.environ[\"PYTHONHASHSEED\"] = str(seed)\n",
    "    np.random.seed(seed)\n",
    "    random.seed(seed)\n",
    "    tf.random.set_seed(seed)\n",
    "\n",
    "seed_everything()"
   ]
  },
  {
   "cell_type": "markdown",
   "id": "ffd62e8f",
   "metadata": {},
   "source": [
    "#### Select Accelerator"
   ]
  },
  {
   "cell_type": "code",
   "execution_count": 5,
   "id": "f5f15a7d",
   "metadata": {},
   "outputs": [],
   "source": [
    "def auto_select_accelerator():\n",
    "    TPU_DETECTED = False\n",
    "    try:\n",
    "        tpu = tf.distribute.cluster_resolver.TPUClusterResolver()\n",
    "        tf.config.experimental_connect_to_cluster(tpu)\n",
    "        tf.tpu.experimental.initialize_tpu_system(tpu)\n",
    "        strategy = tf.distribute.experimental.TPUStrategy(tpu)\n",
    "        print(f\"Running on TPU: {tpu.master()}\")\n",
    "        TPU_DETECTED = True\n",
    "    except ValueError:\n",
    "        strategy = tf.distribute.get_strategy()\n",
    "    num_replicas = strategy.num_replicas_in_sync\n",
    "    print(f\"Running on {num_replicas} replica{'s' if (num_replicas > 1) else ''}\")\n",
    "    return strategy, TPU_DETECTED, num_replicas"
   ]
  },
  {
   "cell_type": "markdown",
   "id": "f2a16c56",
   "metadata": {},
   "source": [
    "## Preparation Code"
   ]
  },
  {
   "cell_type": "markdown",
   "id": "77c5fe41",
   "metadata": {},
   "source": [
    "### PARAMS"
   ]
  },
  {
   "cell_type": "code",
   "execution_count": 6,
   "id": "92270d81",
   "metadata": {},
   "outputs": [
    {
     "name": "stdout",
     "output_type": "stream",
     "text": [
      "Running on 1 replica\n"
     ]
    }
   ],
   "source": [
    "strategy, TPU_DETECTED, REPLICAS = auto_select_accelerator()\n",
    "AUTO = tf.data.experimental.AUTOTUNE\n",
    "KFOLDS = 4\n",
    "IMG_SIZES = [256] * KFOLDS\n",
    "BATCH_SIZES = [2] * KFOLDS\n",
    "EPOCHS = [2] * KFOLDS\n",
    "EFF_NETS = [1] * KFOLDS\n",
    "\n",
    "DISPLAY_PLOT = True"
   ]
  },
  {
   "cell_type": "code",
   "execution_count": 7,
   "id": "3162f909",
   "metadata": {},
   "outputs": [
    {
     "data": {
      "text/plain": [
       "['../input/g2net-make-tfrecords-1\\\\train00-35000.tfrec',\n",
       " '../input/g2net-make-tfrecords-1\\\\train01-35000.tfrec',\n",
       " '../input/g2net-make-tfrecords-2\\\\train02-35000.tfrec',\n",
       " '../input/g2net-make-tfrecords-2\\\\train03-35000.tfrec',\n",
       " '../input/g2net-make-tfrecords-3\\\\train04-35000.tfrec',\n",
       " '../input/g2net-make-tfrecords-3\\\\train05-35000.tfrec',\n",
       " '../input/g2net-make-tfrecords-4\\\\train06-35000.tfrec',\n",
       " '../input/g2net-make-tfrecords-4\\\\train07-35000.tfrec',\n",
       " '../input/g2net-make-tfrecords-5\\\\train08-35000.tfrec',\n",
       " '../input/g2net-make-tfrecords-5\\\\train09-35000.tfrec',\n",
       " '../input/g2net-make-tfrecords-7\\\\train12-35000.tfrec',\n",
       " '../input/g2net-make-tfrecords-7\\\\train13-35000.tfrec',\n",
       " '../input/g2net-make-tfrecords-8\\\\train14-35000.tfrec',\n",
       " '../input/g2net-make-tfrecords-8\\\\train15-35000.tfrec']"
      ]
     },
     "execution_count": 7,
     "metadata": {},
     "output_type": "execute_result"
    }
   ],
   "source": [
    "train_files = []\n",
    "for i in range(16):\n",
    "    if i in [10,11]:\n",
    "        continue\n",
    "    if KAGGLE:\n",
    "        dirpath = KaggleDatasets().get_gcs_path(f\"g2nettfrecords{i//2 + 1}\")\n",
    "        tfrecs_fold = tf.io.gfile.glob(f\"{dirpath}/train{i:02}-*.tfrec\")\n",
    "    else:\n",
    "        dirpath = (f\"../input/g2net-make-tfrecords-{i//2 + 1}\")\n",
    "        tfrecs_fold = glob(f\"{dirpath}/train{i:02}-*.tfrec\")\n",
    "    if len(tfrecs_fold) == 1:\n",
    "        train_files.append(tfrecs_fold[0])\n",
    "    #train_files.append(glob(f\"{dirpath}/train{i:02}-*.tfrec\"))\n",
    "    \n",
    "    \n",
    "train_files"
   ]
  },
  {
   "cell_type": "markdown",
   "id": "5ae64efd",
   "metadata": {},
   "source": [
    "### Reading TFRecords"
   ]
  },
  {
   "cell_type": "code",
   "execution_count": 8,
   "id": "3568f139",
   "metadata": {},
   "outputs": [],
   "source": [
    "def read_labeled_tfrecord(example):\n",
    "    tfrec_format = {\n",
    "        \"image\": tf.io.FixedLenFeature([], tf.string),\n",
    "        \"image_id\": tf.io.FixedLenFeature([], tf.string),\n",
    "        \"target\": tf.io.FixedLenFeature([], tf.int64)\n",
    "    }\n",
    "    example = tf.io.parse_single_example(example, tfrec_format)\n",
    "    return prepare_image(example[\"image\"]), tf.reshape(tf.cast(example[\"target\"], tf.float32), [1])"
   ]
  },
  {
   "cell_type": "code",
   "execution_count": 9,
   "id": "757c89ce",
   "metadata": {},
   "outputs": [],
   "source": [
    "def read_unlabeled_tfrecords(example, return_image_id):\n",
    "    tfrec_format = {\n",
    "        \"image\": tf.io.FixedLenFeature([], tf.string),\n",
    "        \"image_id\": tf.io.FixedLenFeature([], tf.string)\n",
    "    }\n",
    "    example = tf.io.parse_single_example(example, tfrec_format)\n",
    "    return prepare_image(example[\"image\"]), example[\"image_id\"] if return_image_id else 0"
   ]
  },
  {
   "cell_type": "code",
   "execution_count": 10,
   "id": "5aa2dc3f",
   "metadata": {},
   "outputs": [],
   "source": [
    "def prepare_image(img, dim = IMG_SIZES[0]):\n",
    "    img = tf.image.resize(tf.image.decode_png(img, channels = 3), size = (dim, dim))\n",
    "    img = tf.cast(img, tf.float32) / 255.0\n",
    "    img = tf.reshape(img, [dim, dim, 3])\n",
    "    \n",
    "    return img"
   ]
  },
  {
   "cell_type": "code",
   "execution_count": 11,
   "id": "f3557366",
   "metadata": {},
   "outputs": [],
   "source": [
    "def count_data_items(file_ids):\n",
    "    n = [int(re.compile(r\"-(\\d*)\\.\").search(file_id).group(1)) for file_id in file_ids]\n",
    "    return np.sum(n)"
   ]
  },
  {
   "cell_type": "code",
   "execution_count": 12,
   "id": "4329c11e",
   "metadata": {},
   "outputs": [
    {
     "data": {
      "text/plain": [
       "490000"
      ]
     },
     "execution_count": 12,
     "metadata": {},
     "output_type": "execute_result"
    }
   ],
   "source": [
    "count_data_items(train_files)"
   ]
  },
  {
   "cell_type": "markdown",
   "id": "0f510ac9",
   "metadata": {},
   "source": [
    "### Dataset Creation"
   ]
  },
  {
   "cell_type": "code",
   "execution_count": 13,
   "id": "91abffa8",
   "metadata": {},
   "outputs": [],
   "source": [
    "def get_dataset(files, shuffle = False, repeat = False,\n",
    "               labeled = True, return_image_ids=True, batch_size=16, dim=IMG_SIZES[0]):\n",
    "    ds = tf.data.TFRecordDataset(files, num_parallel_reads = AUTO)\n",
    "    ds = ds.cache()\n",
    "    \n",
    "    if repeat:\n",
    "        ds = ds.repeat()\n",
    "    if shuffle:\n",
    "        ds = ds.shuffle(1024 * 2)\n",
    "        opt = tf.data.Options()\n",
    "        opt.experimental_deterministic = False\n",
    "        ds = ds.with_options(opt)\n",
    "\n",
    "    if labeled:\n",
    "        ds = ds.map(read_labeled_tfrecord, num_parallel_calls = AUTO)\n",
    "    else:\n",
    "        ds = ds.map(lambda example: read_unlabeled_tfrecords(example, return_image_ids),\n",
    "                   num_parallel_calls = AUTO)\n",
    "    ds = ds.batch(batch_size * REPLICAS)\n",
    "    ds = ds.prefetch(AUTO)\n",
    "    return ds"
   ]
  },
  {
   "cell_type": "markdown",
   "id": "ac456eb4",
   "metadata": {},
   "source": [
    "### Build Model"
   ]
  },
  {
   "cell_type": "code",
   "execution_count": 14,
   "id": "27cbfecc",
   "metadata": {},
   "outputs": [],
   "source": [
    "EFNS = [efn.EfficientNetB0, efn.EfficientNetB1, efn.EfficientNetB2, efn.EfficientNetB3,\n",
    "       efn.EfficientNetB4, efn.EfficientNetB5, efn.EfficientNetB6, efn.EfficientNetB7]\n",
    "\n",
    "def build_model(size, ef=0, count=820):\n",
    "    inp = tf.keras.layers.Input(shape = (size, size, 3))\n",
    "    base = EFNS[ef](input_shape = (size, size, 3), weights = \"imagenet\", include_top = False)\n",
    "    \n",
    "    x = base(inp)\n",
    "    \n",
    "    x = tf.keras.layers.GlobalAvgPool2D()(x)\n",
    "    \n",
    "    x = tf.keras.layers.Dropout(0.5)(x)\n",
    "    \n",
    "    x = tf.keras.layers.Dense(1)(x)\n",
    "    x = tf.keras.layers.Activation(\"sigmoid\", dtype=\"float32\")(x)\n",
    "    model = tf.keras.Model(inputs = inp, outputs = x)\n",
    "    lr_decayed_fn = tf.keras.experimental.CosineDecay(\n",
    "        1e-3,\n",
    "        count\n",
    "    )\n",
    "    \n",
    "    opt = tfa.optimizers.AdamW(lr_decayed_fn, learning_rate = 1e-4)\n",
    "    loss = tf.keras.losses.BinaryCrossentropy()\n",
    "    model.compile(optimizer = opt, loss = loss, metrics = [\"AUC\"])\n",
    "    return model"
   ]
  },
  {
   "cell_type": "markdown",
   "id": "8144cc77",
   "metadata": {},
   "source": [
    "### Training"
   ]
  },
  {
   "cell_type": "code",
   "execution_count": 15,
   "id": "0295c4df",
   "metadata": {},
   "outputs": [],
   "source": [
    "def vis_lr_callback(batch_size = 8):\n",
    "    lr_start = 1e-4\n",
    "    lr_max = 0.000015 * REPLICAS * batch_size\n",
    "    lr_min = 1e-5\n",
    "    lr_ramp_ep = 3\n",
    "    lr_sus_ep = 0\n",
    "    lr_decay = 0.7\n",
    "    \n",
    "    def lrfn(epoch):\n",
    "        if epoch < lr_ramp_ep:\n",
    "            lr = (lr_max - lr_start) / lr_ramp_ep * epoch + lr_start\n",
    "            \n",
    "        elif epoch < lr_ramp_ep + lr_sus_ep:\n",
    "            lr = lr_max\n",
    "        \n",
    "        else:\n",
    "            lr = (lr_max - lr_min) * lr_decay**(epoch - lr_ramp_ep - lr_sus_ep) + lr_min\n",
    "        \n",
    "        return lr\n",
    "    plt.figure(figsize = (10,7))\n",
    "    plt.plot([lrfn(i) for i in range(EPOCHS[0])])\n",
    "    plt.show()"
   ]
  },
  {
   "cell_type": "code",
   "execution_count": 16,
   "id": "ff114ca9",
   "metadata": {},
   "outputs": [],
   "source": [
    "def get_lr_callback(batch_size = 8):\n",
    "    lr_start = 1e-5\n",
    "    lr_max = 0.000015 * REPLICAS * batch_size\n",
    "    lr_min = 1e-7\n",
    "    lr_ramp_ep = 3\n",
    "    lr_sus_ep = 0\n",
    "    lr_decay = 0.7\n",
    "    \n",
    "    def lrfn(epoch):\n",
    "        if epoch < lr_ramp_ep:\n",
    "            lr = (lr_max - lr_start) / lr_ramp_ep * epoch + lr_start\n",
    "        elif epoch < lr_ramp_ep + lr_sus_ep:\n",
    "            lr = lr_max\n",
    "        else:\n",
    "            lr = (lr_max - lr_min) * lr_decay**(epoch - lr_ramp_ep - lr_sus_ep) + lr_min\n",
    "        return lr\n",
    "    lr_callback = tf.keras.callbacks.LearningRateScheduler(lrfn, verbose = False)\n",
    "    return lr_callback"
   ]
  },
  {
   "cell_type": "code",
   "execution_count": 17,
   "id": "071e5ae9",
   "metadata": {},
   "outputs": [
    {
     "data": {
      "image/png": "[encoded data removed]",
      "text/plain": [
       "<Figure size 720x504 with 1 Axes>"
      ]
     },
     "metadata": {},
     "output_type": "display_data"
    }
   ],
   "source": [
    "vis_lr_callback(BATCH_SIZES[0])"
   ]
  },
  {
   "cell_type": "code",
   "execution_count": 18,
   "id": "262cad68",
   "metadata": {},
   "outputs": [],
   "source": [
    "skf = KFold(n_splits=KFOLDS, shuffle=True, random_state=RANDOM_SEED)\n",
    "oof_pred = []\n",
    "oof_tar = []\n",
    "oof_val = []\n",
    "oof_f1 = []\n",
    "oof_ids = []\n",
    "oof_folds = []\n",
    "\n",
    "train_files = np.array(train_files)\n",
    "\n"
   ]
  },
  {
   "cell_type": "code",
   "execution_count": null,
   "id": "a4b7c8cf",
   "metadata": {
    "scrolled": true
   },
   "outputs": [
    {
     "name": "stdout",
     "output_type": "stream",
     "text": [
      "######################### #### FOLD 1 #### Image Size: 256 | model: EfficientNetB1 | batch_size: 2 #########################\n",
      "#### Training: 350000 | Validation 140000\n",
      "#########################\n",
      "Training.\n",
      "Epoch 1/2\n"
     ]
    }
   ],
   "source": [
    "for fold, (idxT, idxV) in enumerate(skf.split(train_files)):\n",
    "    files_train = train_files[idxT]\n",
    "    np.random.shuffle(files_train)\n",
    "    files_valid = train_files[idxV]\n",
    "    \n",
    "    print(f\"#\"*25, f\"\"\"#### FOLD {fold + 1} #### Image Size: {IMG_SIZES[fold]} | model: {EFNS[EFF_NETS[fold]].__name__} | batch_size: {BATCH_SIZES[fold]*REPLICAS}\"\"\", \"#\"*25 );\n",
    "    train_images = count_data_items(files_train)\n",
    "    val_images = count_data_items(files_valid)\n",
    "    print(f\"#### Training: {train_images} | Validation {val_images}\")\n",
    "    \n",
    "    # Build Model\n",
    "    K.clear_session()\n",
    "    with strategy.scope():\n",
    "        model = build_model(IMG_SIZES[fold], ef=EFF_NETS[fold],\n",
    "                            count=count_data_items(files_train)/BATCH_SIZES[fold]//REPLICAS//4)\n",
    "        print(\"#\"*25)\n",
    "        # SAVE BEST MODEL EACH FOLD\n",
    "        sv = tf.keras.callbacks.ModelCheckpoint(\n",
    "            f\"fold-{fold}.h5\", monitor=\"val_auc\", verbose=0, save_best_only=True,\n",
    "            save_weights_only=True, mode=\"max\", save_freq=\"epoch\"\n",
    "        )\n",
    "        \n",
    "        # TRAIN\n",
    "        print(\"Training.\")\n",
    "        history = model.fit(\n",
    "            get_dataset(files_train, shuffle=True, repeat=True,\n",
    "                        dim=IMG_SIZES[fold], batch_size=BATCH_SIZES[fold]),\n",
    "                        epochs = EPOCHS[fold],\n",
    "                        callbacks = [sv, get_lr_callback(BATCH_SIZES[fold])],\n",
    "                        steps_per_epoch=count_data_items(files_train)/BATCH_SIZES[fold]//REPLICAS//4,\n",
    "                        validation_data=get_dataset(files_valid, shuffle=False, repeat=False, dim=IMG_SIZES[fold]),\n",
    "                        verbose = 1\n",
    "        )\n",
    "        \n",
    "        print(\"Loading best model\")\n",
    "        model.load_weights(f\"fold-{fold}.h5\")\n",
    "\n",
    "        ds_valid = get_dataset(files_valid, labeled=False, return_image_ids=False,\n",
    "                              repeat=True, shuffle=False, dim=IMG_SIZES[fold], batch_size=BATCH_SIZES[fold]*2)\n",
    "\n",
    "        ct_valid = count_data_items(files_valid)\n",
    "        STEPS = ct_valid/BATCH_SIZES[fold]/2/REPLICAS\n",
    "        pred = model.predict(ds_valid, steps=STEPS, verbose=0)[:ct_valid,]\n",
    "        oof_pred.append(np.mean(pred.reshape((ct_valid, 1), order=\"F\"), axis = 1))\n",
    "\n",
    "\n",
    "        # GET OOF TARGETS AND IDs\n",
    "        ds_valid = get_dataset(files_valid, repeat=False, dim=IMG_SIZES[fold],\n",
    "                              labeled=True, return_image_ids=True)\n",
    "        oof_tar.append(np.array([target.numpy() for img, target in iter(ds_valid.unbatch())]))\n",
    "        \n",
    "        if DISPLAY_PLOT:\n",
    "            plt.figure(figsize=(8,6))\n",
    "            sns.distplot(oof_pred[-1])\n",
    "            plt.show()\n",
    "\n",
    "            plt.figure(figsize=(15,5))\n",
    "            plt.plot(np.arange(len(history.history[\"auc\"])), history.history[\"auc\"], \"-o\", label=\"Train AUC\", color=\"#ff7f0e\")\n",
    "            plt.plot(np.arange(len(history.history[\"auc\"])), history.history[\"val_auc\"], \"-o\", label=\"Val AUC\", color=\"#1f77b4\")\n",
    "            x = np.argmax(history.history[\"val_auc\"])\n",
    "            y = np.max(history.history[\"val_auc\"])\n",
    "            xdist = plt.xlim()[1] - plt.xlim()[0]\n",
    "            ydist = plt.ylim()[1] - plt.ylim()[0]\n",
    "            plt.scatter(x, y, s=200, color=\"#1f77b4\")\n",
    "            plt.text(x-0.03*xdist, y-0.13*ydist, f\"max_auc{y}\", size=14)\n",
    "            plt.ylabel(\"auc\", size=14)\n",
    "            plt.xlabel(\"Epoch\", size=14)\n",
    "            plt.legend(loc=2)\n",
    "\n",
    "            plt2 = plt.gca().twinx()\n",
    "            plt2.plot(np.arange(len(history.history[\"auc\"])), history.history[\"loss\"], \"-o\", label=\"Train Loss\", color = \"#2ca02c\")\n",
    "            plt2.plot(np.arange(len(history.history[\"auc\"])), history.history[\"val_loss\"], \"-o\", label=\"Val Loss\", color = \"#d62728\")\n",
    "            x = np.argmin(history.history[\"val_loss\"])\n",
    "            y = np.min(history.history[\"val_loss\"])\n",
    "            ydist = plt.ylim()[1] - plt.ylim()[0]\n",
    "            plt.scatter(x, y, s=200, color=\"#d62728\")\n",
    "            plt.text(x-0.03*xdist, y+0.05*ydist, \"min loss\")\n",
    "            plt.ylabel(\"Loss\", size=14)\n",
    "            plt.title(f\"FOLD {fold + 1} - Image Size {IMG_SIZES[fold]}, {EFNS[EFF_NETS[fold]].__name__}\")\n",
    "            plt.legent(loc=3)\n",
    "            plt.savefig(f\"fig{fold}.png\")\n",
    "            plt.show()\n"
   ]
  },
  {
   "cell_type": "code",
   "execution_count": null,
   "id": "f447442c",
   "metadata": {},
   "outputs": [],
   "source": [
    "oof = np.concatenate(oof_pred)\n",
    "true = np.concatenate(oof_tar)\n",
    "auc = roc_auc_score(true, oof)\n",
    "print(f\"Overall OOF AUC = {auc}\")"
   ]
  },
  {
   "cell_type": "code",
   "execution_count": null,
   "id": "7e3e25e6",
   "metadata": {},
   "outputs": [],
   "source": [
    "\n",
    "    "
   ]
  }
 ],
 "metadata": {
  "kernelspec": {
   "display_name": "Python 3 (ipykernel)",
   "language": "python",
   "name": "python3"
  },
  "language_info": {
   "codemirror_mode": {
    "name": "ipython",
    "version": 3
   },
   "file_extension": ".py",
   "mimetype": "text/x-python",
   "name": "python",
   "nbconvert_exporter": "python",
   "pygments_lexer": "ipython3",
   "version": "3.7.10"
  }
 },
 "nbformat": 4,
 "nbformat_minor": 5
}
