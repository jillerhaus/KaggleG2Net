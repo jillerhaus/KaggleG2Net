{
 "cells": [
  {
   "cell_type": "markdown",
   "id": "4b65bea7",
   "metadata": {},
   "source": [
    "# Train TPU"
   ]
  },
  {
   "cell_type": "markdown",
   "id": "264f9d7d",
   "metadata": {},
   "source": [
    "## Setup"
   ]
  },
  {
   "cell_type": "markdown",
   "id": "51cccbd5",
   "metadata": {},
   "source": [
    "### System Setup"
   ]
  },
  {
   "cell_type": "markdown",
   "id": "ec048f8c",
   "metadata": {},
   "source": [
    "#### Find out Host System"
   ]
  },
  {
   "cell_type": "code",
   "execution_count": 1,
   "id": "abfcfffa",
   "metadata": {},
   "outputs": [],
   "source": [
    "import socket\n",
    "KAGGLE = True\n",
    "if socket.gethostname() == \"computerfon-linux\":\n",
    "    KAGGLE = False"
   ]
  },
  {
   "cell_type": "markdown",
   "id": "5a5e26aa",
   "metadata": {},
   "source": [
    "#### Imports"
   ]
  },
  {
   "cell_type": "code",
   "execution_count": 19,
   "id": "f1bab333",
   "metadata": {},
   "outputs": [],
   "source": [
    "import numpy as np\n",
    "import pandas as pd\n",
    "import tensorflow as tf\n",
    "from glob import glob"
   ]
  },
  {
   "cell_type": "markdown",
   "id": "ffd62e8f",
   "metadata": {},
   "source": [
    "#### Select Accelerator"
   ]
  },
  {
   "cell_type": "code",
   "execution_count": 12,
   "id": "f5f15a7d",
   "metadata": {},
   "outputs": [],
   "source": [
    "def auto_select_accelerator():\n",
    "    TPU_DETECTED = False\n",
    "    try:\n",
    "        tpu = tf.distribute.cluster_resolver.TPUClusterResolver()\n",
    "        tf.config.experimental_connect_to_cluster(tpu)\n",
    "        tf.tpu.experimental.initialize_tpu_system(tpu)\n",
    "        strategy = tf.distribute.experimental.TPUStrategy(tpu)\n",
    "        print(f\"Running on TPU: {tpu.master()}\")\n",
    "        TPU_DETECTED = True\n",
    "    except ValueError:\n",
    "        strategy = tf.distribute.get_strategy()\n",
    "    num_replicas = strategy.num_replicas_in_sync\n",
    "    print(f\"Running on {num_replicas} replica{'s' if (num_replicas > 1) else ''}\")\n",
    "    return strategy, TPU_DETECTED, num_replicas"
   ]
  },
  {
   "cell_type": "markdown",
   "id": "f2a16c56",
   "metadata": {},
   "source": [
    "## Preparation Code"
   ]
  },
  {
   "cell_type": "markdown",
   "id": "77c5fe41",
   "metadata": {},
   "source": [
    "### PARAMS"
   ]
  },
  {
   "cell_type": "code",
   "execution_count": null,
   "id": "41b7ffd1",
   "metadata": {},
   "outputs": [],
   "source": []
  },
  {
   "cell_type": "code",
   "execution_count": 13,
   "id": "92270d81",
   "metadata": {},
   "outputs": [
    {
     "name": "stdout",
     "output_type": "stream",
     "text": [
      "Running on 1 replica\n"
     ]
    }
   ],
   "source": [
    "strategy, TPU_DETECTED, REPLICAS = auto_select_accelerator()\n",
    "AUTO = tf.data.experimental.AUTOTUNE"
   ]
  },
  {
   "cell_type": "code",
   "execution_count": 22,
   "id": "3162f909",
   "metadata": {},
   "outputs": [
    {
     "name": "stdout",
     "output_type": "stream",
     "text": [
      "['../input/g2net-make-tfrecords-1/train00-35000.tfrec']\n",
      "[]\n",
      "[]\n",
      "[]\n",
      "[]\n",
      "[]\n",
      "[]\n",
      "[]\n",
      "[]\n",
      "[]\n",
      "[]\n",
      "[]\n",
      "[]\n",
      "[]\n",
      "[]\n",
      "[]\n"
     ]
    }
   ],
   "source": [
    "filepaths = []\n",
    "for i in range(16):\n",
    "    dirpath = (f\"../input/g2net-make-tfrecords-{i//2 + 1}\")\n",
    "    print(glob(f\"{dirpath}/train{i:02}-*.tfrec\"))"
   ]
  }
 ],
 "metadata": {
  "kernelspec": {
   "display_name": "Python 3.7.11 64-bit ('g2net-tf': conda)",
   "language": "python",
   "name": "python3711jvsc74a57bd0ebf78a5306c4157b0a687ec44bef5c28c93538631d8c0d936e16095843a78275"
  },
  "language_info": {
   "codemirror_mode": {
    "name": "ipython",
    "version": 3
   },
   "file_extension": ".py",
   "mimetype": "text/x-python",
   "name": "python",
   "nbconvert_exporter": "python",
   "pygments_lexer": "ipython3",
   "version": "3.7.11"
  }
 },
 "nbformat": 4,
 "nbformat_minor": 5
}
