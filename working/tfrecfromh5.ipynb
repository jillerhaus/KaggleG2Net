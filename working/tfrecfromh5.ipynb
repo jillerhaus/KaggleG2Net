{
 "cells": [
  {
   "cell_type": "code",
   "execution_count": 251,
   "id": "52c2026d",
   "metadata": {},
   "outputs": [],
   "source": [
    "import h5py\n",
    "from glob import glob\n",
    "import matplotlib.pyplot as plt\n",
    "import numpy as np\n",
    "import pandas as pd\n",
    "from sklearn.preprocessing import normalize\n",
    "import tensorflow as tf\n",
    "from tqdm.notebook import tqdm"
   ]
  },
  {
   "cell_type": "code",
   "execution_count": 252,
   "id": "9c2156ac",
   "metadata": {},
   "outputs": [
    {
     "name": "stdout",
     "output_type": "stream",
     "text": [
      "<KeysViewHDF5 ['command_line_arguments', 'injection_parameters', 'injection_samples', 'noise_samples', 'normalization_parameters', 'static_arguments']>\n",
      "<KeysViewHDF5 ['event_time', 'h1_strain', 'l1_strain', 'v1_strain']>\n",
      "1185658942.0\n",
      "<KeysViewHDF5 []>\n"
     ]
    },
    {
     "data": {
      "image/png": "[encoded data removed]",
      "text/plain": [
       "<Figure size 432x288 with 1 Axes>"
      ]
     },
     "metadata": {
      "needs_background": "light"
     },
     "output_type": "display_data"
    }
   ],
   "source": [
    "with h5py.File(\"../input/ggwp/output/test1.h5\", \"r\") as f:\n",
    "    print(f.keys())\n",
    "    print(f[\"injection_samples\"].keys())\n",
    "    times = np.array(f[\"injection_samples\"][\"event_time\"])\n",
    "    \n",
    "    injections_shape = f[\"injection_samples\"][\"h1_strain\"].shape\n",
    "    print(f[\"noise_samples\"][\"event_time\"][0])\n",
    "    print(f[\"command_line_arguments\"].keys())\n",
    "    \n",
    "#     targets = np.array(f[\"injection_samples\"])\n",
    "    plt.plot(f[\"injection_samples\"][\"v1_strain\"][0])"
   ]
  },
  {
   "cell_type": "code",
   "execution_count": 253,
   "id": "9100aaec",
   "metadata": {},
   "outputs": [
    {
     "name": "stdout",
     "output_type": "stream",
     "text": [
      "<KeysViewHDF5 ['event_time', 'h1_strain', 'l1_strain', 'v1_strain']>\n",
      "<HDF5 group \"/injection_parameters\" (17 members)>\n"
     ]
    }
   ],
   "source": [
    "with h5py.File(\"../input/ggwp/output/test3.h5\", \"r\") as f:\n",
    "#     injection_samples = \n",
    "    print(f[\"injection_samples\"].keys())\n",
    "    injection_event_times_ = np.array(f[\"injection_samples\"][\"event_time\"])\n",
    "    noise_samples = f[\"noise_samples\"]\n",
    "    print(f[\"injection_parameters\"])\n",
    "    injection_shape = f[\"injection_samples\"][\"h1_strain\"].shape\n",
    "    noise_shape = f[\"noise_samples\"][\"h1_strain\"].shape\n",
    "    injections_h1 = np.array(f[\"injection_samples\"][\"h1_strain\"])\n",
    "    noise_h1 = np.array(f[\"noise_samples\"][\"h1_strain\"])\n",
    "    injections_l1 = np.array(f[\"injection_samples\"][\"l1_strain\"])\n",
    "    noise_l1 = np.array(f[\"noise_samples\"][\"l1_strain\"])\n",
    "    injections_v1 = np.array(f[\"injection_samples\"][\"v1_strain\"])\n",
    "    noise_v1 = np.array(f[\"noise_samples\"][\"v1_strain\"])\n"
   ]
  },
  {
   "cell_type": "code",
   "execution_count": 262,
   "id": "9e17cb88",
   "metadata": {},
   "outputs": [],
   "source": [
    "with h5py.File(\"../input/ggwp/output/test3.h5\", \"r\") as f:\n",
    "    snrs = np.array(f[\"injection_parameters\"][\"v1_snr\"])\n",
    "#     print(f[\"injection_parameters\"][\"l1_snr\"].keys())"
   ]
  },
  {
   "cell_type": "code",
   "execution_count": null,
   "id": "63176e20",
   "metadata": {},
   "outputs": [],
   "source": []
  },
  {
   "cell_type": "code",
   "execution_count": 278,
   "id": "c7cbc507",
   "metadata": {},
   "outputs": [],
   "source": [
    "if injection_shape[1] == noise_shape[1]:\n",
    "    ds_shape = (injection_shape[0] + noise_shape[0], injection_shape[1],3)\n",
    "    targets = np.zeros(ds_shape[0], dtype=np.uint8)\n",
    "    timeseries = np.zeros(ds_shape)\n",
    "    targets[:injection_shape[0]] = 1\n",
    "    targets[injection_shape[0]:] = 0\n",
    "    timeseries[:injection_shape[0],:,0] = injections_h1\n",
    "    timeseries[injection_shape[0]:,:,0] = noise_h1\n",
    "    timeseries[:injection_shape[0],:,1] = injections_l1\n",
    "    timeseries[injection_shape[0]:,:,1] = noise_l1\n",
    "    timeseries[:injection_shape[0],:,2] = injections_v1\n",
    "    timeseries[injection_shape[0]:,:,2] = noise_v1\n",
    "    \n",
    "    \n",
    "for i in range(timeseries.shape[0]):\n",
    "    timeseries[i] /= abs(timeseries[i]).max()    \n",
    "    "
   ]
  },
  {
   "cell_type": "code",
   "execution_count": 265,
   "id": "4071bee1",
   "metadata": {},
   "outputs": [],
   "source": []
  },
  {
   "cell_type": "code",
   "execution_count": 292,
   "id": "ce669313",
   "metadata": {},
   "outputs": [
    {
     "data": {
      "application/vnd.jupyter.widget-view+json": {
       "model_id": "4b9e9db44cc04e659c916302bd096dd5",
       "version_major": 2,
       "version_minor": 0
      },
      "text/plain": [
       "  0%|          | 0/100000 [00:00<?, ?it/s]"
      ]
     },
     "metadata": {},
     "output_type": "display_data"
    }
   ],
   "source": [
    "output_file = \"test00.tfrec\"\n",
    "writer = tf.io.TFRecordWriter(output_file)\n",
    "indices = np.arange(targets.shape[0])\n",
    "np.random.shuffle(indices)\n",
    "\n",
    "for i in tqdm(range(timeseries.shape[0])):\n",
    "    X = timeseries[indices[i]]\n",
    "    y = targets[indices[i]]\n",
    "    feature={}\n",
    "    feature[\"TimeSeries\"] = tf.train.Feature(float_list=tf.train.FloatList(value=X.flatten()))\n",
    "    feature[\"Target\"] = tf.train.Feature(int64_list=tf.train.Int64List(value=[y]))\n",
    "    \n",
    "    example = tf.train.Example(features=tf.train.Features(feature=feature))\n",
    "    serialized = example.SerializeToString()\n",
    "    writer.write(serialized)\n",
    "writer.close()"
   ]
  },
  {
   "cell_type": "code",
   "execution_count": 291,
   "id": "94a6ebdf",
   "metadata": {},
   "outputs": [
    {
     "data": {
      "text/plain": [
       "array([88059, 56895, 38466, ..., 28659, 93351, 71684])"
      ]
     },
     "execution_count": 291,
     "metadata": {},
     "output_type": "execute_result"
    }
   ],
   "source": [
    "indices = np.arange(targets.shape[0])\n",
    "np.random.shuffle(indices)\n",
    "indices"
   ]
  },
  {
   "cell_type": "code",
   "execution_count": 288,
   "id": "378c77a5",
   "metadata": {},
   "outputs": [],
   "source": [
    "np.random.shuffle(np.arange(timeseries.shape[0]))"
   ]
  },
  {
   "cell_type": "code",
   "execution_count": 182,
   "id": "95acdabf",
   "metadata": {},
   "outputs": [
    {
     "ename": "AttributeError",
     "evalue": "'numpy.ndarray' object has no attribute 'axis'",
     "output_type": "error",
     "traceback": [
      "\u001b[1;31m---------------------------------------------------------------------------\u001b[0m",
      "\u001b[1;31mAttributeError\u001b[0m                            Traceback (most recent call last)",
      "\u001b[1;32m~\\AppData\\Local\\Temp/ipykernel_12844/2264526097.py\u001b[0m in \u001b[0;36m<module>\u001b[1;34m\u001b[0m\n\u001b[1;32m----> 1\u001b[1;33m \u001b[0mtimeseries\u001b[0m\u001b[1;33m.\u001b[0m\u001b[0maxis\u001b[0m\u001b[1;33m\u001b[0m\u001b[1;33m\u001b[0m\u001b[0m\n\u001b[0m\u001b[0;32m      2\u001b[0m \u001b[1;31m# abs(timeseries).max(axis=1).max(axis=1)\u001b[0m\u001b[1;33m\u001b[0m\u001b[1;33m\u001b[0m\u001b[1;33m\u001b[0m\u001b[0m\n",
      "\u001b[1;31mAttributeError\u001b[0m: 'numpy.ndarray' object has no attribute 'axis'"
     ]
    }
   ],
   "source": [
    "\n",
    "# abs(timeseries).max(axis=1).max(axis=1) \n"
   ]
  },
  {
   "cell_type": "code",
   "execution_count": 178,
   "id": "72e7c9bb",
   "metadata": {},
   "outputs": [
    {
     "data": {
      "text/plain": [
       "(6400, 4096, 3)"
      ]
     },
     "execution_count": 178,
     "metadata": {},
     "output_type": "execute_result"
    }
   ],
   "source": []
  }
 ],
 "metadata": {
  "kernelspec": {
   "display_name": "Python 3 (ipykernel)",
   "language": "python",
   "name": "python3"
  },
  "language_info": {
   "codemirror_mode": {
    "name": "ipython",
    "version": 3
   },
   "file_extension": ".py",
   "mimetype": "text/x-python",
   "name": "python",
   "nbconvert_exporter": "python",
   "pygments_lexer": "ipython3",
   "version": "3.7.10"
  }
 },
 "nbformat": 4,
 "nbformat_minor": 5
}
