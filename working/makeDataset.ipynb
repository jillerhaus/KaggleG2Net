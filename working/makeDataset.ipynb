{
 "cells": [
  {
   "cell_type": "code",
   "execution_count": 5,
   "id": "c013bc9a",
   "metadata": {},
   "outputs": [],
   "source": [
    "import tensorflow as tf\n",
    "import pandas as pd\n",
    "import numpy as np\n",
    "from glob import glob\n",
    "from multiprocessing import Process"
   ]
  },
  {
   "cell_type": "code",
   "execution_count": 2,
   "id": "9e34830f",
   "metadata": {},
   "outputs": [],
   "source": [
    "INPUT_DIR = \"../input/g2net-gravitational-wave-detection\"\n",
    "train_df = pd.read_csv(f\"{INPUT_DIR}/training_labels_paths.csv\")\n",
    "test_df = pd.read_csv(f\"{INPUT_DIR}/test_paths.csv\")\n",
    "savedir = \"../input/whitened-tfrec\""
   ]
  },
  {
   "cell_type": "code",
   "execution_count": 3,
   "id": "570f7616",
   "metadata": {},
   "outputs": [],
   "source": [
    "import gwpy\n",
    "from gwpy.timeseries import TimeSeries\n",
    "from scipy.cluster.vq import whiten\n",
    "from gwpy.signal import filter_design\n",
    "from tqdm.notebook import tqdm\n",
    "import matplotlib.pyplot as plt\n",
    "%matplotlib inline\n",
    "\n",
    "def save_files(rg_n, df=train_df):\n",
    "    all_data_x = np.zeros([len(rg_n),4096,3], dtype=np.float32)\n",
    "    all_data_y = np.zeros(len(rg_n), dtype=np.uint8)\n",
    "    filts=[]\n",
    "    for j in range(3):\n",
    "        bp = filter_design.bandpass(50,550, 2048)\n",
    "        if j == 2:\n",
    "            notch_freqs = (50, 100, 150)\n",
    "        else:\n",
    "            notch_freqs = (60, 120, 180)\n",
    "        notches = [filter_design.notch(line, 2048) for line in notch_freqs]\n",
    "        zpk = filter_design.concatenate_zpks(bp, *notches)\n",
    "        filts.append(zpk)\n",
    "    print(rg_n)\n",
    "    slc = df.iloc[rg_n]\n",
    "    print(slc.head())\n",
    "    ids = []\n",
    "\n",
    "    for index in tqdm(range(slc.shape[0])):\n",
    "        pth, ident, target = slc.iloc[index][[\"path\", \"id\", \"target\"]]\n",
    "        ids.append(ident)\n",
    "        all_data_y[index] = target \n",
    "        ts_data = np.load(pth)\n",
    "\n",
    "        for i in range(3):\n",
    "            measurement = ts_data[i]\n",
    "            ts = TimeSeries(measurement, sample_rate=2048)\n",
    "            \n",
    "            \n",
    "            zpk = filts[i]\n",
    "#             ts = ts.filter(zpk, filtfilt=True)\n",
    "            ts = ts.whiten(0.5, 0.25)\n",
    "            ts_data[i] = np.array(ts)\n",
    "\n",
    "        ts_data = np.transpose(ts_data, [1,0])\n",
    "        ts_data /= abs(ts_data).max()\n",
    "#         ts_data = ts_data * -1\n",
    "        ts_data = ts_data.astype(np.float32)\n",
    "        all_data_x[index] = ts_data\n",
    "        \n",
    "        \n",
    "    return all_data_x, all_data_y, ids"
   ]
  },
  {
   "cell_type": "code",
   "execution_count": 8,
   "id": "2869b077",
   "metadata": {
    "scrolled": true
   },
   "outputs": [],
   "source": [
    " \n",
    "\n",
    "def make_tfrec_train(batches, batch_size): \n",
    "    for i in tqdm(range(batches)):\n",
    "        rg_n = range(i*batch_size,(i+1)*batch_size)\n",
    "        output_file = f\"{savedir}/train_whitened_{i:02}.tfrec\"\n",
    "        if glob(output_file) != []:\n",
    "            print(f\"skipping {i}\")\n",
    "            continue\n",
    "        else:\n",
    "            print(f\"doing {i}\")\n",
    "    #         rng = (range(i * batch_size, (i+1)*batch_size))\n",
    "            tr_x, tr_y, ids = save_files(rg_n, train_df)\n",
    "            writer = tf.io.TFRecordWriter(output_file)\n",
    "            for i in tqdm(range(tr_x.shape[0])):\n",
    "                X = tr_x[i]\n",
    "                y = tr_y[i]\n",
    "                ident = str.encode(ids[i])\n",
    "\n",
    "                # Feature contains a map of string to feature proto objects\n",
    "                feature = {}\n",
    "                feature[\"TimeSeries\"] = tf.train.Feature(float_list=tf.train.FloatList(value=X.flatten()))\n",
    "                feature[\"id\"] = tf.train.Feature(bytes_list=tf.train.BytesList(value=[ident]))\n",
    "                feature[\"Target\"] = tf.train.Feature(int64_list=tf.train.Int64List(value=[y]))\n",
    "\n",
    "                #contruct the Example proto object\n",
    "                example = tf.train.Example(features=tf.train.Features(feature=feature))\n",
    "                serialized = example.SerializeToString()\n",
    "\n",
    "                # write the serialized object to disk\n",
    "                writer.write(serialized)\n",
    "            writer.close()"
   ]
  },
  {
   "cell_type": "code",
   "execution_count": 10,
   "id": "2959a347",
   "metadata": {},
   "outputs": [],
   "source": [
    "batches = 16\n",
    "batch_size = train_df.shape[0] // batches\n",
    "if __name__ == \"__main__\":\n",
    "    for _ in range(batches):\n",
    "        p = Process(target=make_tfrec_train, args = (batches, batch_size))\n",
    "        p.start()\n",
    "        p.join()\n",
    "else:\n",
    "    print(\"name not main\")"
   ]
  },
  {
   "cell_type": "code",
   "execution_count": 11,
   "id": "77797254",
   "metadata": {},
   "outputs": [
    {
     "data": {
      "application/vnd.jupyter.widget-view+json": {
       "model_id": "5031701b712a47518077d5d0b8747559",
       "version_major": 2,
       "version_minor": 0
      },
      "text/plain": [
       "  0%|          | 0/1 [00:00<?, ?it/s]"
      ]
     },
     "metadata": {},
     "output_type": "display_data"
    },
    {
     "name": "stdout",
     "output_type": "stream",
     "text": [
      "doing 0\n",
      "range(0, 226000)\n",
      "           id  target                                               path\n",
      "0  00005bced6     0.5  ../input/g2net-gravitational-wave-detection/te...\n",
      "1  0000806717     0.5  ../input/g2net-gravitational-wave-detection/te...\n",
      "2  0000ef4fe1     0.5  ../input/g2net-gravitational-wave-detection/te...\n",
      "3  00020de251     0.5  ../input/g2net-gravitational-wave-detection/te...\n",
      "4  00024887b5     0.5  ../input/g2net-gravitational-wave-detection/te...\n"
     ]
    },
    {
     "data": {
      "application/vnd.jupyter.widget-view+json": {
       "model_id": "a5652057787d49c483cab06d0d6ffc52",
       "version_major": 2,
       "version_minor": 0
      },
      "text/plain": [
       "  0%|          | 0/226000 [00:00<?, ?it/s]"
      ]
     },
     "metadata": {},
     "output_type": "display_data"
    },
    {
     "data": {
      "application/vnd.jupyter.widget-view+json": {
       "model_id": "e748f08d81cf41eabba0ad82504b8a24",
       "version_major": 2,
       "version_minor": 0
      },
      "text/plain": [
       "  0%|          | 0/226000 [00:00<?, ?it/s]"
      ]
     },
     "metadata": {},
     "output_type": "display_data"
    },
    {
     "ename": "AttributeError",
     "evalue": "module 'tensorflow._api.v2.train' has no attribute 'feature'",
     "output_type": "error",
     "traceback": [
      "\u001b[1;31m---------------------------------------------------------------------------\u001b[0m",
      "\u001b[1;31mAttributeError\u001b[0m                            Traceback (most recent call last)",
      "\u001b[1;32m~\\AppData\\Local\\Temp/ipykernel_17756/2810174290.py\u001b[0m in \u001b[0;36m<module>\u001b[1;34m\u001b[0m\n\u001b[0;32m     19\u001b[0m             \u001b[0mfeature\u001b[0m \u001b[1;33m=\u001b[0m \u001b[1;33m{\u001b[0m\u001b[1;33m}\u001b[0m\u001b[1;33m\u001b[0m\u001b[1;33m\u001b[0m\u001b[0m\n\u001b[0;32m     20\u001b[0m             \u001b[0mfeature\u001b[0m\u001b[1;33m[\u001b[0m\u001b[1;34m\"TimeSeries\"\u001b[0m\u001b[1;33m]\u001b[0m \u001b[1;33m=\u001b[0m \u001b[0mtf\u001b[0m\u001b[1;33m.\u001b[0m\u001b[0mtrain\u001b[0m\u001b[1;33m.\u001b[0m\u001b[0mFeature\u001b[0m\u001b[1;33m(\u001b[0m\u001b[0mfloat_list\u001b[0m\u001b[1;33m=\u001b[0m\u001b[0mtf\u001b[0m\u001b[1;33m.\u001b[0m\u001b[0mtrain\u001b[0m\u001b[1;33m.\u001b[0m\u001b[0mFloatList\u001b[0m\u001b[1;33m(\u001b[0m\u001b[0mvalue\u001b[0m\u001b[1;33m=\u001b[0m\u001b[0mX\u001b[0m\u001b[1;33m.\u001b[0m\u001b[0mflatten\u001b[0m\u001b[1;33m(\u001b[0m\u001b[1;33m)\u001b[0m\u001b[1;33m)\u001b[0m\u001b[1;33m)\u001b[0m\u001b[1;33m\u001b[0m\u001b[1;33m\u001b[0m\u001b[0m\n\u001b[1;32m---> 21\u001b[1;33m             \u001b[0mfeature\u001b[0m\u001b[1;33m[\u001b[0m\u001b[1;34m\"id\"\u001b[0m\u001b[1;33m]\u001b[0m \u001b[1;33m=\u001b[0m \u001b[0mtf\u001b[0m\u001b[1;33m.\u001b[0m\u001b[0mtrain\u001b[0m\u001b[1;33m.\u001b[0m\u001b[0mfeature\u001b[0m\u001b[1;33m(\u001b[0m\u001b[0mbytes_list\u001b[0m\u001b[1;33m=\u001b[0m\u001b[0mtf\u001b[0m\u001b[1;33m.\u001b[0m\u001b[0mtrain\u001b[0m\u001b[1;33m.\u001b[0m\u001b[0mBytesList\u001b[0m\u001b[1;33m(\u001b[0m\u001b[0mvalue\u001b[0m\u001b[1;33m=\u001b[0m\u001b[1;33m[\u001b[0m\u001b[0mident\u001b[0m\u001b[1;33m]\u001b[0m\u001b[1;33m)\u001b[0m\u001b[1;33m)\u001b[0m\u001b[1;33m\u001b[0m\u001b[1;33m\u001b[0m\u001b[0m\n\u001b[0m\u001b[0;32m     22\u001b[0m \u001b[1;33m\u001b[0m\u001b[0m\n\u001b[0;32m     23\u001b[0m             \u001b[1;31m#contruct the Example proto object\u001b[0m\u001b[1;33m\u001b[0m\u001b[1;33m\u001b[0m\u001b[1;33m\u001b[0m\u001b[0m\n",
      "\u001b[1;31mAttributeError\u001b[0m: module 'tensorflow._api.v2.train' has no attribute 'feature'"
     ]
    }
   ],
   "source": [
    "batches = 1\n",
    "batch_size = test_df.shape[0] // batches\n",
    "for i in tqdm(range(batches)):\n",
    "    rg_n = range(i*batch_size,(i+1)*batch_size)\n",
    "    output_file = f\"{savedir}/test_whitened_{i:02}.tfrec\"\n",
    "    if glob(output_file) != []:\n",
    "        print(f\"skipping {i}\")\n",
    "        continue\n",
    "    else:\n",
    "        print(f\"doing {i}\")\n",
    "#         rng = (range(i * batch_size, (i+1)*batch_size))\n",
    "        tr_x, tr_y, ids = save_files(rg_n, test_df)\n",
    "#         tr_x = test[rg_n]\n",
    "        writer = tf.io.TFRecordWriter(output_file)\n",
    "        for i in tqdm(range(tr_x.shape[0])):\n",
    "            X = tr_x[i]\n",
    "\n",
    "            # Feature contains a map of string to feature proto objects\n",
    "            feature = {}\n",
    "            feature[\"TimeSeries\"] = tf.train.Feature(float_list=tf.train.FloatList(value=X.flatten()))\n",
    "            feature[\"id\"] = tf.train.Feature(bytes_list=tf.train.BytesList(value=[ident]))\n",
    "\n",
    "            #contruct the Example proto object\n",
    "            example = tf.train.Example(features=tf.train.Features(feature=feature))\n",
    "            serialized = example.SerializeToString()\n",
    "\n",
    "            # write the serialized object to disk\n",
    "            writer.write(serialized)\n",
    "        writer.close()"
   ]
  },
  {
   "cell_type": "code",
   "execution_count": null,
   "id": "a70aa939",
   "metadata": {},
   "outputs": [],
   "source": [
    "test = tr_x\n",
    "test.shape"
   ]
  }
 ],
 "metadata": {
  "kernelspec": {
   "display_name": "Python 3 (ipykernel)",
   "language": "python",
   "name": "python3"
  },
  "language_info": {
   "codemirror_mode": {
    "name": "ipython",
    "version": 3
   },
   "file_extension": ".py",
   "mimetype": "text/x-python",
   "name": "python",
   "nbconvert_exporter": "python",
   "pygments_lexer": "ipython3",
   "version": "3.7.10"
  }
 },
 "nbformat": 4,
 "nbformat_minor": 5
}
