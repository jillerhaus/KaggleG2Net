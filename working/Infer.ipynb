{
 "cells": [
  {
   "cell_type": "markdown",
   "id": "da52bac7",
   "metadata": {},
   "source": [
    "## Setup"
   ]
  },
  {
   "cell_type": "code",
   "execution_count": 37,
   "id": "f35bda7e",
   "metadata": {},
   "outputs": [],
   "source": [
    "import os\n",
    "os.environ[\"CUDA_VISIBLE_DEVICES\"] = \"1\"\n",
    "\n",
    "# General\n",
    "from glob import glob\n",
    "import numpy as np\n",
    "import pandas as pd\n",
    "\n",
    "# Machine Learning\n",
    "from sklearn.metrics import roc_auc_score\n",
    "\n",
    "# Deep Learning\n",
    "import tensorflow_addons as tfa\n",
    "import tensorflow as tf\n",
    "from tensorflow import keras\n",
    "import tensorflow.keras.backend as K\n",
    "\n",
    "# Plotting\n",
    "import matplotlib.pyplot as plt\n",
    "\n",
    "%matplotlib inline\n",
    "import seaborn as sns\n"
   ]
  },
  {
   "cell_type": "markdown",
   "id": "6ef7d83d",
   "metadata": {},
   "source": [
    "## PARAMS"
   ]
  },
  {
   "cell_type": "code",
   "execution_count": 2,
   "id": "3111c692",
   "metadata": {},
   "outputs": [],
   "source": [
    "INPUT_DIR = \"../input/g2net-gravitational-wave-detection\"\n",
    "MODELS_DIR = \"../models/\""
   ]
  },
  {
   "cell_type": "code",
   "execution_count": 83,
   "id": "b830e970",
   "metadata": {},
   "outputs": [],
   "source": [
    "# Load model\n",
    "model_version = 242\n",
    "MODEL_DIR = f\"{MODELS_DIR}/models_v{model_version:03}\"\n",
    "model = keras.models.load_model(f\"{MODEL_DIR}/model_{model_version:03}.h5\")"
   ]
  },
  {
   "cell_type": "raw",
   "id": "4a4c5043",
   "metadata": {},
   "source": [
    "# Load model\n",
    "#model = keras.models.load_model(\"model1.h5\")\n",
    "# load training set\n",
    "train_x = np.load(f\"{INPUT_DIR}/train_x.npy\")\n",
    "train_y = np.load(f\"{INPUT_DIR}/train_y.npy\")\n",
    "\n",
    "def batchwise_prediction(ds, batches = 8):\n",
    "    batch_size = ds.shape[0] // batches\n",
    "    results = np.zeros(ds.shape[0], dtype=np.float32)\n",
    "    for i in range (batches):\n",
    "        print(i)\n",
    "        rng = range(i * batch_size, (i+1)* batch_size)\n",
    "        results[rng] = model.predict(ds[rng])[:,0]\n",
    "        \n",
    "    return results\n",
    "results = batchwise_prediction(train_x, batches = 16)"
   ]
  },
  {
   "cell_type": "code",
   "execution_count": 68,
   "id": "345f94be",
   "metadata": {},
   "outputs": [],
   "source": [
    "def load_dataset(files, labels=False):\n",
    "    dataset = tf.data.TFRecordDataset(files, num_parallel_reads=None)\n",
    "\n",
    "    def _parse_function(example_proto):\n",
    "        if labels:\n",
    "            keys_to_feature = {\n",
    "                \"TimeSeries\": tf.io.FixedLenFeature(([4096,3]), tf.float32),\n",
    "                \"Target\": tf.io.FixedLenFeature((), tf.int64, default_value=0)\n",
    "            }\n",
    "        else:\n",
    "            keys_to_feature = {\n",
    "                \"TimeSeries\": tf.io.FixedLenFeature(([4096,3]), tf.float32)\n",
    "            }\n",
    "        parsed_features = tf.io.parse_single_example(example_proto, keys_to_feature)\n",
    "\n",
    "        return parsed_features[\"TimeSeries\"], parsed_features[\"Target\"] if labels else parsed_features[\"TimeSeries\"]\n",
    "    \n",
    "    # parse the record into tensors\n",
    "    dataset = dataset.map(_parse_function)\n",
    "    \n",
    "#     shuffle the dataset\n",
    "    if labels:\n",
    "        dataset = dataset.shuffle(buffer_size=10000)\n",
    "        # Repeat the input infinitely\n",
    "#         dataset = dataset.repeat()\n",
    "        \n",
    "#     gernerate batches\n",
    "    dataset = dataset.batch(256)\n",
    "    dataset = dataset.prefetch(-1)\n",
    "\n",
    "    return dataset"
   ]
  },
  {
   "cell_type": "code",
   "execution_count": 84,
   "id": "8c9841ec",
   "metadata": {},
   "outputs": [],
   "source": [
    "test_ds = load_dataset(\"./train_250_Mpc.tfrec\")"
   ]
  },
  {
   "cell_type": "raw",
   "id": "900b2593",
   "metadata": {},
   "source": [
    "test_ds = load_dataset(\"../input/filtered_whitened_tfrec/test.tfrec\")\n",
    "test_ds2 = load_dataset(\"../input/filtered_whitened_tfrec/test_inv_0.tfrec\")"
   ]
  },
  {
   "cell_type": "code",
   "execution_count": 85,
   "id": "32800859",
   "metadata": {},
   "outputs": [],
   "source": [
    "predictions = model.predict(test_ds)"
   ]
  },
  {
   "cell_type": "code",
   "execution_count": 86,
   "id": "2dfd2958",
   "metadata": {
    "scrolled": true
   },
   "outputs": [
    {
     "name": "stderr",
     "output_type": "stream",
     "text": [
      "C:\\Users\\apist\\anaconda3\\envs\\g2net-tf\\lib\\site-packages\\seaborn\\distributions.py:2619: FutureWarning: `distplot` is a deprecated function and will be removed in a future version. Please adapt your code to use either `displot` (a figure-level function with similar flexibility) or `histplot` (an axes-level function for histograms).\n",
      "  warnings.warn(msg, FutureWarning)\n"
     ]
    },
    {
     "data": {
      "text/plain": [
       "<AxesSubplot:ylabel='Density'>"
      ]
     },
     "execution_count": 86,
     "metadata": {},
     "output_type": "execute_result"
    },
    {
     "data": {
      "image/png": "[encoded data removed]",
      "text/plain": [
       "<Figure size 432x288 with 1 Axes>"
      ]
     },
     "metadata": {
      "needs_background": "light"
     },
     "output_type": "display_data"
    }
   ],
   "source": [
    "sns.distplot(predictions)"
   ]
  },
  {
   "cell_type": "code",
   "execution_count": 87,
   "id": "c136d526",
   "metadata": {},
   "outputs": [
    {
     "data": {
      "text/plain": [
       "array([[1.       ],\n",
       "       [0.9853279],\n",
       "       [1.       ],\n",
       "       ...,\n",
       "       [0.5974317],\n",
       "       [0.7178038],\n",
       "       [0.7178038]], dtype=float32)"
      ]
     },
     "execution_count": 87,
     "metadata": {},
     "output_type": "execute_result"
    }
   ],
   "source": [
    "predictions"
   ]
  },
  {
   "cell_type": "code",
   "execution_count": 80,
   "id": "d61dd78a",
   "metadata": {},
   "outputs": [],
   "source": []
  },
  {
   "cell_type": "code",
   "execution_count": 88,
   "id": "d7d30167",
   "metadata": {},
   "outputs": [
    {
     "data": {
      "text/plain": [
       "0.8818956602000001"
      ]
     },
     "execution_count": 88,
     "metadata": {},
     "output_type": "execute_result"
    }
   ],
   "source": [
    "musterlösung = np.zeros(predictions.shape[0], dtype=np.uint8)\n",
    "musterlösung[:predictions.shape[0]//2] = 1\n",
    "musterlösung\n",
    "roc_auc_score(musterlösung, predictions)"
   ]
  },
  {
   "cell_type": "code",
   "execution_count": 17,
   "id": "24a5a6a0",
   "metadata": {},
   "outputs": [],
   "source": [
    "K.clear_session()"
   ]
  },
  {
   "cell_type": "code",
   "execution_count": 10,
   "id": "23478d28",
   "metadata": {},
   "outputs": [
    {
     "name": "stdout",
     "output_type": "stream",
     "text": [
      "0\n",
      "1\n",
      "2\n",
      "3\n"
     ]
    }
   ],
   "source": [
    "test_x = np.load(f\"{INPUT_DIR}/test_x.npy\")\n",
    "test_x.shape\n",
    "results_test = batchwise_prediction(test_x, 4)"
   ]
  },
  {
   "cell_type": "code",
   "execution_count": 11,
   "id": "4cc23511",
   "metadata": {},
   "outputs": [
    {
     "data": {
      "text/plain": [
       "0.6453767455082405"
      ]
     },
     "execution_count": 11,
     "metadata": {},
     "output_type": "execute_result"
    }
   ],
   "source": [
    "roc_auc_score(train_y, results)"
   ]
  },
  {
   "cell_type": "code",
   "execution_count": 20,
   "id": "f9d6c1bd",
   "metadata": {},
   "outputs": [],
   "source": [
    "sub = pd.read_csv(f\"{INPUT_DIR}/sample_submission.csv\")\n",
    "sub.target = predictions\n"
   ]
  },
  {
   "cell_type": "code",
   "execution_count": 13,
   "id": "37e36d1e",
   "metadata": {},
   "outputs": [
    {
     "data": {
      "text/plain": [
       "1.0"
      ]
     },
     "execution_count": 13,
     "metadata": {},
     "output_type": "execute_result"
    }
   ],
   "source": [
    "# results_test[np.isnan(results_test)] = 1\n",
    "results.max()"
   ]
  },
  {
   "cell_type": "code",
   "execution_count": 21,
   "id": "c2a17bb2",
   "metadata": {},
   "outputs": [],
   "source": [
    "sub.to_csv(\"submission1.csv\", index=False)"
   ]
  },
  {
   "cell_type": "code",
   "execution_count": null,
   "id": "b65b5b36",
   "metadata": {},
   "outputs": [],
   "source": []
  }
 ],
 "metadata": {
  "kernelspec": {
   "display_name": "Python 3 (ipykernel)",
   "language": "python",
   "name": "python3"
  },
  "language_info": {
   "codemirror_mode": {
    "name": "ipython",
    "version": 3
   },
   "file_extension": ".py",
   "mimetype": "text/x-python",
   "name": "python",
   "nbconvert_exporter": "python",
   "pygments_lexer": "ipython3",
   "version": "3.7.10"
  }
 },
 "nbformat": 4,
 "nbformat_minor": 5
}
